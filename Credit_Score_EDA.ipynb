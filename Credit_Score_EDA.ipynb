{
 "cells": [
  {
   "cell_type": "code",
   "execution_count": 1,
   "id": "882478ce",
   "metadata": {},
   "outputs": [],
   "source": [
    "✅Veri toplama: Kredi başvuru formlarından verilerin toplanması gerekir. Bu veriler, kişisel bilgiler (yaş, cinsiyet, eğitim, iş, gelir vb.), kredi geçmişi (örneğin, geçmiş kredi ödemeleri, açık krediler, borçlar vb.) ve diğer önemli faktörleri (örneğin, ev sahipliği, araba sahipliği, evli mi vb.) içerebilir.\n",
    "\n",
    "▶️Veri temizleme: Toplanan verilerin doğruluğunu ve tamamını kontrol etmek gerekir. Eksik veriler tamamlanmalı veya veri setinden çıkarılmalıdır.\n",
    "\n",
    "Veri ön işleme: Veri setindeki verilerin sayısal verilere dönüştürülmesi gerekir. Bu, etiketlenmemiş verileri sınıflandırma modelleri tarafından kullanılabilir hale getirecektir.\n",
    "\n",
    "Modellerin eğitilmesi: Veri seti, eğitim ve test verilerine ayrılmalıdır. Eğitim verileri kullanılarak birkaç sınıflandırma algoritması (örneğin, K-NN, Random Forest, Naive Bayes vb.) eğitilmelidir.\n",
    "\n",
    "Modellerin değerlendirilmesi: Eğitilen modeller, test verileri kullanılarak değerlendirilmelidir. Değerlendirme metrikleri (örneğin, doğruluk, F1 skoru, ROC eğrisi vb.) kullanılarak modellerin performansları karşılaştırılmalıdır.\n",
    "\n",
    "En iyi modelin seçimi: En yüksek performans gösteren model seçilmelidir.\n",
    "\n",
    "Uygulama: Seçilen model, gerçek veriler üzerinde uygulanmalı ve kredi başvurularının riskli veya güvenli olarak sınıflandırılması yapılmalıdır."
   ]
  },
  {
   "cell_type": "code",
   "execution_count": 121,
   "id": "a8aa5171",
   "metadata": {},
   "outputs": [],
   "source": [
    "import pandas as pd\n",
    "import numpy as np\n",
    "import scipy.stats as stats "
   ]
  },
  {
   "cell_type": "markdown",
   "id": "3f11a813",
   "metadata": {},
   "source": [
    "# Data"
   ]
  },
  {
   "cell_type": "code",
   "execution_count": 2,
   "id": "92925b5a",
   "metadata": {},
   "outputs": [],
   "source": [
    "df_original_train = pd.read_csv('/Users/beyazituysal/Downloads/archive/train.csv',low_memory=False)\n",
    "df_original_test = pd.read_csv('/Users/beyazituysal/Downloads/archive/test.csv')"
   ]
  },
  {
   "cell_type": "markdown",
   "id": "fdb566bd",
   "metadata": {},
   "source": [
    "### Understanding Data"
   ]
  },
  {
   "cell_type": "code",
   "execution_count": 3,
   "id": "6d30510c",
   "metadata": {},
   "outputs": [
    {
     "data": {
      "text/html": [
       "<div>\n",
       "<style scoped>\n",
       "    .dataframe tbody tr th:only-of-type {\n",
       "        vertical-align: middle;\n",
       "    }\n",
       "\n",
       "    .dataframe tbody tr th {\n",
       "        vertical-align: top;\n",
       "    }\n",
       "\n",
       "    .dataframe thead th {\n",
       "        text-align: right;\n",
       "    }\n",
       "</style>\n",
       "<table border=\"1\" class=\"dataframe\">\n",
       "  <thead>\n",
       "    <tr style=\"text-align: right;\">\n",
       "      <th></th>\n",
       "      <th>ID</th>\n",
       "      <th>Customer_ID</th>\n",
       "      <th>Month</th>\n",
       "      <th>Name</th>\n",
       "      <th>Age</th>\n",
       "      <th>SSN</th>\n",
       "      <th>Occupation</th>\n",
       "      <th>Annual_Income</th>\n",
       "      <th>Monthly_Inhand_Salary</th>\n",
       "      <th>Num_Bank_Accounts</th>\n",
       "      <th>...</th>\n",
       "      <th>Credit_Mix</th>\n",
       "      <th>Outstanding_Debt</th>\n",
       "      <th>Credit_Utilization_Ratio</th>\n",
       "      <th>Credit_History_Age</th>\n",
       "      <th>Payment_of_Min_Amount</th>\n",
       "      <th>Total_EMI_per_month</th>\n",
       "      <th>Amount_invested_monthly</th>\n",
       "      <th>Payment_Behaviour</th>\n",
       "      <th>Monthly_Balance</th>\n",
       "      <th>Credit_Score</th>\n",
       "    </tr>\n",
       "  </thead>\n",
       "  <tbody>\n",
       "    <tr>\n",
       "      <th>0</th>\n",
       "      <td>0x1602</td>\n",
       "      <td>CUS_0xd40</td>\n",
       "      <td>January</td>\n",
       "      <td>Aaron Maashoh</td>\n",
       "      <td>23</td>\n",
       "      <td>821-00-0265</td>\n",
       "      <td>Scientist</td>\n",
       "      <td>19114.12</td>\n",
       "      <td>1824.843333</td>\n",
       "      <td>3</td>\n",
       "      <td>...</td>\n",
       "      <td>_</td>\n",
       "      <td>809.98</td>\n",
       "      <td>26.822620</td>\n",
       "      <td>22 Years and 1 Months</td>\n",
       "      <td>No</td>\n",
       "      <td>49.574949</td>\n",
       "      <td>80.41529543900253</td>\n",
       "      <td>High_spent_Small_value_payments</td>\n",
       "      <td>312.49408867943663</td>\n",
       "      <td>Good</td>\n",
       "    </tr>\n",
       "    <tr>\n",
       "      <th>1</th>\n",
       "      <td>0x1603</td>\n",
       "      <td>CUS_0xd40</td>\n",
       "      <td>February</td>\n",
       "      <td>Aaron Maashoh</td>\n",
       "      <td>23</td>\n",
       "      <td>821-00-0265</td>\n",
       "      <td>Scientist</td>\n",
       "      <td>19114.12</td>\n",
       "      <td>NaN</td>\n",
       "      <td>3</td>\n",
       "      <td>...</td>\n",
       "      <td>Good</td>\n",
       "      <td>809.98</td>\n",
       "      <td>31.944960</td>\n",
       "      <td>NaN</td>\n",
       "      <td>No</td>\n",
       "      <td>49.574949</td>\n",
       "      <td>118.28022162236736</td>\n",
       "      <td>Low_spent_Large_value_payments</td>\n",
       "      <td>284.62916249607184</td>\n",
       "      <td>Good</td>\n",
       "    </tr>\n",
       "    <tr>\n",
       "      <th>2</th>\n",
       "      <td>0x1604</td>\n",
       "      <td>CUS_0xd40</td>\n",
       "      <td>March</td>\n",
       "      <td>Aaron Maashoh</td>\n",
       "      <td>-500</td>\n",
       "      <td>821-00-0265</td>\n",
       "      <td>Scientist</td>\n",
       "      <td>19114.12</td>\n",
       "      <td>NaN</td>\n",
       "      <td>3</td>\n",
       "      <td>...</td>\n",
       "      <td>Good</td>\n",
       "      <td>809.98</td>\n",
       "      <td>28.609352</td>\n",
       "      <td>22 Years and 3 Months</td>\n",
       "      <td>No</td>\n",
       "      <td>49.574949</td>\n",
       "      <td>81.699521264648</td>\n",
       "      <td>Low_spent_Medium_value_payments</td>\n",
       "      <td>331.2098628537912</td>\n",
       "      <td>Good</td>\n",
       "    </tr>\n",
       "    <tr>\n",
       "      <th>3</th>\n",
       "      <td>0x1605</td>\n",
       "      <td>CUS_0xd40</td>\n",
       "      <td>April</td>\n",
       "      <td>Aaron Maashoh</td>\n",
       "      <td>23</td>\n",
       "      <td>821-00-0265</td>\n",
       "      <td>Scientist</td>\n",
       "      <td>19114.12</td>\n",
       "      <td>NaN</td>\n",
       "      <td>3</td>\n",
       "      <td>...</td>\n",
       "      <td>Good</td>\n",
       "      <td>809.98</td>\n",
       "      <td>31.377862</td>\n",
       "      <td>22 Years and 4 Months</td>\n",
       "      <td>No</td>\n",
       "      <td>49.574949</td>\n",
       "      <td>199.4580743910713</td>\n",
       "      <td>Low_spent_Small_value_payments</td>\n",
       "      <td>223.45130972736786</td>\n",
       "      <td>Good</td>\n",
       "    </tr>\n",
       "    <tr>\n",
       "      <th>4</th>\n",
       "      <td>0x1606</td>\n",
       "      <td>CUS_0xd40</td>\n",
       "      <td>May</td>\n",
       "      <td>Aaron Maashoh</td>\n",
       "      <td>23</td>\n",
       "      <td>821-00-0265</td>\n",
       "      <td>Scientist</td>\n",
       "      <td>19114.12</td>\n",
       "      <td>1824.843333</td>\n",
       "      <td>3</td>\n",
       "      <td>...</td>\n",
       "      <td>Good</td>\n",
       "      <td>809.98</td>\n",
       "      <td>24.797347</td>\n",
       "      <td>22 Years and 5 Months</td>\n",
       "      <td>No</td>\n",
       "      <td>49.574949</td>\n",
       "      <td>41.420153086217326</td>\n",
       "      <td>High_spent_Medium_value_payments</td>\n",
       "      <td>341.48923103222177</td>\n",
       "      <td>Good</td>\n",
       "    </tr>\n",
       "  </tbody>\n",
       "</table>\n",
       "<p>5 rows × 28 columns</p>\n",
       "</div>"
      ],
      "text/plain": [
       "       ID Customer_ID     Month           Name   Age          SSN Occupation  \\\n",
       "0  0x1602   CUS_0xd40   January  Aaron Maashoh    23  821-00-0265  Scientist   \n",
       "1  0x1603   CUS_0xd40  February  Aaron Maashoh    23  821-00-0265  Scientist   \n",
       "2  0x1604   CUS_0xd40     March  Aaron Maashoh  -500  821-00-0265  Scientist   \n",
       "3  0x1605   CUS_0xd40     April  Aaron Maashoh    23  821-00-0265  Scientist   \n",
       "4  0x1606   CUS_0xd40       May  Aaron Maashoh    23  821-00-0265  Scientist   \n",
       "\n",
       "  Annual_Income  Monthly_Inhand_Salary  Num_Bank_Accounts  ...  Credit_Mix  \\\n",
       "0      19114.12            1824.843333                  3  ...           _   \n",
       "1      19114.12                    NaN                  3  ...        Good   \n",
       "2      19114.12                    NaN                  3  ...        Good   \n",
       "3      19114.12                    NaN                  3  ...        Good   \n",
       "4      19114.12            1824.843333                  3  ...        Good   \n",
       "\n",
       "   Outstanding_Debt Credit_Utilization_Ratio     Credit_History_Age  \\\n",
       "0            809.98                26.822620  22 Years and 1 Months   \n",
       "1            809.98                31.944960                    NaN   \n",
       "2            809.98                28.609352  22 Years and 3 Months   \n",
       "3            809.98                31.377862  22 Years and 4 Months   \n",
       "4            809.98                24.797347  22 Years and 5 Months   \n",
       "\n",
       "   Payment_of_Min_Amount Total_EMI_per_month Amount_invested_monthly  \\\n",
       "0                     No           49.574949       80.41529543900253   \n",
       "1                     No           49.574949      118.28022162236736   \n",
       "2                     No           49.574949         81.699521264648   \n",
       "3                     No           49.574949       199.4580743910713   \n",
       "4                     No           49.574949      41.420153086217326   \n",
       "\n",
       "                  Payment_Behaviour     Monthly_Balance Credit_Score  \n",
       "0   High_spent_Small_value_payments  312.49408867943663         Good  \n",
       "1    Low_spent_Large_value_payments  284.62916249607184         Good  \n",
       "2   Low_spent_Medium_value_payments   331.2098628537912         Good  \n",
       "3    Low_spent_Small_value_payments  223.45130972736786         Good  \n",
       "4  High_spent_Medium_value_payments  341.48923103222177         Good  \n",
       "\n",
       "[5 rows x 28 columns]"
      ]
     },
     "execution_count": 3,
     "metadata": {},
     "output_type": "execute_result"
    }
   ],
   "source": [
    "df_train = df_original_train.copy()\n",
    "df_train.head()"
   ]
  },
  {
   "cell_type": "code",
   "execution_count": 4,
   "id": "6fb182d6",
   "metadata": {},
   "outputs": [
    {
     "data": {
      "text/html": [
       "<div>\n",
       "<style scoped>\n",
       "    .dataframe tbody tr th:only-of-type {\n",
       "        vertical-align: middle;\n",
       "    }\n",
       "\n",
       "    .dataframe tbody tr th {\n",
       "        vertical-align: top;\n",
       "    }\n",
       "\n",
       "    .dataframe thead th {\n",
       "        text-align: right;\n",
       "    }\n",
       "</style>\n",
       "<table border=\"1\" class=\"dataframe\">\n",
       "  <thead>\n",
       "    <tr style=\"text-align: right;\">\n",
       "      <th></th>\n",
       "      <th>ID</th>\n",
       "      <th>Customer_ID</th>\n",
       "      <th>Month</th>\n",
       "      <th>Name</th>\n",
       "      <th>Age</th>\n",
       "      <th>SSN</th>\n",
       "      <th>Occupation</th>\n",
       "      <th>Annual_Income</th>\n",
       "      <th>Monthly_Inhand_Salary</th>\n",
       "      <th>Num_Bank_Accounts</th>\n",
       "      <th>...</th>\n",
       "      <th>Num_Credit_Inquiries</th>\n",
       "      <th>Credit_Mix</th>\n",
       "      <th>Outstanding_Debt</th>\n",
       "      <th>Credit_Utilization_Ratio</th>\n",
       "      <th>Credit_History_Age</th>\n",
       "      <th>Payment_of_Min_Amount</th>\n",
       "      <th>Total_EMI_per_month</th>\n",
       "      <th>Amount_invested_monthly</th>\n",
       "      <th>Payment_Behaviour</th>\n",
       "      <th>Monthly_Balance</th>\n",
       "    </tr>\n",
       "  </thead>\n",
       "  <tbody>\n",
       "    <tr>\n",
       "      <th>0</th>\n",
       "      <td>0x160a</td>\n",
       "      <td>CUS_0xd40</td>\n",
       "      <td>September</td>\n",
       "      <td>Aaron Maashoh</td>\n",
       "      <td>23</td>\n",
       "      <td>821-00-0265</td>\n",
       "      <td>Scientist</td>\n",
       "      <td>19114.12</td>\n",
       "      <td>1824.843333</td>\n",
       "      <td>3</td>\n",
       "      <td>...</td>\n",
       "      <td>2022.0</td>\n",
       "      <td>Good</td>\n",
       "      <td>809.98</td>\n",
       "      <td>35.030402</td>\n",
       "      <td>22 Years and 9 Months</td>\n",
       "      <td>No</td>\n",
       "      <td>49.574949</td>\n",
       "      <td>236.64268203272135</td>\n",
       "      <td>Low_spent_Small_value_payments</td>\n",
       "      <td>186.26670208571772</td>\n",
       "    </tr>\n",
       "    <tr>\n",
       "      <th>1</th>\n",
       "      <td>0x160b</td>\n",
       "      <td>CUS_0xd40</td>\n",
       "      <td>October</td>\n",
       "      <td>Aaron Maashoh</td>\n",
       "      <td>24</td>\n",
       "      <td>821-00-0265</td>\n",
       "      <td>Scientist</td>\n",
       "      <td>19114.12</td>\n",
       "      <td>1824.843333</td>\n",
       "      <td>3</td>\n",
       "      <td>...</td>\n",
       "      <td>4.0</td>\n",
       "      <td>Good</td>\n",
       "      <td>809.98</td>\n",
       "      <td>33.053114</td>\n",
       "      <td>22 Years and 10 Months</td>\n",
       "      <td>No</td>\n",
       "      <td>49.574949</td>\n",
       "      <td>21.465380264657146</td>\n",
       "      <td>High_spent_Medium_value_payments</td>\n",
       "      <td>361.44400385378196</td>\n",
       "    </tr>\n",
       "    <tr>\n",
       "      <th>2</th>\n",
       "      <td>0x160c</td>\n",
       "      <td>CUS_0xd40</td>\n",
       "      <td>November</td>\n",
       "      <td>Aaron Maashoh</td>\n",
       "      <td>24</td>\n",
       "      <td>821-00-0265</td>\n",
       "      <td>Scientist</td>\n",
       "      <td>19114.12</td>\n",
       "      <td>1824.843333</td>\n",
       "      <td>3</td>\n",
       "      <td>...</td>\n",
       "      <td>4.0</td>\n",
       "      <td>Good</td>\n",
       "      <td>809.98</td>\n",
       "      <td>33.811894</td>\n",
       "      <td>NaN</td>\n",
       "      <td>No</td>\n",
       "      <td>49.574949</td>\n",
       "      <td>148.23393788500925</td>\n",
       "      <td>Low_spent_Medium_value_payments</td>\n",
       "      <td>264.67544623342997</td>\n",
       "    </tr>\n",
       "    <tr>\n",
       "      <th>3</th>\n",
       "      <td>0x160d</td>\n",
       "      <td>CUS_0xd40</td>\n",
       "      <td>December</td>\n",
       "      <td>Aaron Maashoh</td>\n",
       "      <td>24_</td>\n",
       "      <td>821-00-0265</td>\n",
       "      <td>Scientist</td>\n",
       "      <td>19114.12</td>\n",
       "      <td>NaN</td>\n",
       "      <td>3</td>\n",
       "      <td>...</td>\n",
       "      <td>4.0</td>\n",
       "      <td>Good</td>\n",
       "      <td>809.98</td>\n",
       "      <td>32.430559</td>\n",
       "      <td>23 Years and 0 Months</td>\n",
       "      <td>No</td>\n",
       "      <td>49.574949</td>\n",
       "      <td>39.08251089460281</td>\n",
       "      <td>High_spent_Medium_value_payments</td>\n",
       "      <td>343.82687322383634</td>\n",
       "    </tr>\n",
       "    <tr>\n",
       "      <th>4</th>\n",
       "      <td>0x1616</td>\n",
       "      <td>CUS_0x21b1</td>\n",
       "      <td>September</td>\n",
       "      <td>Rick Rothackerj</td>\n",
       "      <td>28</td>\n",
       "      <td>004-07-5839</td>\n",
       "      <td>_______</td>\n",
       "      <td>34847.84</td>\n",
       "      <td>3037.986667</td>\n",
       "      <td>2</td>\n",
       "      <td>...</td>\n",
       "      <td>5.0</td>\n",
       "      <td>Good</td>\n",
       "      <td>605.03</td>\n",
       "      <td>25.926822</td>\n",
       "      <td>27 Years and 3 Months</td>\n",
       "      <td>No</td>\n",
       "      <td>18.816215</td>\n",
       "      <td>39.684018417945296</td>\n",
       "      <td>High_spent_Large_value_payments</td>\n",
       "      <td>485.2984336755923</td>\n",
       "    </tr>\n",
       "  </tbody>\n",
       "</table>\n",
       "<p>5 rows × 27 columns</p>\n",
       "</div>"
      ],
      "text/plain": [
       "       ID Customer_ID      Month             Name  Age          SSN  \\\n",
       "0  0x160a   CUS_0xd40  September    Aaron Maashoh   23  821-00-0265   \n",
       "1  0x160b   CUS_0xd40    October    Aaron Maashoh   24  821-00-0265   \n",
       "2  0x160c   CUS_0xd40   November    Aaron Maashoh   24  821-00-0265   \n",
       "3  0x160d   CUS_0xd40   December    Aaron Maashoh  24_  821-00-0265   \n",
       "4  0x1616  CUS_0x21b1  September  Rick Rothackerj   28  004-07-5839   \n",
       "\n",
       "  Occupation Annual_Income  Monthly_Inhand_Salary  Num_Bank_Accounts  ...  \\\n",
       "0  Scientist      19114.12            1824.843333                  3  ...   \n",
       "1  Scientist      19114.12            1824.843333                  3  ...   \n",
       "2  Scientist      19114.12            1824.843333                  3  ...   \n",
       "3  Scientist      19114.12                    NaN                  3  ...   \n",
       "4    _______      34847.84            3037.986667                  2  ...   \n",
       "\n",
       "   Num_Credit_Inquiries  Credit_Mix Outstanding_Debt Credit_Utilization_Ratio  \\\n",
       "0                2022.0        Good           809.98                35.030402   \n",
       "1                   4.0        Good           809.98                33.053114   \n",
       "2                   4.0        Good           809.98                33.811894   \n",
       "3                   4.0        Good           809.98                32.430559   \n",
       "4                   5.0        Good           605.03                25.926822   \n",
       "\n",
       "       Credit_History_Age Payment_of_Min_Amount Total_EMI_per_month  \\\n",
       "0   22 Years and 9 Months                    No           49.574949   \n",
       "1  22 Years and 10 Months                    No           49.574949   \n",
       "2                     NaN                    No           49.574949   \n",
       "3   23 Years and 0 Months                    No           49.574949   \n",
       "4   27 Years and 3 Months                    No           18.816215   \n",
       "\n",
       "   Amount_invested_monthly                 Payment_Behaviour  \\\n",
       "0       236.64268203272135    Low_spent_Small_value_payments   \n",
       "1       21.465380264657146  High_spent_Medium_value_payments   \n",
       "2       148.23393788500925   Low_spent_Medium_value_payments   \n",
       "3        39.08251089460281  High_spent_Medium_value_payments   \n",
       "4       39.684018417945296   High_spent_Large_value_payments   \n",
       "\n",
       "      Monthly_Balance  \n",
       "0  186.26670208571772  \n",
       "1  361.44400385378196  \n",
       "2  264.67544623342997  \n",
       "3  343.82687322383634  \n",
       "4   485.2984336755923  \n",
       "\n",
       "[5 rows x 27 columns]"
      ]
     },
     "execution_count": 4,
     "metadata": {},
     "output_type": "execute_result"
    }
   ],
   "source": [
    "df_test = df_original_test.copy()\n",
    "df_test.head()"
   ]
  },
  {
   "cell_type": "code",
   "execution_count": 5,
   "id": "9ea1363b",
   "metadata": {},
   "outputs": [
    {
     "data": {
      "text/html": [
       "<div>\n",
       "<style scoped>\n",
       "    .dataframe tbody tr th:only-of-type {\n",
       "        vertical-align: middle;\n",
       "    }\n",
       "\n",
       "    .dataframe tbody tr th {\n",
       "        vertical-align: top;\n",
       "    }\n",
       "\n",
       "    .dataframe thead th {\n",
       "        text-align: right;\n",
       "    }\n",
       "</style>\n",
       "<table border=\"1\" class=\"dataframe\">\n",
       "  <thead>\n",
       "    <tr style=\"text-align: right;\">\n",
       "      <th></th>\n",
       "      <th>count</th>\n",
       "      <th>mean</th>\n",
       "      <th>std</th>\n",
       "      <th>min</th>\n",
       "      <th>25%</th>\n",
       "      <th>50%</th>\n",
       "      <th>75%</th>\n",
       "      <th>max</th>\n",
       "    </tr>\n",
       "  </thead>\n",
       "  <tbody>\n",
       "    <tr>\n",
       "      <th>Monthly_Inhand_Salary</th>\n",
       "      <td>84998.0</td>\n",
       "      <td>4194.170850</td>\n",
       "      <td>3183.686167</td>\n",
       "      <td>303.645417</td>\n",
       "      <td>1625.568229</td>\n",
       "      <td>3093.745000</td>\n",
       "      <td>5957.448333</td>\n",
       "      <td>15204.633333</td>\n",
       "    </tr>\n",
       "    <tr>\n",
       "      <th>Num_Bank_Accounts</th>\n",
       "      <td>100000.0</td>\n",
       "      <td>17.091280</td>\n",
       "      <td>117.404834</td>\n",
       "      <td>-1.000000</td>\n",
       "      <td>3.000000</td>\n",
       "      <td>6.000000</td>\n",
       "      <td>7.000000</td>\n",
       "      <td>1798.000000</td>\n",
       "    </tr>\n",
       "    <tr>\n",
       "      <th>Num_Credit_Card</th>\n",
       "      <td>100000.0</td>\n",
       "      <td>22.474430</td>\n",
       "      <td>129.057410</td>\n",
       "      <td>0.000000</td>\n",
       "      <td>4.000000</td>\n",
       "      <td>5.000000</td>\n",
       "      <td>7.000000</td>\n",
       "      <td>1499.000000</td>\n",
       "    </tr>\n",
       "    <tr>\n",
       "      <th>Interest_Rate</th>\n",
       "      <td>100000.0</td>\n",
       "      <td>72.466040</td>\n",
       "      <td>466.422621</td>\n",
       "      <td>1.000000</td>\n",
       "      <td>8.000000</td>\n",
       "      <td>13.000000</td>\n",
       "      <td>20.000000</td>\n",
       "      <td>5797.000000</td>\n",
       "    </tr>\n",
       "    <tr>\n",
       "      <th>Delay_from_due_date</th>\n",
       "      <td>100000.0</td>\n",
       "      <td>21.068780</td>\n",
       "      <td>14.860104</td>\n",
       "      <td>-5.000000</td>\n",
       "      <td>10.000000</td>\n",
       "      <td>18.000000</td>\n",
       "      <td>28.000000</td>\n",
       "      <td>67.000000</td>\n",
       "    </tr>\n",
       "    <tr>\n",
       "      <th>Num_Credit_Inquiries</th>\n",
       "      <td>98035.0</td>\n",
       "      <td>27.754251</td>\n",
       "      <td>193.177339</td>\n",
       "      <td>0.000000</td>\n",
       "      <td>3.000000</td>\n",
       "      <td>6.000000</td>\n",
       "      <td>9.000000</td>\n",
       "      <td>2597.000000</td>\n",
       "    </tr>\n",
       "    <tr>\n",
       "      <th>Credit_Utilization_Ratio</th>\n",
       "      <td>100000.0</td>\n",
       "      <td>32.285173</td>\n",
       "      <td>5.116875</td>\n",
       "      <td>20.000000</td>\n",
       "      <td>28.052567</td>\n",
       "      <td>32.305784</td>\n",
       "      <td>36.496663</td>\n",
       "      <td>50.000000</td>\n",
       "    </tr>\n",
       "    <tr>\n",
       "      <th>Total_EMI_per_month</th>\n",
       "      <td>100000.0</td>\n",
       "      <td>1403.118217</td>\n",
       "      <td>8306.041270</td>\n",
       "      <td>0.000000</td>\n",
       "      <td>30.306660</td>\n",
       "      <td>69.249473</td>\n",
       "      <td>161.224249</td>\n",
       "      <td>82331.000000</td>\n",
       "    </tr>\n",
       "  </tbody>\n",
       "</table>\n",
       "</div>"
      ],
      "text/plain": [
       "                             count         mean          std         min  \\\n",
       "Monthly_Inhand_Salary      84998.0  4194.170850  3183.686167  303.645417   \n",
       "Num_Bank_Accounts         100000.0    17.091280   117.404834   -1.000000   \n",
       "Num_Credit_Card           100000.0    22.474430   129.057410    0.000000   \n",
       "Interest_Rate             100000.0    72.466040   466.422621    1.000000   \n",
       "Delay_from_due_date       100000.0    21.068780    14.860104   -5.000000   \n",
       "Num_Credit_Inquiries       98035.0    27.754251   193.177339    0.000000   \n",
       "Credit_Utilization_Ratio  100000.0    32.285173     5.116875   20.000000   \n",
       "Total_EMI_per_month       100000.0  1403.118217  8306.041270    0.000000   \n",
       "\n",
       "                                  25%          50%          75%           max  \n",
       "Monthly_Inhand_Salary     1625.568229  3093.745000  5957.448333  15204.633333  \n",
       "Num_Bank_Accounts            3.000000     6.000000     7.000000   1798.000000  \n",
       "Num_Credit_Card              4.000000     5.000000     7.000000   1499.000000  \n",
       "Interest_Rate                8.000000    13.000000    20.000000   5797.000000  \n",
       "Delay_from_due_date         10.000000    18.000000    28.000000     67.000000  \n",
       "Num_Credit_Inquiries         3.000000     6.000000     9.000000   2597.000000  \n",
       "Credit_Utilization_Ratio    28.052567    32.305784    36.496663     50.000000  \n",
       "Total_EMI_per_month         30.306660    69.249473   161.224249  82331.000000  "
      ]
     },
     "execution_count": 5,
     "metadata": {},
     "output_type": "execute_result"
    }
   ],
   "source": [
    "df_train.describe().T"
   ]
  },
  {
   "cell_type": "code",
   "execution_count": 6,
   "id": "03653784",
   "metadata": {},
   "outputs": [
    {
     "data": {
      "text/plain": [
       "((100000, 28), (50000, 27))"
      ]
     },
     "execution_count": 6,
     "metadata": {},
     "output_type": "execute_result"
    }
   ],
   "source": [
    "df_train.shape, df_test.shape"
   ]
  },
  {
   "cell_type": "code",
   "execution_count": 7,
   "id": "8c402057",
   "metadata": {},
   "outputs": [
    {
     "name": "stdout",
     "output_type": "stream",
     "text": [
      "<class 'pandas.core.frame.DataFrame'>\n",
      "RangeIndex: 100000 entries, 0 to 99999\n",
      "Data columns (total 28 columns):\n",
      " #   Column                    Non-Null Count   Dtype  \n",
      "---  ------                    --------------   -----  \n",
      " 0   ID                        100000 non-null  object \n",
      " 1   Customer_ID               100000 non-null  object \n",
      " 2   Month                     100000 non-null  object \n",
      " 3   Name                      90015 non-null   object \n",
      " 4   Age                       100000 non-null  object \n",
      " 5   SSN                       100000 non-null  object \n",
      " 6   Occupation                100000 non-null  object \n",
      " 7   Annual_Income             100000 non-null  object \n",
      " 8   Monthly_Inhand_Salary     84998 non-null   float64\n",
      " 9   Num_Bank_Accounts         100000 non-null  int64  \n",
      " 10  Num_Credit_Card           100000 non-null  int64  \n",
      " 11  Interest_Rate             100000 non-null  int64  \n",
      " 12  Num_of_Loan               100000 non-null  object \n",
      " 13  Type_of_Loan              88592 non-null   object \n",
      " 14  Delay_from_due_date       100000 non-null  int64  \n",
      " 15  Num_of_Delayed_Payment    92998 non-null   object \n",
      " 16  Changed_Credit_Limit      100000 non-null  object \n",
      " 17  Num_Credit_Inquiries      98035 non-null   float64\n",
      " 18  Credit_Mix                100000 non-null  object \n",
      " 19  Outstanding_Debt          100000 non-null  object \n",
      " 20  Credit_Utilization_Ratio  100000 non-null  float64\n",
      " 21  Credit_History_Age        90970 non-null   object \n",
      " 22  Payment_of_Min_Amount     100000 non-null  object \n",
      " 23  Total_EMI_per_month       100000 non-null  float64\n",
      " 24  Amount_invested_monthly   95521 non-null   object \n",
      " 25  Payment_Behaviour         100000 non-null  object \n",
      " 26  Monthly_Balance           98800 non-null   object \n",
      " 27  Credit_Score              100000 non-null  object \n",
      "dtypes: float64(4), int64(4), object(20)\n",
      "memory usage: 21.4+ MB\n"
     ]
    }
   ],
   "source": [
    "df_train.info()"
   ]
  },
  {
   "cell_type": "code",
   "execution_count": 8,
   "id": "6db16fb6",
   "metadata": {},
   "outputs": [
    {
     "name": "stdout",
     "output_type": "stream",
     "text": [
      "<class 'pandas.core.frame.DataFrame'>\n",
      "RangeIndex: 50000 entries, 0 to 49999\n",
      "Data columns (total 27 columns):\n",
      " #   Column                    Non-Null Count  Dtype  \n",
      "---  ------                    --------------  -----  \n",
      " 0   ID                        50000 non-null  object \n",
      " 1   Customer_ID               50000 non-null  object \n",
      " 2   Month                     50000 non-null  object \n",
      " 3   Name                      44985 non-null  object \n",
      " 4   Age                       50000 non-null  object \n",
      " 5   SSN                       50000 non-null  object \n",
      " 6   Occupation                50000 non-null  object \n",
      " 7   Annual_Income             50000 non-null  object \n",
      " 8   Monthly_Inhand_Salary     42502 non-null  float64\n",
      " 9   Num_Bank_Accounts         50000 non-null  int64  \n",
      " 10  Num_Credit_Card           50000 non-null  int64  \n",
      " 11  Interest_Rate             50000 non-null  int64  \n",
      " 12  Num_of_Loan               50000 non-null  object \n",
      " 13  Type_of_Loan              44296 non-null  object \n",
      " 14  Delay_from_due_date       50000 non-null  int64  \n",
      " 15  Num_of_Delayed_Payment    46502 non-null  object \n",
      " 16  Changed_Credit_Limit      50000 non-null  object \n",
      " 17  Num_Credit_Inquiries      48965 non-null  float64\n",
      " 18  Credit_Mix                50000 non-null  object \n",
      " 19  Outstanding_Debt          50000 non-null  object \n",
      " 20  Credit_Utilization_Ratio  50000 non-null  float64\n",
      " 21  Credit_History_Age        45530 non-null  object \n",
      " 22  Payment_of_Min_Amount     50000 non-null  object \n",
      " 23  Total_EMI_per_month       50000 non-null  float64\n",
      " 24  Amount_invested_monthly   47729 non-null  object \n",
      " 25  Payment_Behaviour         50000 non-null  object \n",
      " 26  Monthly_Balance           49438 non-null  object \n",
      "dtypes: float64(4), int64(4), object(19)\n",
      "memory usage: 10.3+ MB\n"
     ]
    }
   ],
   "source": [
    "df_test.info()"
   ]
  },
  {
   "cell_type": "code",
   "execution_count": 9,
   "id": "9290c082",
   "metadata": {},
   "outputs": [
    {
     "data": {
      "text/html": [
       "<div>\n",
       "<style scoped>\n",
       "    .dataframe tbody tr th:only-of-type {\n",
       "        vertical-align: middle;\n",
       "    }\n",
       "\n",
       "    .dataframe tbody tr th {\n",
       "        vertical-align: top;\n",
       "    }\n",
       "\n",
       "    .dataframe thead th {\n",
       "        text-align: right;\n",
       "    }\n",
       "</style>\n",
       "<table border=\"1\" class=\"dataframe\">\n",
       "  <thead>\n",
       "    <tr style=\"text-align: right;\">\n",
       "      <th></th>\n",
       "      <th>count</th>\n",
       "      <th>mean</th>\n",
       "      <th>std</th>\n",
       "      <th>min</th>\n",
       "      <th>25%</th>\n",
       "      <th>50%</th>\n",
       "      <th>75%</th>\n",
       "      <th>max</th>\n",
       "    </tr>\n",
       "  </thead>\n",
       "  <tbody>\n",
       "    <tr>\n",
       "      <th>Monthly_Inhand_Salary</th>\n",
       "      <td>84998.0</td>\n",
       "      <td>4194.170850</td>\n",
       "      <td>3183.686167</td>\n",
       "      <td>303.645417</td>\n",
       "      <td>1625.568229</td>\n",
       "      <td>3093.745000</td>\n",
       "      <td>5957.448333</td>\n",
       "      <td>15204.633333</td>\n",
       "    </tr>\n",
       "    <tr>\n",
       "      <th>Num_Bank_Accounts</th>\n",
       "      <td>100000.0</td>\n",
       "      <td>17.091280</td>\n",
       "      <td>117.404834</td>\n",
       "      <td>-1.000000</td>\n",
       "      <td>3.000000</td>\n",
       "      <td>6.000000</td>\n",
       "      <td>7.000000</td>\n",
       "      <td>1798.000000</td>\n",
       "    </tr>\n",
       "    <tr>\n",
       "      <th>Num_Credit_Card</th>\n",
       "      <td>100000.0</td>\n",
       "      <td>22.474430</td>\n",
       "      <td>129.057410</td>\n",
       "      <td>0.000000</td>\n",
       "      <td>4.000000</td>\n",
       "      <td>5.000000</td>\n",
       "      <td>7.000000</td>\n",
       "      <td>1499.000000</td>\n",
       "    </tr>\n",
       "    <tr>\n",
       "      <th>Interest_Rate</th>\n",
       "      <td>100000.0</td>\n",
       "      <td>72.466040</td>\n",
       "      <td>466.422621</td>\n",
       "      <td>1.000000</td>\n",
       "      <td>8.000000</td>\n",
       "      <td>13.000000</td>\n",
       "      <td>20.000000</td>\n",
       "      <td>5797.000000</td>\n",
       "    </tr>\n",
       "    <tr>\n",
       "      <th>Delay_from_due_date</th>\n",
       "      <td>100000.0</td>\n",
       "      <td>21.068780</td>\n",
       "      <td>14.860104</td>\n",
       "      <td>-5.000000</td>\n",
       "      <td>10.000000</td>\n",
       "      <td>18.000000</td>\n",
       "      <td>28.000000</td>\n",
       "      <td>67.000000</td>\n",
       "    </tr>\n",
       "    <tr>\n",
       "      <th>Num_Credit_Inquiries</th>\n",
       "      <td>98035.0</td>\n",
       "      <td>27.754251</td>\n",
       "      <td>193.177339</td>\n",
       "      <td>0.000000</td>\n",
       "      <td>3.000000</td>\n",
       "      <td>6.000000</td>\n",
       "      <td>9.000000</td>\n",
       "      <td>2597.000000</td>\n",
       "    </tr>\n",
       "    <tr>\n",
       "      <th>Credit_Utilization_Ratio</th>\n",
       "      <td>100000.0</td>\n",
       "      <td>32.285173</td>\n",
       "      <td>5.116875</td>\n",
       "      <td>20.000000</td>\n",
       "      <td>28.052567</td>\n",
       "      <td>32.305784</td>\n",
       "      <td>36.496663</td>\n",
       "      <td>50.000000</td>\n",
       "    </tr>\n",
       "    <tr>\n",
       "      <th>Total_EMI_per_month</th>\n",
       "      <td>100000.0</td>\n",
       "      <td>1403.118217</td>\n",
       "      <td>8306.041270</td>\n",
       "      <td>0.000000</td>\n",
       "      <td>30.306660</td>\n",
       "      <td>69.249473</td>\n",
       "      <td>161.224249</td>\n",
       "      <td>82331.000000</td>\n",
       "    </tr>\n",
       "  </tbody>\n",
       "</table>\n",
       "</div>"
      ],
      "text/plain": [
       "                             count         mean          std         min  \\\n",
       "Monthly_Inhand_Salary      84998.0  4194.170850  3183.686167  303.645417   \n",
       "Num_Bank_Accounts         100000.0    17.091280   117.404834   -1.000000   \n",
       "Num_Credit_Card           100000.0    22.474430   129.057410    0.000000   \n",
       "Interest_Rate             100000.0    72.466040   466.422621    1.000000   \n",
       "Delay_from_due_date       100000.0    21.068780    14.860104   -5.000000   \n",
       "Num_Credit_Inquiries       98035.0    27.754251   193.177339    0.000000   \n",
       "Credit_Utilization_Ratio  100000.0    32.285173     5.116875   20.000000   \n",
       "Total_EMI_per_month       100000.0  1403.118217  8306.041270    0.000000   \n",
       "\n",
       "                                  25%          50%          75%           max  \n",
       "Monthly_Inhand_Salary     1625.568229  3093.745000  5957.448333  15204.633333  \n",
       "Num_Bank_Accounts            3.000000     6.000000     7.000000   1798.000000  \n",
       "Num_Credit_Card              4.000000     5.000000     7.000000   1499.000000  \n",
       "Interest_Rate                8.000000    13.000000    20.000000   5797.000000  \n",
       "Delay_from_due_date         10.000000    18.000000    28.000000     67.000000  \n",
       "Num_Credit_Inquiries         3.000000     6.000000     9.000000   2597.000000  \n",
       "Credit_Utilization_Ratio    28.052567    32.305784    36.496663     50.000000  \n",
       "Total_EMI_per_month         30.306660    69.249473   161.224249  82331.000000  "
      ]
     },
     "execution_count": 9,
     "metadata": {},
     "output_type": "execute_result"
    }
   ],
   "source": [
    "df_train.describe().T"
   ]
  },
  {
   "cell_type": "code",
   "execution_count": 10,
   "id": "93180eb7",
   "metadata": {},
   "outputs": [
    {
     "data": {
      "text/html": [
       "<div>\n",
       "<style scoped>\n",
       "    .dataframe tbody tr th:only-of-type {\n",
       "        vertical-align: middle;\n",
       "    }\n",
       "\n",
       "    .dataframe tbody tr th {\n",
       "        vertical-align: top;\n",
       "    }\n",
       "\n",
       "    .dataframe thead th {\n",
       "        text-align: right;\n",
       "    }\n",
       "</style>\n",
       "<table border=\"1\" class=\"dataframe\">\n",
       "  <thead>\n",
       "    <tr style=\"text-align: right;\">\n",
       "      <th></th>\n",
       "      <th>count</th>\n",
       "      <th>mean</th>\n",
       "      <th>std</th>\n",
       "      <th>min</th>\n",
       "      <th>25%</th>\n",
       "      <th>50%</th>\n",
       "      <th>75%</th>\n",
       "      <th>max</th>\n",
       "    </tr>\n",
       "  </thead>\n",
       "  <tbody>\n",
       "    <tr>\n",
       "      <th>Monthly_Inhand_Salary</th>\n",
       "      <td>42502.0</td>\n",
       "      <td>4182.004291</td>\n",
       "      <td>3174.109304</td>\n",
       "      <td>303.645417</td>\n",
       "      <td>1625.188333</td>\n",
       "      <td>3086.305000</td>\n",
       "      <td>5934.189094</td>\n",
       "      <td>15204.633333</td>\n",
       "    </tr>\n",
       "    <tr>\n",
       "      <th>Num_Bank_Accounts</th>\n",
       "      <td>50000.0</td>\n",
       "      <td>16.838260</td>\n",
       "      <td>116.396848</td>\n",
       "      <td>-1.000000</td>\n",
       "      <td>3.000000</td>\n",
       "      <td>6.000000</td>\n",
       "      <td>7.000000</td>\n",
       "      <td>1798.000000</td>\n",
       "    </tr>\n",
       "    <tr>\n",
       "      <th>Num_Credit_Card</th>\n",
       "      <td>50000.0</td>\n",
       "      <td>22.921480</td>\n",
       "      <td>129.314804</td>\n",
       "      <td>0.000000</td>\n",
       "      <td>4.000000</td>\n",
       "      <td>5.000000</td>\n",
       "      <td>7.000000</td>\n",
       "      <td>1499.000000</td>\n",
       "    </tr>\n",
       "    <tr>\n",
       "      <th>Interest_Rate</th>\n",
       "      <td>50000.0</td>\n",
       "      <td>68.772640</td>\n",
       "      <td>451.602363</td>\n",
       "      <td>1.000000</td>\n",
       "      <td>8.000000</td>\n",
       "      <td>13.000000</td>\n",
       "      <td>20.000000</td>\n",
       "      <td>5799.000000</td>\n",
       "    </tr>\n",
       "    <tr>\n",
       "      <th>Delay_from_due_date</th>\n",
       "      <td>50000.0</td>\n",
       "      <td>21.052640</td>\n",
       "      <td>14.860397</td>\n",
       "      <td>-5.000000</td>\n",
       "      <td>10.000000</td>\n",
       "      <td>18.000000</td>\n",
       "      <td>28.000000</td>\n",
       "      <td>67.000000</td>\n",
       "    </tr>\n",
       "    <tr>\n",
       "      <th>Num_Credit_Inquiries</th>\n",
       "      <td>48965.0</td>\n",
       "      <td>30.080200</td>\n",
       "      <td>196.984121</td>\n",
       "      <td>0.000000</td>\n",
       "      <td>4.000000</td>\n",
       "      <td>7.000000</td>\n",
       "      <td>10.000000</td>\n",
       "      <td>2593.000000</td>\n",
       "    </tr>\n",
       "    <tr>\n",
       "      <th>Credit_Utilization_Ratio</th>\n",
       "      <td>50000.0</td>\n",
       "      <td>32.279581</td>\n",
       "      <td>5.106238</td>\n",
       "      <td>20.509652</td>\n",
       "      <td>28.061040</td>\n",
       "      <td>32.280390</td>\n",
       "      <td>36.468591</td>\n",
       "      <td>48.540663</td>\n",
       "    </tr>\n",
       "    <tr>\n",
       "      <th>Total_EMI_per_month</th>\n",
       "      <td>50000.0</td>\n",
       "      <td>1491.304305</td>\n",
       "      <td>8595.647887</td>\n",
       "      <td>0.000000</td>\n",
       "      <td>32.222388</td>\n",
       "      <td>74.733349</td>\n",
       "      <td>176.157491</td>\n",
       "      <td>82398.000000</td>\n",
       "    </tr>\n",
       "  </tbody>\n",
       "</table>\n",
       "</div>"
      ],
      "text/plain": [
       "                            count         mean          std         min  \\\n",
       "Monthly_Inhand_Salary     42502.0  4182.004291  3174.109304  303.645417   \n",
       "Num_Bank_Accounts         50000.0    16.838260   116.396848   -1.000000   \n",
       "Num_Credit_Card           50000.0    22.921480   129.314804    0.000000   \n",
       "Interest_Rate             50000.0    68.772640   451.602363    1.000000   \n",
       "Delay_from_due_date       50000.0    21.052640    14.860397   -5.000000   \n",
       "Num_Credit_Inquiries      48965.0    30.080200   196.984121    0.000000   \n",
       "Credit_Utilization_Ratio  50000.0    32.279581     5.106238   20.509652   \n",
       "Total_EMI_per_month       50000.0  1491.304305  8595.647887    0.000000   \n",
       "\n",
       "                                  25%          50%          75%           max  \n",
       "Monthly_Inhand_Salary     1625.188333  3086.305000  5934.189094  15204.633333  \n",
       "Num_Bank_Accounts            3.000000     6.000000     7.000000   1798.000000  \n",
       "Num_Credit_Card              4.000000     5.000000     7.000000   1499.000000  \n",
       "Interest_Rate                8.000000    13.000000    20.000000   5799.000000  \n",
       "Delay_from_due_date         10.000000    18.000000    28.000000     67.000000  \n",
       "Num_Credit_Inquiries         4.000000     7.000000    10.000000   2593.000000  \n",
       "Credit_Utilization_Ratio    28.061040    32.280390    36.468591     48.540663  \n",
       "Total_EMI_per_month         32.222388    74.733349   176.157491  82398.000000  "
      ]
     },
     "execution_count": 10,
     "metadata": {},
     "output_type": "execute_result"
    }
   ],
   "source": [
    "df_test.describe().T"
   ]
  },
  {
   "cell_type": "code",
   "execution_count": 11,
   "id": "a8e38050",
   "metadata": {},
   "outputs": [
    {
     "data": {
      "text/html": [
       "<div>\n",
       "<style scoped>\n",
       "    .dataframe tbody tr th:only-of-type {\n",
       "        vertical-align: middle;\n",
       "    }\n",
       "\n",
       "    .dataframe tbody tr th {\n",
       "        vertical-align: top;\n",
       "    }\n",
       "\n",
       "    .dataframe thead th {\n",
       "        text-align: right;\n",
       "    }\n",
       "</style>\n",
       "<table border=\"1\" class=\"dataframe\">\n",
       "  <thead>\n",
       "    <tr style=\"text-align: right;\">\n",
       "      <th></th>\n",
       "      <th>count</th>\n",
       "      <th>unique</th>\n",
       "      <th>top</th>\n",
       "      <th>freq</th>\n",
       "    </tr>\n",
       "  </thead>\n",
       "  <tbody>\n",
       "    <tr>\n",
       "      <th>ID</th>\n",
       "      <td>100000</td>\n",
       "      <td>100000</td>\n",
       "      <td>0x1602</td>\n",
       "      <td>1</td>\n",
       "    </tr>\n",
       "    <tr>\n",
       "      <th>Customer_ID</th>\n",
       "      <td>100000</td>\n",
       "      <td>12500</td>\n",
       "      <td>CUS_0xd40</td>\n",
       "      <td>8</td>\n",
       "    </tr>\n",
       "    <tr>\n",
       "      <th>Month</th>\n",
       "      <td>100000</td>\n",
       "      <td>8</td>\n",
       "      <td>January</td>\n",
       "      <td>12500</td>\n",
       "    </tr>\n",
       "    <tr>\n",
       "      <th>Name</th>\n",
       "      <td>90015</td>\n",
       "      <td>10139</td>\n",
       "      <td>Langep</td>\n",
       "      <td>44</td>\n",
       "    </tr>\n",
       "    <tr>\n",
       "      <th>Age</th>\n",
       "      <td>100000</td>\n",
       "      <td>1788</td>\n",
       "      <td>38</td>\n",
       "      <td>2833</td>\n",
       "    </tr>\n",
       "    <tr>\n",
       "      <th>SSN</th>\n",
       "      <td>100000</td>\n",
       "      <td>12501</td>\n",
       "      <td>#F%$D@*&amp;8</td>\n",
       "      <td>5572</td>\n",
       "    </tr>\n",
       "    <tr>\n",
       "      <th>Occupation</th>\n",
       "      <td>100000</td>\n",
       "      <td>16</td>\n",
       "      <td>_______</td>\n",
       "      <td>7062</td>\n",
       "    </tr>\n",
       "    <tr>\n",
       "      <th>Annual_Income</th>\n",
       "      <td>100000</td>\n",
       "      <td>18940</td>\n",
       "      <td>36585.12</td>\n",
       "      <td>16</td>\n",
       "    </tr>\n",
       "    <tr>\n",
       "      <th>Num_of_Loan</th>\n",
       "      <td>100000</td>\n",
       "      <td>434</td>\n",
       "      <td>3</td>\n",
       "      <td>14386</td>\n",
       "    </tr>\n",
       "    <tr>\n",
       "      <th>Type_of_Loan</th>\n",
       "      <td>88592</td>\n",
       "      <td>6260</td>\n",
       "      <td>Not Specified</td>\n",
       "      <td>1408</td>\n",
       "    </tr>\n",
       "    <tr>\n",
       "      <th>Num_of_Delayed_Payment</th>\n",
       "      <td>92998</td>\n",
       "      <td>749</td>\n",
       "      <td>19</td>\n",
       "      <td>5327</td>\n",
       "    </tr>\n",
       "    <tr>\n",
       "      <th>Changed_Credit_Limit</th>\n",
       "      <td>100000</td>\n",
       "      <td>4384</td>\n",
       "      <td>_</td>\n",
       "      <td>2091</td>\n",
       "    </tr>\n",
       "    <tr>\n",
       "      <th>Credit_Mix</th>\n",
       "      <td>100000</td>\n",
       "      <td>4</td>\n",
       "      <td>Standard</td>\n",
       "      <td>36479</td>\n",
       "    </tr>\n",
       "    <tr>\n",
       "      <th>Outstanding_Debt</th>\n",
       "      <td>100000</td>\n",
       "      <td>13178</td>\n",
       "      <td>1360.45</td>\n",
       "      <td>24</td>\n",
       "    </tr>\n",
       "    <tr>\n",
       "      <th>Credit_History_Age</th>\n",
       "      <td>90970</td>\n",
       "      <td>404</td>\n",
       "      <td>15 Years and 11 Months</td>\n",
       "      <td>446</td>\n",
       "    </tr>\n",
       "    <tr>\n",
       "      <th>Payment_of_Min_Amount</th>\n",
       "      <td>100000</td>\n",
       "      <td>3</td>\n",
       "      <td>Yes</td>\n",
       "      <td>52326</td>\n",
       "    </tr>\n",
       "    <tr>\n",
       "      <th>Amount_invested_monthly</th>\n",
       "      <td>95521</td>\n",
       "      <td>91049</td>\n",
       "      <td>__10000__</td>\n",
       "      <td>4305</td>\n",
       "    </tr>\n",
       "    <tr>\n",
       "      <th>Payment_Behaviour</th>\n",
       "      <td>100000</td>\n",
       "      <td>7</td>\n",
       "      <td>Low_spent_Small_value_payments</td>\n",
       "      <td>25513</td>\n",
       "    </tr>\n",
       "    <tr>\n",
       "      <th>Monthly_Balance</th>\n",
       "      <td>98800</td>\n",
       "      <td>98792</td>\n",
       "      <td>__-333333333333333333333333333__</td>\n",
       "      <td>9</td>\n",
       "    </tr>\n",
       "    <tr>\n",
       "      <th>Credit_Score</th>\n",
       "      <td>100000</td>\n",
       "      <td>3</td>\n",
       "      <td>Standard</td>\n",
       "      <td>53174</td>\n",
       "    </tr>\n",
       "  </tbody>\n",
       "</table>\n",
       "</div>"
      ],
      "text/plain": [
       "                          count  unique                               top  \\\n",
       "ID                       100000  100000                            0x1602   \n",
       "Customer_ID              100000   12500                         CUS_0xd40   \n",
       "Month                    100000       8                           January   \n",
       "Name                      90015   10139                            Langep   \n",
       "Age                      100000    1788                                38   \n",
       "SSN                      100000   12501                         #F%$D@*&8   \n",
       "Occupation               100000      16                           _______   \n",
       "Annual_Income            100000   18940                          36585.12   \n",
       "Num_of_Loan              100000     434                                 3   \n",
       "Type_of_Loan              88592    6260                     Not Specified   \n",
       "Num_of_Delayed_Payment    92998     749                                19   \n",
       "Changed_Credit_Limit     100000    4384                                 _   \n",
       "Credit_Mix               100000       4                          Standard   \n",
       "Outstanding_Debt         100000   13178                           1360.45   \n",
       "Credit_History_Age        90970     404            15 Years and 11 Months   \n",
       "Payment_of_Min_Amount    100000       3                               Yes   \n",
       "Amount_invested_monthly   95521   91049                         __10000__   \n",
       "Payment_Behaviour        100000       7    Low_spent_Small_value_payments   \n",
       "Monthly_Balance           98800   98792  __-333333333333333333333333333__   \n",
       "Credit_Score             100000       3                          Standard   \n",
       "\n",
       "                          freq  \n",
       "ID                           1  \n",
       "Customer_ID                  8  \n",
       "Month                    12500  \n",
       "Name                        44  \n",
       "Age                       2833  \n",
       "SSN                       5572  \n",
       "Occupation                7062  \n",
       "Annual_Income               16  \n",
       "Num_of_Loan              14386  \n",
       "Type_of_Loan              1408  \n",
       "Num_of_Delayed_Payment    5327  \n",
       "Changed_Credit_Limit      2091  \n",
       "Credit_Mix               36479  \n",
       "Outstanding_Debt            24  \n",
       "Credit_History_Age         446  \n",
       "Payment_of_Min_Amount    52326  \n",
       "Amount_invested_monthly   4305  \n",
       "Payment_Behaviour        25513  \n",
       "Monthly_Balance              9  \n",
       "Credit_Score             53174  "
      ]
     },
     "execution_count": 11,
     "metadata": {},
     "output_type": "execute_result"
    }
   ],
   "source": [
    " df_train.describe(exclude=np.number).T"
   ]
  },
  {
   "cell_type": "code",
   "execution_count": 12,
   "id": "aefcd7bf",
   "metadata": {},
   "outputs": [
    {
     "data": {
      "text/html": [
       "<div>\n",
       "<style scoped>\n",
       "    .dataframe tbody tr th:only-of-type {\n",
       "        vertical-align: middle;\n",
       "    }\n",
       "\n",
       "    .dataframe tbody tr th {\n",
       "        vertical-align: top;\n",
       "    }\n",
       "\n",
       "    .dataframe thead th {\n",
       "        text-align: right;\n",
       "    }\n",
       "</style>\n",
       "<table border=\"1\" class=\"dataframe\">\n",
       "  <thead>\n",
       "    <tr style=\"text-align: right;\">\n",
       "      <th></th>\n",
       "      <th>count</th>\n",
       "      <th>unique</th>\n",
       "      <th>top</th>\n",
       "      <th>freq</th>\n",
       "    </tr>\n",
       "  </thead>\n",
       "  <tbody>\n",
       "    <tr>\n",
       "      <th>ID</th>\n",
       "      <td>50000</td>\n",
       "      <td>50000</td>\n",
       "      <td>0x160a</td>\n",
       "      <td>1</td>\n",
       "    </tr>\n",
       "    <tr>\n",
       "      <th>Customer_ID</th>\n",
       "      <td>50000</td>\n",
       "      <td>12500</td>\n",
       "      <td>CUS_0xd40</td>\n",
       "      <td>4</td>\n",
       "    </tr>\n",
       "    <tr>\n",
       "      <th>Month</th>\n",
       "      <td>50000</td>\n",
       "      <td>4</td>\n",
       "      <td>September</td>\n",
       "      <td>12500</td>\n",
       "    </tr>\n",
       "    <tr>\n",
       "      <th>Name</th>\n",
       "      <td>44985</td>\n",
       "      <td>10139</td>\n",
       "      <td>Stevex</td>\n",
       "      <td>22</td>\n",
       "    </tr>\n",
       "    <tr>\n",
       "      <th>Age</th>\n",
       "      <td>50000</td>\n",
       "      <td>976</td>\n",
       "      <td>39</td>\n",
       "      <td>1493</td>\n",
       "    </tr>\n",
       "    <tr>\n",
       "      <th>SSN</th>\n",
       "      <td>50000</td>\n",
       "      <td>12501</td>\n",
       "      <td>#F%$D@*&amp;8</td>\n",
       "      <td>2828</td>\n",
       "    </tr>\n",
       "    <tr>\n",
       "      <th>Occupation</th>\n",
       "      <td>50000</td>\n",
       "      <td>16</td>\n",
       "      <td>_______</td>\n",
       "      <td>3438</td>\n",
       "    </tr>\n",
       "    <tr>\n",
       "      <th>Annual_Income</th>\n",
       "      <td>50000</td>\n",
       "      <td>16121</td>\n",
       "      <td>109945.32</td>\n",
       "      <td>8</td>\n",
       "    </tr>\n",
       "    <tr>\n",
       "      <th>Num_of_Loan</th>\n",
       "      <td>50000</td>\n",
       "      <td>263</td>\n",
       "      <td>2</td>\n",
       "      <td>7173</td>\n",
       "    </tr>\n",
       "    <tr>\n",
       "      <th>Type_of_Loan</th>\n",
       "      <td>44296</td>\n",
       "      <td>6260</td>\n",
       "      <td>Not Specified</td>\n",
       "      <td>704</td>\n",
       "    </tr>\n",
       "    <tr>\n",
       "      <th>Num_of_Delayed_Payment</th>\n",
       "      <td>46502</td>\n",
       "      <td>443</td>\n",
       "      <td>19</td>\n",
       "      <td>2622</td>\n",
       "    </tr>\n",
       "    <tr>\n",
       "      <th>Changed_Credit_Limit</th>\n",
       "      <td>50000</td>\n",
       "      <td>3927</td>\n",
       "      <td>_</td>\n",
       "      <td>1059</td>\n",
       "    </tr>\n",
       "    <tr>\n",
       "      <th>Credit_Mix</th>\n",
       "      <td>50000</td>\n",
       "      <td>4</td>\n",
       "      <td>Standard</td>\n",
       "      <td>18379</td>\n",
       "    </tr>\n",
       "    <tr>\n",
       "      <th>Outstanding_Debt</th>\n",
       "      <td>50000</td>\n",
       "      <td>12685</td>\n",
       "      <td>1109.03</td>\n",
       "      <td>12</td>\n",
       "    </tr>\n",
       "    <tr>\n",
       "      <th>Credit_History_Age</th>\n",
       "      <td>45530</td>\n",
       "      <td>399</td>\n",
       "      <td>20 Years and 1 Months</td>\n",
       "      <td>254</td>\n",
       "    </tr>\n",
       "    <tr>\n",
       "      <th>Payment_of_Min_Amount</th>\n",
       "      <td>50000</td>\n",
       "      <td>3</td>\n",
       "      <td>Yes</td>\n",
       "      <td>26158</td>\n",
       "    </tr>\n",
       "    <tr>\n",
       "      <th>Amount_invested_monthly</th>\n",
       "      <td>47729</td>\n",
       "      <td>45450</td>\n",
       "      <td>__10000__</td>\n",
       "      <td>2175</td>\n",
       "    </tr>\n",
       "    <tr>\n",
       "      <th>Payment_Behaviour</th>\n",
       "      <td>50000</td>\n",
       "      <td>7</td>\n",
       "      <td>Low_spent_Small_value_payments</td>\n",
       "      <td>12694</td>\n",
       "    </tr>\n",
       "    <tr>\n",
       "      <th>Monthly_Balance</th>\n",
       "      <td>49438</td>\n",
       "      <td>49433</td>\n",
       "      <td>__-333333333333333333333333333__</td>\n",
       "      <td>6</td>\n",
       "    </tr>\n",
       "  </tbody>\n",
       "</table>\n",
       "</div>"
      ],
      "text/plain": [
       "                         count unique                               top   freq\n",
       "ID                       50000  50000                            0x160a      1\n",
       "Customer_ID              50000  12500                         CUS_0xd40      4\n",
       "Month                    50000      4                         September  12500\n",
       "Name                     44985  10139                            Stevex     22\n",
       "Age                      50000    976                                39   1493\n",
       "SSN                      50000  12501                         #F%$D@*&8   2828\n",
       "Occupation               50000     16                           _______   3438\n",
       "Annual_Income            50000  16121                         109945.32      8\n",
       "Num_of_Loan              50000    263                                 2   7173\n",
       "Type_of_Loan             44296   6260                     Not Specified    704\n",
       "Num_of_Delayed_Payment   46502    443                                19   2622\n",
       "Changed_Credit_Limit     50000   3927                                 _   1059\n",
       "Credit_Mix               50000      4                          Standard  18379\n",
       "Outstanding_Debt         50000  12685                           1109.03     12\n",
       "Credit_History_Age       45530    399             20 Years and 1 Months    254\n",
       "Payment_of_Min_Amount    50000      3                               Yes  26158\n",
       "Amount_invested_monthly  47729  45450                         __10000__   2175\n",
       "Payment_Behaviour        50000      7    Low_spent_Small_value_payments  12694\n",
       "Monthly_Balance          49438  49433  __-333333333333333333333333333__      6"
      ]
     },
     "execution_count": 12,
     "metadata": {},
     "output_type": "execute_result"
    }
   ],
   "source": [
    "df_test.describe(exclude=np.number).T"
   ]
  },
  {
   "cell_type": "markdown",
   "id": "4995f512",
   "metadata": {},
   "source": [
    "### Missing Values "
   ]
  },
  {
   "cell_type": "code",
   "execution_count": 13,
   "id": "21240309",
   "metadata": {},
   "outputs": [
    {
     "data": {
      "text/plain": [
       "0"
      ]
     },
     "execution_count": 13,
     "metadata": {},
     "output_type": "execute_result"
    }
   ],
   "source": [
    "df_train['Credit_Score'].isna().sum()"
   ]
  },
  {
   "cell_type": "code",
   "execution_count": 14,
   "id": "46466a97",
   "metadata": {},
   "outputs": [
    {
     "data": {
      "text/plain": [
       "0"
      ]
     },
     "execution_count": 14,
     "metadata": {},
     "output_type": "execute_result"
    }
   ],
   "source": [
    "(df_train.columns[:-1]!=df_test.columns).sum()"
   ]
  },
  {
   "cell_type": "code",
   "execution_count": 15,
   "id": "51d22423",
   "metadata": {},
   "outputs": [
    {
     "data": {
      "text/plain": [
       "(150000, 28)"
      ]
     },
     "execution_count": 15,
     "metadata": {},
     "output_type": "execute_result"
    }
   ],
   "source": [
    "#merging data\n",
    "df = pd.concat([df_train, df_test], ignore_index=True)\n",
    "df.shape"
   ]
  },
  {
   "cell_type": "code",
   "execution_count": 16,
   "id": "eb995888",
   "metadata": {},
   "outputs": [
    {
     "data": {
      "text/plain": [
       "50000"
      ]
     },
     "execution_count": 16,
     "metadata": {},
     "output_type": "execute_result"
    }
   ],
   "source": [
    "df['Credit_Score'].isna().sum()"
   ]
  },
  {
   "cell_type": "code",
   "execution_count": 17,
   "id": "bfd15341",
   "metadata": {},
   "outputs": [
    {
     "data": {
      "text/plain": [
       "ID                           0.000000\n",
       "Customer_ID                  0.000000\n",
       "Month                        0.000000\n",
       "Name                        10.000000\n",
       "Age                          0.000000\n",
       "SSN                          0.000000\n",
       "Occupation                   0.000000\n",
       "Annual_Income                0.000000\n",
       "Monthly_Inhand_Salary       15.000000\n",
       "Num_Bank_Accounts            0.000000\n",
       "Num_Credit_Card              0.000000\n",
       "Interest_Rate                0.000000\n",
       "Num_of_Loan                  0.000000\n",
       "Type_of_Loan                11.408000\n",
       "Delay_from_due_date          0.000000\n",
       "Num_of_Delayed_Payment       7.000000\n",
       "Changed_Credit_Limit         0.000000\n",
       "Num_Credit_Inquiries         2.000000\n",
       "Credit_Mix                   0.000000\n",
       "Outstanding_Debt             0.000000\n",
       "Credit_Utilization_Ratio     0.000000\n",
       "Credit_History_Age           9.000000\n",
       "Payment_of_Min_Amount        0.000000\n",
       "Total_EMI_per_month          0.000000\n",
       "Amount_invested_monthly      4.500000\n",
       "Payment_Behaviour            0.000000\n",
       "Monthly_Balance              1.174667\n",
       "Credit_Score                33.333333\n",
       "dtype: float64"
      ]
     },
     "execution_count": 17,
     "metadata": {},
     "output_type": "execute_result"
    }
   ],
   "source": [
    "df.isnull().mean()*100"
   ]
  },
  {
   "cell_type": "code",
   "execution_count": 18,
   "id": "04676376",
   "metadata": {},
   "outputs": [
    {
     "data": {
      "text/plain": [
       "Index(['ID', 'Customer_ID', 'Month', 'Name', 'Age', 'SSN', 'Occupation',\n",
       "       'Annual_Income', 'Monthly_Inhand_Salary', 'Num_Bank_Accounts',\n",
       "       'Num_Credit_Card', 'Interest_Rate', 'Num_of_Loan', 'Type_of_Loan',\n",
       "       'Delay_from_due_date', 'Num_of_Delayed_Payment', 'Changed_Credit_Limit',\n",
       "       'Num_Credit_Inquiries', 'Credit_Mix', 'Outstanding_Debt',\n",
       "       'Credit_Utilization_Ratio', 'Credit_History_Age',\n",
       "       'Payment_of_Min_Amount', 'Total_EMI_per_month',\n",
       "       'Amount_invested_monthly', 'Payment_Behaviour', 'Monthly_Balance',\n",
       "       'Credit_Score'],\n",
       "      dtype='object')"
      ]
     },
     "execution_count": 18,
     "metadata": {},
     "output_type": "execute_result"
    }
   ],
   "source": [
    "df.columns"
   ]
  },
  {
   "cell_type": "markdown",
   "id": "ea17ea70",
   "metadata": {},
   "source": [
    "### Examing the Data"
   ]
  },
  {
   "cell_type": "code",
   "execution_count": 19,
   "id": "92f23bce",
   "metadata": {},
   "outputs": [
    {
     "name": "stdout",
     "output_type": "stream",
     "text": [
      "<class 'pandas.core.frame.DataFrame'>\n",
      "RangeIndex: 150000 entries, 0 to 149999\n",
      "Data columns (total 20 columns):\n",
      " #   Column                   Non-Null Count   Dtype \n",
      "---  ------                   --------------   ----- \n",
      " 0   ID                       150000 non-null  object\n",
      " 1   Customer_ID              150000 non-null  object\n",
      " 2   Month                    150000 non-null  object\n",
      " 3   Name                     135000 non-null  object\n",
      " 4   Age                      150000 non-null  object\n",
      " 5   SSN                      150000 non-null  object\n",
      " 6   Occupation               150000 non-null  object\n",
      " 7   Annual_Income            150000 non-null  object\n",
      " 8   Num_of_Loan              150000 non-null  object\n",
      " 9   Type_of_Loan             132888 non-null  object\n",
      " 10  Num_of_Delayed_Payment   139500 non-null  object\n",
      " 11  Changed_Credit_Limit     150000 non-null  object\n",
      " 12  Credit_Mix               150000 non-null  object\n",
      " 13  Outstanding_Debt         150000 non-null  object\n",
      " 14  Credit_History_Age       136500 non-null  object\n",
      " 15  Payment_of_Min_Amount    150000 non-null  object\n",
      " 16  Amount_invested_monthly  143250 non-null  object\n",
      " 17  Payment_Behaviour        150000 non-null  object\n",
      " 18  Monthly_Balance          148238 non-null  object\n",
      " 19  Credit_Score             100000 non-null  object\n",
      "dtypes: object(20)\n",
      "memory usage: 22.9+ MB\n"
     ]
    }
   ],
   "source": [
    "df.select_dtypes('O').info()"
   ]
  },
  {
   "cell_type": "code",
   "execution_count": 20,
   "id": "fa5d63d1",
   "metadata": {},
   "outputs": [
    {
     "data": {
      "text/plain": [
       "Index(['ID', 'Customer_ID', 'Month', 'Name', 'Age', 'SSN', 'Occupation',\n",
       "       'Annual_Income', 'Num_of_Loan', 'Type_of_Loan',\n",
       "       'Num_of_Delayed_Payment', 'Changed_Credit_Limit', 'Credit_Mix',\n",
       "       'Outstanding_Debt', 'Credit_History_Age', 'Payment_of_Min_Amount',\n",
       "       'Amount_invested_monthly', 'Payment_Behaviour', 'Monthly_Balance',\n",
       "       'Credit_Score'],\n",
       "      dtype='object')"
      ]
     },
     "execution_count": 20,
     "metadata": {},
     "output_type": "execute_result"
    }
   ],
   "source": [
    "object_col = df.describe(include='O').columns\n",
    "object_col"
   ]
  },
  {
   "cell_type": "code",
   "execution_count": 21,
   "id": "d16c6a04",
   "metadata": {},
   "outputs": [
    {
     "data": {
      "text/html": [
       "<div>\n",
       "<style scoped>\n",
       "    .dataframe tbody tr th:only-of-type {\n",
       "        vertical-align: middle;\n",
       "    }\n",
       "\n",
       "    .dataframe tbody tr th {\n",
       "        vertical-align: top;\n",
       "    }\n",
       "\n",
       "    .dataframe thead th {\n",
       "        text-align: right;\n",
       "    }\n",
       "</style>\n",
       "<table border=\"1\" class=\"dataframe\">\n",
       "  <thead>\n",
       "    <tr style=\"text-align: right;\">\n",
       "      <th></th>\n",
       "      <th>ID</th>\n",
       "      <th>Customer_ID</th>\n",
       "      <th>Month</th>\n",
       "      <th>Name</th>\n",
       "      <th>Age</th>\n",
       "      <th>SSN</th>\n",
       "      <th>Occupation</th>\n",
       "      <th>Annual_Income</th>\n",
       "      <th>Monthly_Inhand_Salary</th>\n",
       "      <th>Num_Bank_Accounts</th>\n",
       "      <th>...</th>\n",
       "      <th>Credit_Mix</th>\n",
       "      <th>Outstanding_Debt</th>\n",
       "      <th>Credit_Utilization_Ratio</th>\n",
       "      <th>Credit_History_Age</th>\n",
       "      <th>Payment_of_Min_Amount</th>\n",
       "      <th>Total_EMI_per_month</th>\n",
       "      <th>Amount_invested_monthly</th>\n",
       "      <th>Payment_Behaviour</th>\n",
       "      <th>Monthly_Balance</th>\n",
       "      <th>Credit_Score</th>\n",
       "    </tr>\n",
       "  </thead>\n",
       "  <tbody>\n",
       "    <tr>\n",
       "      <th>0</th>\n",
       "      <td>0x1602</td>\n",
       "      <td>CUS_0xd40</td>\n",
       "      <td>January</td>\n",
       "      <td>Aaron Maashoh</td>\n",
       "      <td>23</td>\n",
       "      <td>821-00-0265</td>\n",
       "      <td>Scientist</td>\n",
       "      <td>19114.12</td>\n",
       "      <td>1824.843333</td>\n",
       "      <td>3</td>\n",
       "      <td>...</td>\n",
       "      <td>NaN</td>\n",
       "      <td>809.98</td>\n",
       "      <td>26.822620</td>\n",
       "      <td>22 Years and 1 Months</td>\n",
       "      <td>No</td>\n",
       "      <td>49.574949</td>\n",
       "      <td>80.41529543900253</td>\n",
       "      <td>High_spent_Small_value_payments</td>\n",
       "      <td>312.49408867943663</td>\n",
       "      <td>Good</td>\n",
       "    </tr>\n",
       "    <tr>\n",
       "      <th>1</th>\n",
       "      <td>0x1603</td>\n",
       "      <td>CUS_0xd40</td>\n",
       "      <td>February</td>\n",
       "      <td>Aaron Maashoh</td>\n",
       "      <td>23</td>\n",
       "      <td>821-00-0265</td>\n",
       "      <td>Scientist</td>\n",
       "      <td>19114.12</td>\n",
       "      <td>NaN</td>\n",
       "      <td>3</td>\n",
       "      <td>...</td>\n",
       "      <td>Good</td>\n",
       "      <td>809.98</td>\n",
       "      <td>31.944960</td>\n",
       "      <td>NaN</td>\n",
       "      <td>No</td>\n",
       "      <td>49.574949</td>\n",
       "      <td>118.28022162236736</td>\n",
       "      <td>Low_spent_Large_value_payments</td>\n",
       "      <td>284.62916249607184</td>\n",
       "      <td>Good</td>\n",
       "    </tr>\n",
       "    <tr>\n",
       "      <th>2</th>\n",
       "      <td>0x1604</td>\n",
       "      <td>CUS_0xd40</td>\n",
       "      <td>March</td>\n",
       "      <td>Aaron Maashoh</td>\n",
       "      <td>-500</td>\n",
       "      <td>821-00-0265</td>\n",
       "      <td>Scientist</td>\n",
       "      <td>19114.12</td>\n",
       "      <td>NaN</td>\n",
       "      <td>3</td>\n",
       "      <td>...</td>\n",
       "      <td>Good</td>\n",
       "      <td>809.98</td>\n",
       "      <td>28.609352</td>\n",
       "      <td>22 Years and 3 Months</td>\n",
       "      <td>No</td>\n",
       "      <td>49.574949</td>\n",
       "      <td>81.699521264648</td>\n",
       "      <td>Low_spent_Medium_value_payments</td>\n",
       "      <td>331.2098628537912</td>\n",
       "      <td>Good</td>\n",
       "    </tr>\n",
       "    <tr>\n",
       "      <th>3</th>\n",
       "      <td>0x1605</td>\n",
       "      <td>CUS_0xd40</td>\n",
       "      <td>April</td>\n",
       "      <td>Aaron Maashoh</td>\n",
       "      <td>23</td>\n",
       "      <td>821-00-0265</td>\n",
       "      <td>Scientist</td>\n",
       "      <td>19114.12</td>\n",
       "      <td>NaN</td>\n",
       "      <td>3</td>\n",
       "      <td>...</td>\n",
       "      <td>Good</td>\n",
       "      <td>809.98</td>\n",
       "      <td>31.377862</td>\n",
       "      <td>22 Years and 4 Months</td>\n",
       "      <td>No</td>\n",
       "      <td>49.574949</td>\n",
       "      <td>199.4580743910713</td>\n",
       "      <td>Low_spent_Small_value_payments</td>\n",
       "      <td>223.45130972736786</td>\n",
       "      <td>Good</td>\n",
       "    </tr>\n",
       "    <tr>\n",
       "      <th>4</th>\n",
       "      <td>0x1606</td>\n",
       "      <td>CUS_0xd40</td>\n",
       "      <td>May</td>\n",
       "      <td>Aaron Maashoh</td>\n",
       "      <td>23</td>\n",
       "      <td>821-00-0265</td>\n",
       "      <td>Scientist</td>\n",
       "      <td>19114.12</td>\n",
       "      <td>1824.843333</td>\n",
       "      <td>3</td>\n",
       "      <td>...</td>\n",
       "      <td>Good</td>\n",
       "      <td>809.98</td>\n",
       "      <td>24.797347</td>\n",
       "      <td>22 Years and 5 Months</td>\n",
       "      <td>No</td>\n",
       "      <td>49.574949</td>\n",
       "      <td>41.420153086217326</td>\n",
       "      <td>High_spent_Medium_value_payments</td>\n",
       "      <td>341.48923103222177</td>\n",
       "      <td>Good</td>\n",
       "    </tr>\n",
       "    <tr>\n",
       "      <th>...</th>\n",
       "      <td>...</td>\n",
       "      <td>...</td>\n",
       "      <td>...</td>\n",
       "      <td>...</td>\n",
       "      <td>...</td>\n",
       "      <td>...</td>\n",
       "      <td>...</td>\n",
       "      <td>...</td>\n",
       "      <td>...</td>\n",
       "      <td>...</td>\n",
       "      <td>...</td>\n",
       "      <td>...</td>\n",
       "      <td>...</td>\n",
       "      <td>...</td>\n",
       "      <td>...</td>\n",
       "      <td>...</td>\n",
       "      <td>...</td>\n",
       "      <td>...</td>\n",
       "      <td>...</td>\n",
       "      <td>...</td>\n",
       "      <td>...</td>\n",
       "    </tr>\n",
       "    <tr>\n",
       "      <th>149995</th>\n",
       "      <td>0x25fe5</td>\n",
       "      <td>CUS_0x8600</td>\n",
       "      <td>December</td>\n",
       "      <td>Sarah McBridec</td>\n",
       "      <td>4975</td>\n",
       "      <td>031-35-0942</td>\n",
       "      <td>Architect</td>\n",
       "      <td>20002.88</td>\n",
       "      <td>1929.906667</td>\n",
       "      <td>10</td>\n",
       "      <td>...</td>\n",
       "      <td>NaN</td>\n",
       "      <td>3571.7</td>\n",
       "      <td>34.780553</td>\n",
       "      <td>NaN</td>\n",
       "      <td>Yes</td>\n",
       "      <td>60.964772</td>\n",
       "      <td>146.48632477751087</td>\n",
       "      <td>Low_spent_Small_value_payments</td>\n",
       "      <td>275.53956951573343</td>\n",
       "      <td>NaN</td>\n",
       "    </tr>\n",
       "    <tr>\n",
       "      <th>149996</th>\n",
       "      <td>0x25fee</td>\n",
       "      <td>CUS_0x942c</td>\n",
       "      <td>September</td>\n",
       "      <td>Nicks</td>\n",
       "      <td>25</td>\n",
       "      <td>078-73-5990</td>\n",
       "      <td>Mechanic</td>\n",
       "      <td>39628.99</td>\n",
       "      <td>NaN</td>\n",
       "      <td>4</td>\n",
       "      <td>...</td>\n",
       "      <td>Good</td>\n",
       "      <td>502.38</td>\n",
       "      <td>27.758522</td>\n",
       "      <td>31 Years and 11 Months</td>\n",
       "      <td>NM</td>\n",
       "      <td>35.104023</td>\n",
       "      <td>181.44299902757518</td>\n",
       "      <td>Low_spent_Small_value_payments</td>\n",
       "      <td>409.39456169535066</td>\n",
       "      <td>NaN</td>\n",
       "    </tr>\n",
       "    <tr>\n",
       "      <th>149997</th>\n",
       "      <td>0x25fef</td>\n",
       "      <td>CUS_0x942c</td>\n",
       "      <td>October</td>\n",
       "      <td>Nicks</td>\n",
       "      <td>25</td>\n",
       "      <td>078-73-5990</td>\n",
       "      <td>Mechanic</td>\n",
       "      <td>39628.99</td>\n",
       "      <td>3359.415833</td>\n",
       "      <td>4</td>\n",
       "      <td>...</td>\n",
       "      <td>Good</td>\n",
       "      <td>502.38</td>\n",
       "      <td>36.858542</td>\n",
       "      <td>32 Years and 0 Months</td>\n",
       "      <td>No</td>\n",
       "      <td>35.104023</td>\n",
       "      <td>10000</td>\n",
       "      <td>Low_spent_Large_value_payments</td>\n",
       "      <td>349.7263321025098</td>\n",
       "      <td>NaN</td>\n",
       "    </tr>\n",
       "    <tr>\n",
       "      <th>149998</th>\n",
       "      <td>0x25ff0</td>\n",
       "      <td>CUS_0x942c</td>\n",
       "      <td>November</td>\n",
       "      <td>Nicks</td>\n",
       "      <td>25</td>\n",
       "      <td>078-73-5990</td>\n",
       "      <td>Mechanic</td>\n",
       "      <td>39628.99</td>\n",
       "      <td>NaN</td>\n",
       "      <td>4</td>\n",
       "      <td>...</td>\n",
       "      <td>Good</td>\n",
       "      <td>502.38</td>\n",
       "      <td>39.139840</td>\n",
       "      <td>32 Years and 1 Months</td>\n",
       "      <td>No</td>\n",
       "      <td>35.104023</td>\n",
       "      <td>97.59857973344877</td>\n",
       "      <td>High_spent_Small_value_payments</td>\n",
       "      <td>463.23898098947717</td>\n",
       "      <td>NaN</td>\n",
       "    </tr>\n",
       "    <tr>\n",
       "      <th>149999</th>\n",
       "      <td>0x25ff1</td>\n",
       "      <td>CUS_0x942c</td>\n",
       "      <td>December</td>\n",
       "      <td>Nicks</td>\n",
       "      <td>25</td>\n",
       "      <td>078-73-5990</td>\n",
       "      <td>Mechanic</td>\n",
       "      <td>39628.99</td>\n",
       "      <td>3359.415833</td>\n",
       "      <td>4</td>\n",
       "      <td>...</td>\n",
       "      <td>NaN</td>\n",
       "      <td>502.38</td>\n",
       "      <td>34.108530</td>\n",
       "      <td>32 Years and 2 Months</td>\n",
       "      <td>No</td>\n",
       "      <td>35.104023</td>\n",
       "      <td>220.45787812168732</td>\n",
       "      <td>Low_spent_Medium_value_payments</td>\n",
       "      <td>360.37968260123847</td>\n",
       "      <td>NaN</td>\n",
       "    </tr>\n",
       "  </tbody>\n",
       "</table>\n",
       "<p>150000 rows × 28 columns</p>\n",
       "</div>"
      ],
      "text/plain": [
       "             ID Customer_ID      Month            Name   Age          SSN  \\\n",
       "0        0x1602   CUS_0xd40    January   Aaron Maashoh    23  821-00-0265   \n",
       "1        0x1603   CUS_0xd40   February   Aaron Maashoh    23  821-00-0265   \n",
       "2        0x1604   CUS_0xd40      March   Aaron Maashoh  -500  821-00-0265   \n",
       "3        0x1605   CUS_0xd40      April   Aaron Maashoh    23  821-00-0265   \n",
       "4        0x1606   CUS_0xd40        May   Aaron Maashoh    23  821-00-0265   \n",
       "...         ...         ...        ...             ...   ...          ...   \n",
       "149995  0x25fe5  CUS_0x8600   December  Sarah McBridec  4975  031-35-0942   \n",
       "149996  0x25fee  CUS_0x942c  September           Nicks    25  078-73-5990   \n",
       "149997  0x25fef  CUS_0x942c    October           Nicks    25  078-73-5990   \n",
       "149998  0x25ff0  CUS_0x942c   November           Nicks    25  078-73-5990   \n",
       "149999  0x25ff1  CUS_0x942c   December           Nicks    25  078-73-5990   \n",
       "\n",
       "       Occupation Annual_Income  Monthly_Inhand_Salary  Num_Bank_Accounts  \\\n",
       "0       Scientist      19114.12            1824.843333                  3   \n",
       "1       Scientist      19114.12                    NaN                  3   \n",
       "2       Scientist      19114.12                    NaN                  3   \n",
       "3       Scientist      19114.12                    NaN                  3   \n",
       "4       Scientist      19114.12            1824.843333                  3   \n",
       "...           ...           ...                    ...                ...   \n",
       "149995  Architect      20002.88            1929.906667                 10   \n",
       "149996   Mechanic      39628.99                    NaN                  4   \n",
       "149997   Mechanic      39628.99            3359.415833                  4   \n",
       "149998   Mechanic      39628.99                    NaN                  4   \n",
       "149999   Mechanic      39628.99            3359.415833                  4   \n",
       "\n",
       "        ...  Credit_Mix  Outstanding_Debt Credit_Utilization_Ratio  \\\n",
       "0       ...         NaN            809.98                26.822620   \n",
       "1       ...        Good            809.98                31.944960   \n",
       "2       ...        Good            809.98                28.609352   \n",
       "3       ...        Good            809.98                31.377862   \n",
       "4       ...        Good            809.98                24.797347   \n",
       "...     ...         ...               ...                      ...   \n",
       "149995  ...         NaN            3571.7                34.780553   \n",
       "149996  ...        Good            502.38                27.758522   \n",
       "149997  ...        Good            502.38                36.858542   \n",
       "149998  ...        Good            502.38                39.139840   \n",
       "149999  ...         NaN            502.38                34.108530   \n",
       "\n",
       "            Credit_History_Age  Payment_of_Min_Amount Total_EMI_per_month  \\\n",
       "0        22 Years and 1 Months                     No           49.574949   \n",
       "1                          NaN                     No           49.574949   \n",
       "2        22 Years and 3 Months                     No           49.574949   \n",
       "3        22 Years and 4 Months                     No           49.574949   \n",
       "4        22 Years and 5 Months                     No           49.574949   \n",
       "...                        ...                    ...                 ...   \n",
       "149995                     NaN                    Yes           60.964772   \n",
       "149996  31 Years and 11 Months                     NM           35.104023   \n",
       "149997   32 Years and 0 Months                     No           35.104023   \n",
       "149998   32 Years and 1 Months                     No           35.104023   \n",
       "149999   32 Years and 2 Months                     No           35.104023   \n",
       "\n",
       "       Amount_invested_monthly                 Payment_Behaviour  \\\n",
       "0            80.41529543900253   High_spent_Small_value_payments   \n",
       "1           118.28022162236736    Low_spent_Large_value_payments   \n",
       "2              81.699521264648   Low_spent_Medium_value_payments   \n",
       "3            199.4580743910713    Low_spent_Small_value_payments   \n",
       "4           41.420153086217326  High_spent_Medium_value_payments   \n",
       "...                        ...                               ...   \n",
       "149995      146.48632477751087    Low_spent_Small_value_payments   \n",
       "149996      181.44299902757518    Low_spent_Small_value_payments   \n",
       "149997                   10000    Low_spent_Large_value_payments   \n",
       "149998       97.59857973344877   High_spent_Small_value_payments   \n",
       "149999      220.45787812168732   Low_spent_Medium_value_payments   \n",
       "\n",
       "           Monthly_Balance Credit_Score  \n",
       "0       312.49408867943663         Good  \n",
       "1       284.62916249607184         Good  \n",
       "2        331.2098628537912         Good  \n",
       "3       223.45130972736786         Good  \n",
       "4       341.48923103222177         Good  \n",
       "...                    ...          ...  \n",
       "149995  275.53956951573343          NaN  \n",
       "149996  409.39456169535066          NaN  \n",
       "149997   349.7263321025098          NaN  \n",
       "149998  463.23898098947717          NaN  \n",
       "149999  360.37968260123847          NaN  \n",
       "\n",
       "[150000 rows x 28 columns]"
      ]
     },
     "execution_count": 21,
     "metadata": {},
     "output_type": "execute_result"
    }
   ],
   "source": [
    "df = df.applymap(lambda x: x if x is np.NaN or not isinstance(x, str) else str(x).strip('_ ,\"')).replace(['', 'nan', '!@9#%8', '#F%$D@*&8'], np.NaN)\n",
    "df"
   ]
  },
  {
   "cell_type": "code",
   "execution_count": 22,
   "id": "67ab0f95",
   "metadata": {},
   "outputs": [
    {
     "data": {
      "text/plain": [
       "ID                              0\n",
       "Customer_ID                     0\n",
       "Month                           0\n",
       "Name                        15000\n",
       "Age                             0\n",
       "SSN                          8400\n",
       "Occupation                  10500\n",
       "Annual_Income                   0\n",
       "Monthly_Inhand_Salary       22500\n",
       "Num_Bank_Accounts               0\n",
       "Num_Credit_Card                 0\n",
       "Interest_Rate                   0\n",
       "Num_of_Loan                     0\n",
       "Type_of_Loan                17112\n",
       "Delay_from_due_date             0\n",
       "Num_of_Delayed_Payment      10500\n",
       "Changed_Credit_Limit         3150\n",
       "Num_Credit_Inquiries         3000\n",
       "Credit_Mix                  30000\n",
       "Outstanding_Debt                0\n",
       "Credit_Utilization_Ratio        0\n",
       "Credit_History_Age          13500\n",
       "Payment_of_Min_Amount           0\n",
       "Total_EMI_per_month             0\n",
       "Amount_invested_monthly      6750\n",
       "Payment_Behaviour           11400\n",
       "Monthly_Balance              1762\n",
       "Credit_Score                50000\n",
       "dtype: int64"
      ]
     },
     "execution_count": 22,
     "metadata": {},
     "output_type": "execute_result"
    }
   ],
   "source": [
    "df.isna().sum()"
   ]
  },
  {
   "cell_type": "markdown",
   "id": "ce4ee718",
   "metadata": {},
   "source": [
    "## Fixing Data"
   ]
  },
  {
   "cell_type": "code",
   "execution_count": 23,
   "id": "aa57623b",
   "metadata": {},
   "outputs": [
    {
     "name": "stdout",
     "output_type": "stream",
     "text": [
      "<class 'pandas.core.frame.DataFrame'>\n",
      "RangeIndex: 150000 entries, 0 to 149999\n",
      "Data columns (total 20 columns):\n",
      " #   Column                   Non-Null Count   Dtype \n",
      "---  ------                   --------------   ----- \n",
      " 0   ID                       150000 non-null  object\n",
      " 1   Customer_ID              150000 non-null  object\n",
      " 2   Month                    150000 non-null  object\n",
      " 3   Name                     135000 non-null  object\n",
      " 4   Age                      150000 non-null  object\n",
      " 5   SSN                      141600 non-null  object\n",
      " 6   Occupation               139500 non-null  object\n",
      " 7   Annual_Income            150000 non-null  object\n",
      " 8   Num_of_Loan              150000 non-null  object\n",
      " 9   Type_of_Loan             132888 non-null  object\n",
      " 10  Num_of_Delayed_Payment   139500 non-null  object\n",
      " 11  Changed_Credit_Limit     146850 non-null  object\n",
      " 12  Credit_Mix               120000 non-null  object\n",
      " 13  Outstanding_Debt         150000 non-null  object\n",
      " 14  Credit_History_Age       136500 non-null  object\n",
      " 15  Payment_of_Min_Amount    150000 non-null  object\n",
      " 16  Amount_invested_monthly  143250 non-null  object\n",
      " 17  Payment_Behaviour        138600 non-null  object\n",
      " 18  Monthly_Balance          148238 non-null  object\n",
      " 19  Credit_Score             100000 non-null  object\n",
      "dtypes: object(20)\n",
      "memory usage: 22.9+ MB\n"
     ]
    }
   ],
   "source": [
    "df.select_dtypes('O').info()"
   ]
  },
  {
   "cell_type": "markdown",
   "id": "dd464936",
   "metadata": {},
   "source": [
    "##### Column type chancing"
   ]
  },
  {
   "cell_type": "code",
   "execution_count": 24,
   "id": "3781d692",
   "metadata": {},
   "outputs": [],
   "source": [
    "df['ID'] = df.ID.apply(lambda x: int(x, 16))"
   ]
  },
  {
   "cell_type": "code",
   "execution_count": 25,
   "id": "1f35d262",
   "metadata": {},
   "outputs": [],
   "source": [
    "df['Customer_ID'] = df.Customer_ID.apply(lambda x: int(x[4:], 16))"
   ]
  },
  {
   "cell_type": "code",
   "execution_count": 26,
   "id": "acc9d435",
   "metadata": {},
   "outputs": [],
   "source": [
    "df['Month'] = pd.to_datetime(df.Month, format='%B').dt.month"
   ]
  },
  {
   "cell_type": "code",
   "execution_count": 27,
   "id": "6be712e4",
   "metadata": {},
   "outputs": [],
   "source": [
    "df['Age'] = df.Age.astype(int)"
   ]
  },
  {
   "cell_type": "code",
   "execution_count": 28,
   "id": "1023794e",
   "metadata": {},
   "outputs": [],
   "source": [
    "df['SSN'] = df.SSN.apply(lambda x: x if x is np.NaN else int(str(x).replace('-', ''))).astype(float)"
   ]
  },
  {
   "cell_type": "code",
   "execution_count": 29,
   "id": "1e9c28ea",
   "metadata": {},
   "outputs": [],
   "source": [
    "df['Annual_Income'] = df.Annual_Income.astype(float)"
   ]
  },
  {
   "cell_type": "code",
   "execution_count": 30,
   "id": "72431e9a",
   "metadata": {},
   "outputs": [],
   "source": [
    "df['Num_of_Loan'] = df.Num_of_Loan.astype(int) "
   ]
  },
  {
   "cell_type": "code",
   "execution_count": 31,
   "id": "908aa919",
   "metadata": {},
   "outputs": [],
   "source": [
    "df['Num_of_Delayed_Payment'] = df.Num_of_Delayed_Payment.astype(float)"
   ]
  },
  {
   "cell_type": "code",
   "execution_count": 32,
   "id": "78415ce2",
   "metadata": {},
   "outputs": [],
   "source": [
    "df['Changed_Credit_Limit'] = df.Changed_Credit_Limit.astype(float)"
   ]
  },
  {
   "cell_type": "code",
   "execution_count": 33,
   "id": "5c646f5e",
   "metadata": {},
   "outputs": [],
   "source": [
    "df['Outstanding_Debt'] = df.Outstanding_Debt.astype(float)"
   ]
  },
  {
   "cell_type": "code",
   "execution_count": 34,
   "id": "317a3455",
   "metadata": {},
   "outputs": [],
   "source": [
    "df['Amount_invested_monthly'] = df.Amount_invested_monthly.astype(float)"
   ]
  },
  {
   "cell_type": "code",
   "execution_count": 35,
   "id": "be3ba786",
   "metadata": {},
   "outputs": [],
   "source": [
    "df['Monthly_Balance'] = df.Monthly_Balance.astype(float)"
   ]
  },
  {
   "cell_type": "code",
   "execution_count": 38,
   "id": "95859600",
   "metadata": {},
   "outputs": [
    {
     "data": {
      "text/plain": [
       "0          22 Years and 1 Months\n",
       "1                            NaN\n",
       "2          22 Years and 3 Months\n",
       "3          22 Years and 4 Months\n",
       "4          22 Years and 5 Months\n",
       "                   ...          \n",
       "149995                       NaN\n",
       "149996    31 Years and 11 Months\n",
       "149997     32 Years and 0 Months\n",
       "149998     32 Years and 1 Months\n",
       "149999     32 Years and 2 Months\n",
       "Name: Credit_History_Age, Length: 150000, dtype: object"
      ]
     },
     "execution_count": 38,
     "metadata": {},
     "output_type": "execute_result"
    }
   ],
   "source": [
    "ya = df['Credit_History_Age']\n",
    "ya"
   ]
  },
  {
   "cell_type": "code",
   "execution_count": 49,
   "id": "8c886b35",
   "metadata": {},
   "outputs": [],
   "source": [
    "def Year_Month_converter(date):\n",
    "    if pd.notnull(date):\n",
    "        data = date.split(' ')\n",
    "        year = int(data[0])\n",
    "        month = int(data[-2])\n",
    "      \n",
    "        return (year*12)+month\n",
    "    else:\n",
    "        return date"
   ]
  },
  {
   "cell_type": "code",
   "execution_count": 50,
   "id": "8a34a5a5",
   "metadata": {},
   "outputs": [
    {
     "data": {
      "text/plain": [
       "265"
      ]
     },
     "execution_count": 50,
     "metadata": {},
     "output_type": "execute_result"
    }
   ],
   "source": [
    "Year_Month_converter(df['Credit_History_Age'][0])"
   ]
  },
  {
   "cell_type": "code",
   "execution_count": 52,
   "id": "637b2a84",
   "metadata": {},
   "outputs": [],
   "source": [
    "df['Credit_History_Age'] = df.Credit_History_Age.apply(lambda x: Year_Month_converter(x)).astype(float)"
   ]
  },
  {
   "cell_type": "code",
   "execution_count": 53,
   "id": "8e81ea38",
   "metadata": {},
   "outputs": [
    {
     "data": {
      "text/plain": [
       "Customer_ID\n",
       "1006     [182.0, 183.0, 184.0, 185.0, 186.0, 187.0, 188...\n",
       "1007     [346.0, 347.0, 348.0, 349.0, 350.0, nan, 352.0...\n",
       "1008     [292.0, 293.0, 294.0, nan, 296.0, 297.0, 298.0...\n",
       "1009     [331.0, 332.0, 333.0, 334.0, 335.0, 336.0, 337...\n",
       "1011     [179.0, 180.0, nan, 182.0, 183.0, 184.0, 185.0...\n",
       "                               ...                        \n",
       "50984    [157.0, 158.0, 159.0, nan, 161.0, 162.0, nan, ...\n",
       "50990    [70.0, 71.0, 72.0, nan, nan, 75.0, 76.0, 77.0,...\n",
       "50992    [159.0, 160.0, 161.0, 162.0, 163.0, nan, 165.0...\n",
       "50996    [206.0, 207.0, 208.0, 209.0, 210.0, 211.0, 212...\n",
       "50999    [226.0, 227.0, 228.0, 229.0, 230.0, 231.0, 232...\n",
       "Name: Credit_History_Age, Length: 12500, dtype: object"
      ]
     },
     "execution_count": 53,
     "metadata": {},
     "output_type": "execute_result"
    }
   ],
   "source": [
    "df.groupby('Customer_ID')['Credit_History_Age'].apply(list)"
   ]
  },
  {
   "cell_type": "code",
   "execution_count": 54,
   "id": "c7097e51",
   "metadata": {},
   "outputs": [
    {
     "data": {
      "text/plain": [
       "Customer_ID  Type_of_Loan                                                                                         \n",
       "1006         Credit-Builder Loan, and Payday Loan                                                                     12\n",
       "1007         Home Equity Loan, Mortgage Loan, and Student Loan                                                        12\n",
       "1008         NaN                                                                                                      12\n",
       "1009         Credit-Builder Loan, Student Loan, Not Specified, and Student Loan                                       12\n",
       "1011         Personal Loan, Auto Loan, and Auto Loan                                                                  12\n",
       "                                                                                                                      ..\n",
       "50984        Home Equity Loan, Mortgage Loan, Payday Loan, Mortgage Loan, Mortgage Loan, and Payday Loan              12\n",
       "50990        Mortgage Loan, Auto Loan, and Auto Loan                                                                  12\n",
       "50992        Student Loan, Credit-Builder Loan, Mortgage Loan, Payday Loan, Home Equity Loan, and Home Equity Loan    12\n",
       "50996        NaN                                                                                                      12\n",
       "50999        Credit-Builder Loan                                                                                      12\n",
       "Name: Type_of_Loan, Length: 12500, dtype: int64"
      ]
     },
     "execution_count": 54,
     "metadata": {},
     "output_type": "execute_result"
    }
   ],
   "source": [
    "df.groupby('Customer_ID')['Type_of_Loan'].value_counts(dropna=False)"
   ]
  },
  {
   "cell_type": "code",
   "execution_count": 55,
   "id": "61f78d3e",
   "metadata": {},
   "outputs": [
    {
     "data": {
      "text/plain": [
       "Customer_ID\n",
       "1006     [Credit-Builder Loan, and Payday Loan, Credit-...\n",
       "1007     [Home Equity Loan, Mortgage Loan, and Student ...\n",
       "1008     [nan, nan, nan, nan, nan, nan, nan, nan, nan, ...\n",
       "1009     [Credit-Builder Loan, Student Loan, Not Specif...\n",
       "1011     [Personal Loan, Auto Loan, and Auto Loan, Pers...\n",
       "                               ...                        \n",
       "50984    [Home Equity Loan, Mortgage Loan, Payday Loan,...\n",
       "50990    [Mortgage Loan, Auto Loan, and Auto Loan, Mort...\n",
       "50992    [Student Loan, Credit-Builder Loan, Mortgage L...\n",
       "50996    [nan, nan, nan, nan, nan, nan, nan, nan, nan, ...\n",
       "50999    [Credit-Builder Loan, Credit-Builder Loan, Cre...\n",
       "Name: Type_of_Loan, Length: 12500, dtype: object"
      ]
     },
     "execution_count": 55,
     "metadata": {},
     "output_type": "execute_result"
    }
   ],
   "source": [
    "df.groupby('Customer_ID')['Type_of_Loan'].apply(list)"
   ]
  },
  {
   "cell_type": "code",
   "execution_count": 88,
   "id": "58f7c099",
   "metadata": {},
   "outputs": [],
   "source": [
    "def different_values_column(df_column):\n",
    "    diff_value = set()\n",
    "    for i in df_column.dropna():\n",
    "        values = set(map(str.strip, i.replace('and', ',').split(',')))\n",
    "        diff_value |= values\n",
    "        dic = {i-1:v for i,v in enumerate(sorted(diff_value))}\n",
    "        del dic[-1]# for remove the empty index\n",
    "    return dic"
   ]
  },
  {
   "cell_type": "code",
   "execution_count": 89,
   "id": "ffb9dd6e",
   "metadata": {},
   "outputs": [
    {
     "data": {
      "text/plain": [
       "{0: 'Auto Loan',\n",
       " 1: 'Credit-Builder Loan',\n",
       " 2: 'Debt Consolidation Loan',\n",
       " 3: 'Home Equity Loan',\n",
       " 4: 'Mortgage Loan',\n",
       " 5: 'Not Specified',\n",
       " 6: 'Payday Loan',\n",
       " 7: 'Personal Loan',\n",
       " 8: 'Student Loan'}"
      ]
     },
     "execution_count": 89,
     "metadata": {},
     "output_type": "execute_result"
    }
   ],
   "source": [
    "different_values_column(df['Type_of_Loan'])"
   ]
  },
  {
   "cell_type": "code",
   "execution_count": 105,
   "id": "2f239269",
   "metadata": {},
   "outputs": [],
   "source": [
    "def reassign_group_object_nan_values(df, groupby, column, inplace=True):\n",
    "    if not inplace:\n",
    "        df = df.copy()\n",
    "        \n",
    "    def assign_nans(df, groupby, column):\n",
    "        # Replace None with np.NaN\n",
    "        df[column] = df[column].fillna(np.NaN)\n",
    "        # Fill with local mode\n",
    "        df[column] = df.groupby(groupby)[column].transform(lambda x: x.fillna(x.mode()[0]))\n",
    "        \n",
    "    # Before\n",
    "    print(f'Before Assigning NaN {column}: {df[column].value_counts(dropna=False).head(1)}')\n",
    "    a = df.groupby(groupby)[column].apply(list)\n",
    "    print(f'\\nBefore Assigning Example {column}:\\n{a.head()}\\n')\n",
    "    \n",
    "    assign_nans(df, groupby, column)\n",
    "    \n",
    "    # After\n",
    "    print(f'After Assigning NaN {column}: {df[column].value_counts(dropna=False).head(1)}')\n",
    "    b = df.groupby(groupby)[column].apply(list)\n",
    "    print(f'\\nAfter Assigning Example {column}:\\n{b.head()}\\n')\n",
    "    \n",
    "    if not inplace:\n",
    "        return df\n"
   ]
  },
  {
   "cell_type": "code",
   "execution_count": 106,
   "id": "6541c287",
   "metadata": {},
   "outputs": [
    {
     "data": {
      "text/html": [
       "<div>\n",
       "<style scoped>\n",
       "    .dataframe tbody tr th:only-of-type {\n",
       "        vertical-align: middle;\n",
       "    }\n",
       "\n",
       "    .dataframe tbody tr th {\n",
       "        vertical-align: top;\n",
       "    }\n",
       "\n",
       "    .dataframe thead th {\n",
       "        text-align: right;\n",
       "    }\n",
       "</style>\n",
       "<table border=\"1\" class=\"dataframe\">\n",
       "  <thead>\n",
       "    <tr style=\"text-align: right;\">\n",
       "      <th></th>\n",
       "      <th>count</th>\n",
       "      <th>unique</th>\n",
       "      <th>top</th>\n",
       "      <th>freq</th>\n",
       "    </tr>\n",
       "  </thead>\n",
       "  <tbody>\n",
       "    <tr>\n",
       "      <th>Name</th>\n",
       "      <td>149988</td>\n",
       "      <td>10128</td>\n",
       "      <td>Jessicad</td>\n",
       "      <td>72</td>\n",
       "    </tr>\n",
       "    <tr>\n",
       "      <th>Occupation</th>\n",
       "      <td>139500</td>\n",
       "      <td>15</td>\n",
       "      <td>Lawyer</td>\n",
       "      <td>9899</td>\n",
       "    </tr>\n",
       "    <tr>\n",
       "      <th>Type_of_Loan</th>\n",
       "      <td>132888</td>\n",
       "      <td>6260</td>\n",
       "      <td>Not Specified</td>\n",
       "      <td>2112</td>\n",
       "    </tr>\n",
       "    <tr>\n",
       "      <th>Credit_Mix</th>\n",
       "      <td>120000</td>\n",
       "      <td>3</td>\n",
       "      <td>Standard</td>\n",
       "      <td>54858</td>\n",
       "    </tr>\n",
       "    <tr>\n",
       "      <th>Payment_of_Min_Amount</th>\n",
       "      <td>150000</td>\n",
       "      <td>3</td>\n",
       "      <td>Yes</td>\n",
       "      <td>78484</td>\n",
       "    </tr>\n",
       "    <tr>\n",
       "      <th>Payment_Behaviour</th>\n",
       "      <td>138600</td>\n",
       "      <td>6</td>\n",
       "      <td>Low_spent_Small_value_payments</td>\n",
       "      <td>38207</td>\n",
       "    </tr>\n",
       "    <tr>\n",
       "      <th>Credit_Score</th>\n",
       "      <td>100000</td>\n",
       "      <td>3</td>\n",
       "      <td>Standard</td>\n",
       "      <td>53174</td>\n",
       "    </tr>\n",
       "  </tbody>\n",
       "</table>\n",
       "</div>"
      ],
      "text/plain": [
       "                        count unique                             top   freq\n",
       "Name                   149988  10128                        Jessicad     72\n",
       "Occupation             139500     15                          Lawyer   9899\n",
       "Type_of_Loan           132888   6260                   Not Specified   2112\n",
       "Credit_Mix             120000      3                        Standard  54858\n",
       "Payment_of_Min_Amount  150000      3                             Yes  78484\n",
       "Payment_Behaviour      138600      6  Low_spent_Small_value_payments  38207\n",
       "Credit_Score           100000      3                        Standard  53174"
      ]
     },
     "execution_count": 106,
     "metadata": {},
     "output_type": "execute_result"
    }
   ],
   "source": [
    "df.describe(include='O').T"
   ]
  },
  {
   "cell_type": "markdown",
   "id": "c05b3122",
   "metadata": {},
   "source": [
    "##### Name"
   ]
  },
  {
   "cell_type": "code",
   "execution_count": 107,
   "id": "015cbe28",
   "metadata": {},
   "outputs": [
    {
     "data": {
      "text/plain": [
       "Jessicad          72\n",
       "Langep            72\n",
       "Stevex            72\n",
       "Ronald Groverk    60\n",
       "Danielz           60\n",
       "Name: Name, dtype: int64"
      ]
     },
     "execution_count": 107,
     "metadata": {},
     "output_type": "execute_result"
    }
   ],
   "source": [
    "df['Name'].value_counts(dropna=False).head()"
   ]
  },
  {
   "cell_type": "code",
   "execution_count": 108,
   "id": "e7de55eb",
   "metadata": {},
   "outputs": [
    {
     "name": "stdout",
     "output_type": "stream",
     "text": [
      "Before Assigning NaN Name: Jessicad    72\n",
      "Name: Name, dtype: int64\n",
      "\n",
      "Before Assigning Example Name:\n",
      "Customer_ID\n",
      "1006    [Matthias Blamontb, Matthias Blamontb, Matthia...\n",
      "1007    [Soyoung Kimu, Soyoung Kimu, Soyoung Kimu, Soy...\n",
      "1008    [Koht, Koht, Koht, Koht, Koht, Koht, Koht, Koh...\n",
      "1009    [Edd, Edd, Edd, Edd, Edd, Edd, Edd, Edd, Edd, ...\n",
      "1011    [Terry Wadeu, Terry Wadeu, Terry Wadeu, Terry ...\n",
      "Name: Name, dtype: object\n",
      "\n",
      "After Assigning NaN Name: Jessicad    72\n",
      "Name: Name, dtype: int64\n",
      "\n",
      "After Assigning Example Name:\n",
      "Customer_ID\n",
      "1006    [Matthias Blamontb, Matthias Blamontb, Matthia...\n",
      "1007    [Soyoung Kimu, Soyoung Kimu, Soyoung Kimu, Soy...\n",
      "1008    [Koht, Koht, Koht, Koht, Koht, Koht, Koht, Koh...\n",
      "1009    [Edd, Edd, Edd, Edd, Edd, Edd, Edd, Edd, Edd, ...\n",
      "1011    [Terry Wadeu, Terry Wadeu, Terry Wadeu, Terry ...\n",
      "Name: Name, dtype: object\n",
      "\n"
     ]
    }
   ],
   "source": [
    "reassign_group_object_nan_values(df, 'Customer_ID', 'Name')"
   ]
  },
  {
   "cell_type": "markdown",
   "id": "2fe6faf3",
   "metadata": {},
   "source": [
    "##### Occupation"
   ]
  },
  {
   "cell_type": "code",
   "execution_count": 109,
   "id": "56ca2a9f",
   "metadata": {},
   "outputs": [
    {
     "data": {
      "text/plain": [
       "NaN              10500\n",
       "Lawyer            9899\n",
       "Engineer          9562\n",
       "Architect         9550\n",
       "Mechanic          9459\n",
       "Accountant        9404\n",
       "Scientist         9403\n",
       "Developer         9381\n",
       "Media_Manager     9362\n",
       "Teacher           9318\n",
       "Entrepreneur      9277\n",
       "Journalist        9122\n",
       "Doctor            9114\n",
       "Manager           8973\n",
       "Musician          8858\n",
       "Writer            8818\n",
       "Name: Occupation, dtype: int64"
      ]
     },
     "execution_count": 109,
     "metadata": {},
     "output_type": "execute_result"
    }
   ],
   "source": [
    "df['Occupation'].value_counts(dropna=False)"
   ]
  },
  {
   "cell_type": "code",
   "execution_count": 110,
   "id": "14871a0b",
   "metadata": {},
   "outputs": [
    {
     "name": "stdout",
     "output_type": "stream",
     "text": [
      "Before Assigning NaN Occupation: NaN    10500\n",
      "Name: Occupation, dtype: int64\n",
      "\n",
      "Before Assigning Example Occupation:\n",
      "Customer_ID\n",
      "1006    [Journalist, Journalist, Journalist, Journalis...\n",
      "1007    [Manager, Manager, nan, Manager, Manager, Mana...\n",
      "1008    [Developer, Developer, Developer, Developer, D...\n",
      "1009    [Accountant, nan, Accountant, Accountant, Acco...\n",
      "1011    [Writer, Writer, Writer, Writer, nan, Writer, ...\n",
      "Name: Occupation, dtype: object\n",
      "\n",
      "After Assigning NaN Occupation: Lawyer    10644\n",
      "Name: Occupation, dtype: int64\n",
      "\n",
      "After Assigning Example Occupation:\n",
      "Customer_ID\n",
      "1006    [Journalist, Journalist, Journalist, Journalis...\n",
      "1007    [Manager, Manager, Manager, Manager, Manager, ...\n",
      "1008    [Developer, Developer, Developer, Developer, D...\n",
      "1009    [Accountant, Accountant, Accountant, Accountan...\n",
      "1011    [Writer, Writer, Writer, Writer, Writer, Write...\n",
      "Name: Occupation, dtype: object\n",
      "\n"
     ]
    }
   ],
   "source": [
    "reassign_group_object_nan_values(df, 'Customer_ID', 'Occupation')"
   ]
  },
  {
   "cell_type": "markdown",
   "id": "64362491",
   "metadata": {},
   "source": [
    "##### Type_of_Loan"
   ]
  },
  {
   "cell_type": "code",
   "execution_count": 111,
   "id": "7015489f",
   "metadata": {},
   "outputs": [
    {
     "data": {
      "text/plain": [
       "Customer_ID  Type_of_Loan                                                                                         \n",
       "1006         Credit-Builder Loan, and Payday Loan                                                                     12\n",
       "1007         Home Equity Loan, Mortgage Loan, and Student Loan                                                        12\n",
       "1008         NaN                                                                                                      12\n",
       "1009         Credit-Builder Loan, Student Loan, Not Specified, and Student Loan                                       12\n",
       "1011         Personal Loan, Auto Loan, and Auto Loan                                                                  12\n",
       "                                                                                                                      ..\n",
       "50984        Home Equity Loan, Mortgage Loan, Payday Loan, Mortgage Loan, Mortgage Loan, and Payday Loan              12\n",
       "50990        Mortgage Loan, Auto Loan, and Auto Loan                                                                  12\n",
       "50992        Student Loan, Credit-Builder Loan, Mortgage Loan, Payday Loan, Home Equity Loan, and Home Equity Loan    12\n",
       "50996        NaN                                                                                                      12\n",
       "50999        Credit-Builder Loan                                                                                      12\n",
       "Name: Type_of_Loan, Length: 12500, dtype: int64"
      ]
     },
     "execution_count": 111,
     "metadata": {},
     "output_type": "execute_result"
    }
   ],
   "source": [
    "df.groupby('Customer_ID')['Type_of_Loan'].value_counts(dropna=False)"
   ]
  },
  {
   "cell_type": "code",
   "execution_count": 112,
   "id": "0bae073d",
   "metadata": {},
   "outputs": [],
   "source": [
    "df['Type_of_Loan'].replace([np.NaN], 'No Data', inplace=True)"
   ]
  },
  {
   "cell_type": "markdown",
   "id": "1f83557a",
   "metadata": {},
   "source": [
    "##### Credit_Mix"
   ]
  },
  {
   "cell_type": "code",
   "execution_count": 113,
   "id": "f72e6c7f",
   "metadata": {},
   "outputs": [
    {
     "data": {
      "text/plain": [
       "Standard    54858\n",
       "Good        36597\n",
       "NaN         30000\n",
       "Bad         28545\n",
       "Name: Credit_Mix, dtype: int64"
      ]
     },
     "execution_count": 113,
     "metadata": {},
     "output_type": "execute_result"
    }
   ],
   "source": [
    "df['Credit_Mix'].value_counts(dropna=False)"
   ]
  },
  {
   "cell_type": "code",
   "execution_count": 114,
   "id": "ec7685a0",
   "metadata": {},
   "outputs": [
    {
     "name": "stdout",
     "output_type": "stream",
     "text": [
      "Before Assigning NaN Credit_Mix: Standard    54858\n",
      "Name: Credit_Mix, dtype: int64\n",
      "\n",
      "Before Assigning Example Credit_Mix:\n",
      "Customer_ID\n",
      "1006    [Standard, Standard, Standard, Standard, Stand...\n",
      "1007    [nan, Standard, Standard, Standard, nan, Stand...\n",
      "1008    [nan, Standard, Standard, nan, Standard, Stand...\n",
      "1009    [Standard, nan, Standard, Standard, Standard, ...\n",
      "1011    [nan, nan, Standard, Standard, Standard, Stand...\n",
      "Name: Credit_Mix, dtype: object\n",
      "\n",
      "After Assigning NaN Credit_Mix: Standard    68772\n",
      "Name: Credit_Mix, dtype: int64\n",
      "\n",
      "After Assigning Example Credit_Mix:\n",
      "Customer_ID\n",
      "1006    [Standard, Standard, Standard, Standard, Stand...\n",
      "1007    [Standard, Standard, Standard, Standard, Stand...\n",
      "1008    [Standard, Standard, Standard, Standard, Stand...\n",
      "1009    [Standard, Standard, Standard, Standard, Stand...\n",
      "1011    [Standard, Standard, Standard, Standard, Stand...\n",
      "Name: Credit_Mix, dtype: object\n",
      "\n"
     ]
    }
   ],
   "source": [
    "reassign_group_object_nan_values(df, 'Customer_ID', 'Credit_Mix')"
   ]
  },
  {
   "cell_type": "markdown",
   "id": "fe4e8676",
   "metadata": {},
   "source": [
    "##### Payment_of_Min_Amount (There's no need)"
   ]
  },
  {
   "cell_type": "code",
   "execution_count": 115,
   "id": "b3d991a5",
   "metadata": {},
   "outputs": [
    {
     "data": {
      "text/plain": [
       "Yes    78484\n",
       "No     53516\n",
       "NM     18000\n",
       "Name: Payment_of_Min_Amount, dtype: int64"
      ]
     },
     "execution_count": 115,
     "metadata": {},
     "output_type": "execute_result"
    }
   ],
   "source": [
    "df['Payment_of_Min_Amount'].value_counts(dropna=False)"
   ]
  },
  {
   "cell_type": "markdown",
   "id": "0b92ba45",
   "metadata": {},
   "source": [
    "##### Payment_Behaviour"
   ]
  },
  {
   "cell_type": "code",
   "execution_count": 116,
   "id": "facf0e4e",
   "metadata": {},
   "outputs": [
    {
     "data": {
      "text/plain": [
       "Low_spent_Small_value_payments      38207\n",
       "High_spent_Medium_value_payments    26462\n",
       "Low_spent_Medium_value_payments     20698\n",
       "High_spent_Large_value_payments     20565\n",
       "High_spent_Small_value_payments     16991\n",
       "Low_spent_Large_value_payments      15677\n",
       "NaN                                 11400\n",
       "Name: Payment_Behaviour, dtype: int64"
      ]
     },
     "execution_count": 116,
     "metadata": {},
     "output_type": "execute_result"
    }
   ],
   "source": [
    "df['Payment_Behaviour'].value_counts(dropna=False)"
   ]
  },
  {
   "cell_type": "code",
   "execution_count": 117,
   "id": "a09106fa",
   "metadata": {},
   "outputs": [
    {
     "name": "stdout",
     "output_type": "stream",
     "text": [
      "Before Assigning NaN Payment_Behaviour: Low_spent_Small_value_payments    38207\n",
      "Name: Payment_Behaviour, dtype: int64\n",
      "\n",
      "Before Assigning Example Payment_Behaviour:\n",
      "Customer_ID\n",
      "1006    [High_spent_Medium_value_payments, Low_spent_M...\n",
      "1007    [High_spent_Medium_value_payments, High_spent_...\n",
      "1008    [High_spent_Small_value_payments, Low_spent_La...\n",
      "1009    [High_spent_Medium_value_payments, High_spent_...\n",
      "1011    [High_spent_Small_value_payments, Low_spent_Sm...\n",
      "Name: Payment_Behaviour, dtype: object\n",
      "\n",
      "After Assigning NaN Payment_Behaviour: Low_spent_Small_value_payments    42046\n",
      "Name: Payment_Behaviour, dtype: int64\n",
      "\n",
      "After Assigning Example Payment_Behaviour:\n",
      "Customer_ID\n",
      "1006    [High_spent_Medium_value_payments, Low_spent_M...\n",
      "1007    [High_spent_Medium_value_payments, High_spent_...\n",
      "1008    [High_spent_Small_value_payments, Low_spent_La...\n",
      "1009    [High_spent_Medium_value_payments, High_spent_...\n",
      "1011    [High_spent_Small_value_payments, Low_spent_Sm...\n",
      "Name: Payment_Behaviour, dtype: object\n",
      "\n"
     ]
    }
   ],
   "source": [
    "reassign_group_object_nan_values(df, 'Customer_ID', 'Payment_Behaviour')"
   ]
  },
  {
   "cell_type": "markdown",
   "id": "a6ad046a",
   "metadata": {},
   "source": [
    "### Find Min, Max, Mean"
   ]
  },
  {
   "cell_type": "code",
   "execution_count": 118,
   "id": "c64a1b7b",
   "metadata": {},
   "outputs": [
    {
     "data": {
      "text/html": [
       "<div>\n",
       "<style scoped>\n",
       "    .dataframe tbody tr th:only-of-type {\n",
       "        vertical-align: middle;\n",
       "    }\n",
       "\n",
       "    .dataframe tbody tr th {\n",
       "        vertical-align: top;\n",
       "    }\n",
       "\n",
       "    .dataframe thead th {\n",
       "        text-align: right;\n",
       "    }\n",
       "</style>\n",
       "<table border=\"1\" class=\"dataframe\">\n",
       "  <thead>\n",
       "    <tr style=\"text-align: right;\">\n",
       "      <th></th>\n",
       "      <th>count</th>\n",
       "      <th>mean</th>\n",
       "      <th>std</th>\n",
       "      <th>min</th>\n",
       "      <th>25%</th>\n",
       "      <th>50%</th>\n",
       "      <th>75%</th>\n",
       "      <th>max</th>\n",
       "    </tr>\n",
       "  </thead>\n",
       "  <tbody>\n",
       "    <tr>\n",
       "      <th>ID</th>\n",
       "      <td>150000.0</td>\n",
       "      <td>8.063350e+04</td>\n",
       "      <td>4.330141e+04</td>\n",
       "      <td>5.634000e+03</td>\n",
       "      <td>4.313375e+04</td>\n",
       "      <td>8.063350e+04</td>\n",
       "      <td>1.181332e+05</td>\n",
       "      <td>1.556330e+05</td>\n",
       "    </tr>\n",
       "    <tr>\n",
       "      <th>Customer_ID</th>\n",
       "      <td>150000.0</td>\n",
       "      <td>2.598267e+04</td>\n",
       "      <td>1.434052e+04</td>\n",
       "      <td>1.006000e+03</td>\n",
       "      <td>1.366450e+04</td>\n",
       "      <td>2.577700e+04</td>\n",
       "      <td>3.838500e+04</td>\n",
       "      <td>5.099900e+04</td>\n",
       "    </tr>\n",
       "    <tr>\n",
       "      <th>Month</th>\n",
       "      <td>150000.0</td>\n",
       "      <td>6.500000e+00</td>\n",
       "      <td>3.452064e+00</td>\n",
       "      <td>1.000000e+00</td>\n",
       "      <td>3.750000e+00</td>\n",
       "      <td>6.500000e+00</td>\n",
       "      <td>9.250000e+00</td>\n",
       "      <td>1.200000e+01</td>\n",
       "    </tr>\n",
       "    <tr>\n",
       "      <th>Age</th>\n",
       "      <td>150000.0</td>\n",
       "      <td>1.103379e+02</td>\n",
       "      <td>6.840668e+02</td>\n",
       "      <td>-5.000000e+02</td>\n",
       "      <td>2.500000e+01</td>\n",
       "      <td>3.300000e+01</td>\n",
       "      <td>4.200000e+01</td>\n",
       "      <td>8.698000e+03</td>\n",
       "    </tr>\n",
       "    <tr>\n",
       "      <th>SSN</th>\n",
       "      <td>141600.0</td>\n",
       "      <td>5.005493e+08</td>\n",
       "      <td>2.907135e+08</td>\n",
       "      <td>8.134900e+04</td>\n",
       "      <td>2.453159e+08</td>\n",
       "      <td>5.007606e+08</td>\n",
       "      <td>7.559962e+08</td>\n",
       "      <td>9.999934e+08</td>\n",
       "    </tr>\n",
       "    <tr>\n",
       "      <th>Annual_Income</th>\n",
       "      <td>150000.0</td>\n",
       "      <td>1.730552e+05</td>\n",
       "      <td>1.404215e+06</td>\n",
       "      <td>7.005930e+03</td>\n",
       "      <td>1.945549e+04</td>\n",
       "      <td>3.757861e+04</td>\n",
       "      <td>7.279690e+04</td>\n",
       "      <td>2.419806e+07</td>\n",
       "    </tr>\n",
       "    <tr>\n",
       "      <th>Monthly_Inhand_Salary</th>\n",
       "      <td>127500.0</td>\n",
       "      <td>4.190115e+03</td>\n",
       "      <td>3.180490e+03</td>\n",
       "      <td>3.036454e+02</td>\n",
       "      <td>1.625266e+03</td>\n",
       "      <td>3.091000e+03</td>\n",
       "      <td>5.948455e+03</td>\n",
       "      <td>1.520463e+04</td>\n",
       "    </tr>\n",
       "    <tr>\n",
       "      <th>Num_Bank_Accounts</th>\n",
       "      <td>150000.0</td>\n",
       "      <td>1.700694e+01</td>\n",
       "      <td>1.170695e+02</td>\n",
       "      <td>-1.000000e+00</td>\n",
       "      <td>3.000000e+00</td>\n",
       "      <td>6.000000e+00</td>\n",
       "      <td>7.000000e+00</td>\n",
       "      <td>1.798000e+03</td>\n",
       "    </tr>\n",
       "    <tr>\n",
       "      <th>Num_Credit_Card</th>\n",
       "      <td>150000.0</td>\n",
       "      <td>2.262345e+01</td>\n",
       "      <td>1.291430e+02</td>\n",
       "      <td>0.000000e+00</td>\n",
       "      <td>4.000000e+00</td>\n",
       "      <td>5.000000e+00</td>\n",
       "      <td>7.000000e+00</td>\n",
       "      <td>1.499000e+03</td>\n",
       "    </tr>\n",
       "    <tr>\n",
       "      <th>Interest_Rate</th>\n",
       "      <td>150000.0</td>\n",
       "      <td>7.123491e+01</td>\n",
       "      <td>4.615372e+02</td>\n",
       "      <td>1.000000e+00</td>\n",
       "      <td>8.000000e+00</td>\n",
       "      <td>1.300000e+01</td>\n",
       "      <td>2.000000e+01</td>\n",
       "      <td>5.799000e+03</td>\n",
       "    </tr>\n",
       "    <tr>\n",
       "      <th>Num_of_Loan</th>\n",
       "      <td>150000.0</td>\n",
       "      <td>3.141093e+00</td>\n",
       "      <td>6.391065e+01</td>\n",
       "      <td>-1.000000e+02</td>\n",
       "      <td>1.000000e+00</td>\n",
       "      <td>3.000000e+00</td>\n",
       "      <td>5.000000e+00</td>\n",
       "      <td>1.496000e+03</td>\n",
       "    </tr>\n",
       "    <tr>\n",
       "      <th>Delay_from_due_date</th>\n",
       "      <td>150000.0</td>\n",
       "      <td>2.106340e+01</td>\n",
       "      <td>1.486015e+01</td>\n",
       "      <td>-5.000000e+00</td>\n",
       "      <td>1.000000e+01</td>\n",
       "      <td>1.800000e+01</td>\n",
       "      <td>2.800000e+01</td>\n",
       "      <td>6.700000e+01</td>\n",
       "    </tr>\n",
       "    <tr>\n",
       "      <th>Num_of_Delayed_Payment</th>\n",
       "      <td>139500.0</td>\n",
       "      <td>3.091188e+01</td>\n",
       "      <td>2.245340e+02</td>\n",
       "      <td>-3.000000e+00</td>\n",
       "      <td>9.000000e+00</td>\n",
       "      <td>1.400000e+01</td>\n",
       "      <td>1.800000e+01</td>\n",
       "      <td>4.399000e+03</td>\n",
       "    </tr>\n",
       "    <tr>\n",
       "      <th>Changed_Credit_Limit</th>\n",
       "      <td>146850.0</td>\n",
       "      <td>1.038430e+01</td>\n",
       "      <td>6.786522e+00</td>\n",
       "      <td>-6.490000e+00</td>\n",
       "      <td>5.330000e+00</td>\n",
       "      <td>9.410000e+00</td>\n",
       "      <td>1.484000e+01</td>\n",
       "      <td>3.697000e+01</td>\n",
       "    </tr>\n",
       "    <tr>\n",
       "      <th>Num_Credit_Inquiries</th>\n",
       "      <td>147000.0</td>\n",
       "      <td>2.852901e+01</td>\n",
       "      <td>1.944561e+02</td>\n",
       "      <td>0.000000e+00</td>\n",
       "      <td>3.000000e+00</td>\n",
       "      <td>6.000000e+00</td>\n",
       "      <td>9.000000e+00</td>\n",
       "      <td>2.597000e+03</td>\n",
       "    </tr>\n",
       "    <tr>\n",
       "      <th>Outstanding_Debt</th>\n",
       "      <td>150000.0</td>\n",
       "      <td>1.426220e+03</td>\n",
       "      <td>1.155127e+03</td>\n",
       "      <td>2.300000e-01</td>\n",
       "      <td>5.660725e+02</td>\n",
       "      <td>1.166155e+03</td>\n",
       "      <td>1.945963e+03</td>\n",
       "      <td>4.998070e+03</td>\n",
       "    </tr>\n",
       "    <tr>\n",
       "      <th>Credit_Utilization_Ratio</th>\n",
       "      <td>150000.0</td>\n",
       "      <td>3.228331e+01</td>\n",
       "      <td>5.113315e+00</td>\n",
       "      <td>2.000000e+01</td>\n",
       "      <td>2.805473e+01</td>\n",
       "      <td>3.229706e+01</td>\n",
       "      <td>3.648795e+01</td>\n",
       "      <td>5.000000e+01</td>\n",
       "    </tr>\n",
       "    <tr>\n",
       "      <th>Credit_History_Age</th>\n",
       "      <td>136500.0</td>\n",
       "      <td>2.232153e+02</td>\n",
       "      <td>9.971955e+01</td>\n",
       "      <td>1.000000e+00</td>\n",
       "      <td>1.460000e+02</td>\n",
       "      <td>2.220000e+02</td>\n",
       "      <td>3.040000e+02</td>\n",
       "      <td>4.080000e+02</td>\n",
       "    </tr>\n",
       "    <tr>\n",
       "      <th>Total_EMI_per_month</th>\n",
       "      <td>150000.0</td>\n",
       "      <td>1.432514e+03</td>\n",
       "      <td>8.403760e+03</td>\n",
       "      <td>0.000000e+00</td>\n",
       "      <td>3.094778e+01</td>\n",
       "      <td>7.128001e+01</td>\n",
       "      <td>1.662796e+02</td>\n",
       "      <td>8.239800e+04</td>\n",
       "    </tr>\n",
       "    <tr>\n",
       "      <th>Amount_invested_monthly</th>\n",
       "      <td>143250.0</td>\n",
       "      <td>6.388263e+02</td>\n",
       "      <td>2.046843e+03</td>\n",
       "      <td>0.000000e+00</td>\n",
       "      <td>7.453384e+01</td>\n",
       "      <td>1.357914e+02</td>\n",
       "      <td>2.661108e+02</td>\n",
       "      <td>1.000000e+04</td>\n",
       "    </tr>\n",
       "    <tr>\n",
       "      <th>Monthly_Balance</th>\n",
       "      <td>148238.0</td>\n",
       "      <td>-3.372954e+22</td>\n",
       "      <td>3.352927e+24</td>\n",
       "      <td>-3.333333e+26</td>\n",
       "      <td>2.702297e+02</td>\n",
       "      <td>3.367995e+02</td>\n",
       "      <td>4.704553e+02</td>\n",
       "      <td>1.606518e+03</td>\n",
       "    </tr>\n",
       "  </tbody>\n",
       "</table>\n",
       "</div>"
      ],
      "text/plain": [
       "                             count          mean           std           min  \\\n",
       "ID                        150000.0  8.063350e+04  4.330141e+04  5.634000e+03   \n",
       "Customer_ID               150000.0  2.598267e+04  1.434052e+04  1.006000e+03   \n",
       "Month                     150000.0  6.500000e+00  3.452064e+00  1.000000e+00   \n",
       "Age                       150000.0  1.103379e+02  6.840668e+02 -5.000000e+02   \n",
       "SSN                       141600.0  5.005493e+08  2.907135e+08  8.134900e+04   \n",
       "Annual_Income             150000.0  1.730552e+05  1.404215e+06  7.005930e+03   \n",
       "Monthly_Inhand_Salary     127500.0  4.190115e+03  3.180490e+03  3.036454e+02   \n",
       "Num_Bank_Accounts         150000.0  1.700694e+01  1.170695e+02 -1.000000e+00   \n",
       "Num_Credit_Card           150000.0  2.262345e+01  1.291430e+02  0.000000e+00   \n",
       "Interest_Rate             150000.0  7.123491e+01  4.615372e+02  1.000000e+00   \n",
       "Num_of_Loan               150000.0  3.141093e+00  6.391065e+01 -1.000000e+02   \n",
       "Delay_from_due_date       150000.0  2.106340e+01  1.486015e+01 -5.000000e+00   \n",
       "Num_of_Delayed_Payment    139500.0  3.091188e+01  2.245340e+02 -3.000000e+00   \n",
       "Changed_Credit_Limit      146850.0  1.038430e+01  6.786522e+00 -6.490000e+00   \n",
       "Num_Credit_Inquiries      147000.0  2.852901e+01  1.944561e+02  0.000000e+00   \n",
       "Outstanding_Debt          150000.0  1.426220e+03  1.155127e+03  2.300000e-01   \n",
       "Credit_Utilization_Ratio  150000.0  3.228331e+01  5.113315e+00  2.000000e+01   \n",
       "Credit_History_Age        136500.0  2.232153e+02  9.971955e+01  1.000000e+00   \n",
       "Total_EMI_per_month       150000.0  1.432514e+03  8.403760e+03  0.000000e+00   \n",
       "Amount_invested_monthly   143250.0  6.388263e+02  2.046843e+03  0.000000e+00   \n",
       "Monthly_Balance           148238.0 -3.372954e+22  3.352927e+24 -3.333333e+26   \n",
       "\n",
       "                                   25%           50%           75%  \\\n",
       "ID                        4.313375e+04  8.063350e+04  1.181332e+05   \n",
       "Customer_ID               1.366450e+04  2.577700e+04  3.838500e+04   \n",
       "Month                     3.750000e+00  6.500000e+00  9.250000e+00   \n",
       "Age                       2.500000e+01  3.300000e+01  4.200000e+01   \n",
       "SSN                       2.453159e+08  5.007606e+08  7.559962e+08   \n",
       "Annual_Income             1.945549e+04  3.757861e+04  7.279690e+04   \n",
       "Monthly_Inhand_Salary     1.625266e+03  3.091000e+03  5.948455e+03   \n",
       "Num_Bank_Accounts         3.000000e+00  6.000000e+00  7.000000e+00   \n",
       "Num_Credit_Card           4.000000e+00  5.000000e+00  7.000000e+00   \n",
       "Interest_Rate             8.000000e+00  1.300000e+01  2.000000e+01   \n",
       "Num_of_Loan               1.000000e+00  3.000000e+00  5.000000e+00   \n",
       "Delay_from_due_date       1.000000e+01  1.800000e+01  2.800000e+01   \n",
       "Num_of_Delayed_Payment    9.000000e+00  1.400000e+01  1.800000e+01   \n",
       "Changed_Credit_Limit      5.330000e+00  9.410000e+00  1.484000e+01   \n",
       "Num_Credit_Inquiries      3.000000e+00  6.000000e+00  9.000000e+00   \n",
       "Outstanding_Debt          5.660725e+02  1.166155e+03  1.945963e+03   \n",
       "Credit_Utilization_Ratio  2.805473e+01  3.229706e+01  3.648795e+01   \n",
       "Credit_History_Age        1.460000e+02  2.220000e+02  3.040000e+02   \n",
       "Total_EMI_per_month       3.094778e+01  7.128001e+01  1.662796e+02   \n",
       "Amount_invested_monthly   7.453384e+01  1.357914e+02  2.661108e+02   \n",
       "Monthly_Balance           2.702297e+02  3.367995e+02  4.704553e+02   \n",
       "\n",
       "                                   max  \n",
       "ID                        1.556330e+05  \n",
       "Customer_ID               5.099900e+04  \n",
       "Month                     1.200000e+01  \n",
       "Age                       8.698000e+03  \n",
       "SSN                       9.999934e+08  \n",
       "Annual_Income             2.419806e+07  \n",
       "Monthly_Inhand_Salary     1.520463e+04  \n",
       "Num_Bank_Accounts         1.798000e+03  \n",
       "Num_Credit_Card           1.499000e+03  \n",
       "Interest_Rate             5.799000e+03  \n",
       "Num_of_Loan               1.496000e+03  \n",
       "Delay_from_due_date       6.700000e+01  \n",
       "Num_of_Delayed_Payment    4.399000e+03  \n",
       "Changed_Credit_Limit      3.697000e+01  \n",
       "Num_Credit_Inquiries      2.597000e+03  \n",
       "Outstanding_Debt          4.998070e+03  \n",
       "Credit_Utilization_Ratio  5.000000e+01  \n",
       "Credit_History_Age        4.080000e+02  \n",
       "Total_EMI_per_month       8.239800e+04  \n",
       "Amount_invested_monthly   1.000000e+04  \n",
       "Monthly_Balance           1.606518e+03  "
      ]
     },
     "execution_count": 118,
     "metadata": {},
     "output_type": "execute_result"
    }
   ],
   "source": [
    "df.describe().T"
   ]
  },
  {
   "cell_type": "code",
   "execution_count": 119,
   "id": "fdccc72a",
   "metadata": {},
   "outputs": [
    {
     "data": {
      "text/plain": [
       "12500"
      ]
     },
     "execution_count": 119,
     "metadata": {},
     "output_type": "execute_result"
    }
   ],
   "source": [
    "df['Customer_ID'].nunique()"
   ]
  },
  {
   "cell_type": "code",
   "execution_count": 120,
   "id": "a978100f",
   "metadata": {},
   "outputs": [],
   "source": [
    "# outlier range\n",
    "def outlier_range(df, column, multiply=1.5):\n",
    "    q1 = df[column].quantile(0.25)\n",
    "    q3 = df[column].quantile(0.75)\n",
    "    iqr = q3 - q1\n",
    "    lower = q1 - iqr * multiply\n",
    "    upper = q3 + iqr * multiply\n",
    "    return lower, upper"
   ]
  },
  {
   "cell_type": "code",
   "execution_count": 130,
   "id": "9bc5b245",
   "metadata": {},
   "outputs": [],
   "source": [
    "# Reassign Wrong Values and Show Function\n",
    "def Reassign_Group_Numeric_Wrong_Values(df, groupby, column, inplace=True):      \n",
    "\n",
    "    # Identify Wrong values Range\n",
    "    def get_group_min_max(df, groupby, column):            \n",
    "        cur = df[df[column].notna()].groupby(groupby)[column].apply(list)\n",
    "        x, y = cur.apply(lambda x: stats.mode(x, keepdims=True)).apply([min, max])\n",
    "        return x[0][0], y[0][0]\n",
    "    \n",
    "    # Assigning Wrong values\n",
    "    def make_group_NaN_and_fill_mode(df, groupby, column, inplace=True):\n",
    "        df_dropped = df[df[column].notna()].groupby(groupby)[column].apply(list)\n",
    "        x, y = df_dropped.apply(lambda x: stats.mode(x, keepdims=True)).apply([min, max])\n",
    "        mini, maxi = x[0][0], y[0][0]\n",
    "\n",
    "        # assign Wrong Values to NaN\n",
    "        col = df[column].apply(lambda x: np.NaN if ((x<mini)|(x>maxi)) else x)\n",
    "\n",
    "        # fill with local mode\n",
    "        mode_by_group = df.groupby(groupby)[column].transform(lambda x: x.mode()[0] if not x.mode().empty else np.NaN)\n",
    "        result = col.fillna(mode_by_group)\n",
    "\n",
    "        # inplace\n",
    "        if inplace:\n",
    "            df[column]=result\n",
    "        else:\n",
    "            return result\n",
    "        \n",
    "    \n",
    "    # Run      \n",
    "    if inplace:   \n",
    "        print(\"\\nExisting Min, Max Values:\", df[column].apply([min, max]), sep='\\n', end='\\n')       \n",
    "        mini, maxi = get_group_min_max(df, groupby, column)        \n",
    "        print(f\"\\nGroupby by {groupby}'s Actual min, max Values:\", f'min:\\t{mini},\\nmax:\\t{ maxi}', sep='\\n', end='\\n')\n",
    "        \n",
    "        # Before Assigning Wrong values      \n",
    "        x = df[column].value_counts(dropna=False).head(1)\n",
    "        print(f'\\nBefore Assigning Min, Max {column}:', [x if x.index[0] is np.NaN or x.index[0] is None else 'No NaN Value'] , end='\\n')\n",
    "        \n",
    "        a = df.groupby(groupby)[column].apply(list) \n",
    "        print(f'\\nBefore Assigning Example {column}:\\n', *a.head().values, sep='\\n', end='\\n')\n",
    "        \n",
    "        # Assigning\n",
    "        make_group_NaN_and_fill_mode(df, groupby, column, inplace)\n",
    "        \n",
    "        # After Assigning Wrong values\n",
    "        y = df[column].value_counts(dropna=False).head(1)\n",
    "        print(f'\\nAfter Assigning  Min, Max {column}:', [y if y.index[0] is np.NaN or x.index[0] is None else 'No NaN Value'] , end='\\n')\n",
    "        \n",
    "        b = df.groupby(groupby)[column].apply(list)\n",
    "        print(f'\\nAfter Assigning Example {column}:\\n', *b.head().values, sep='\\n', end='\\n')\n",
    "    else:   \n",
    "        # Show\n",
    "        return make_group_NaN_and_fill_mode(df, groupby, column, inplace)\n"
   ]
  },
  {
   "cell_type": "code",
   "execution_count": null,
   "id": "1dc91cf2",
   "metadata": {},
   "outputs": [],
   "source": [
    "'''TR\n",
    "Bu fonksiyon, bir veri çerçevesinde belirtilen bir gruplama sütununa göre belirli bir sayısal sütunda yanlış değerleri tespit eder ve bunları grup ortalamaları veya medyanlarıyla doldurur.\n",
    "\n",
    "Fonksiyon üç adımdan oluşur:\n",
    "\n",
    "1.get_group_min_max: Verilen gruplama sütununa göre, sütundaki değerlerin modunu alır ve minimum-maximum aralığını hesaplar. Bu, sayısal sütunun olası yanlış değerlerini tespit etmek için kullanılır.\n",
    "2.make_group_NaN_and_fill_mode: Sütunda tespit edilen yanlış değerler, NaN değerlerine atanır ve her gruptaki diğer değerlerin moduyla doldurulur.\n",
    "3.Fonksiyonun ana gövdesi, make_group_NaN_and_fill_mode işlevini çağıran ve sonucu ekrana yazdıran veya değişiklikleri yerinde yapacak şekilde veri çerçevesini değiştiren bir kod bloğudur.\n",
    "\n",
    "Bu işlev, belirtilen sütunun değer aralığında olmayan yanlış değerleri tespit etmek ve onları gruba göre mod ile doldurmak için oldukça kullanışlı bir araçtır.'''\n",
    "\n",
    "'''ENG\n",
    "This code is a function that reassigns the wrong values in a numerical column for each group in a pandas DataFrame based on the mode of the valid values for that group.\n",
    "\n",
    "If inplace is True, the function updates the DataFrame in place and prints out the original and cleaned values for the specified column for one example group before and after cleaning. If inplace is False, the function returns a copy of the cleaned DataFrame without printing any output.\n",
    "'''"
   ]
  },
  {
   "cell_type": "code",
   "execution_count": 123,
   "id": "bcc30476",
   "metadata": {},
   "outputs": [
    {
     "data": {
      "text/plain": [
       "Index(['ID', 'Customer_ID', 'Month', 'Age', 'SSN', 'Annual_Income',\n",
       "       'Monthly_Inhand_Salary', 'Num_Bank_Accounts', 'Num_Credit_Card',\n",
       "       'Interest_Rate', 'Num_of_Loan', 'Delay_from_due_date',\n",
       "       'Num_of_Delayed_Payment', 'Changed_Credit_Limit',\n",
       "       'Num_Credit_Inquiries', 'Outstanding_Debt', 'Credit_Utilization_Ratio',\n",
       "       'Credit_History_Age', 'Total_EMI_per_month', 'Amount_invested_monthly',\n",
       "       'Monthly_Balance'],\n",
       "      dtype='object')"
      ]
     },
     "execution_count": 123,
     "metadata": {},
     "output_type": "execute_result"
    }
   ],
   "source": [
    "df.describe().columns"
   ]
  },
  {
   "cell_type": "code",
   "execution_count": 124,
   "id": "82aa2418",
   "metadata": {},
   "outputs": [
    {
     "data": {
      "text/plain": [
       "150000"
      ]
     },
     "execution_count": 124,
     "metadata": {},
     "output_type": "execute_result"
    }
   ],
   "source": [
    "# ID\n",
    "df['ID'].nunique()"
   ]
  },
  {
   "cell_type": "code",
   "execution_count": 125,
   "id": "74a6414f",
   "metadata": {},
   "outputs": [
    {
     "data": {
      "text/plain": [
       "1     12500\n",
       "2     12500\n",
       "3     12500\n",
       "4     12500\n",
       "5     12500\n",
       "6     12500\n",
       "7     12500\n",
       "8     12500\n",
       "9     12500\n",
       "10    12500\n",
       "11    12500\n",
       "12    12500\n",
       "Name: Month, dtype: int64"
      ]
     },
     "execution_count": 125,
     "metadata": {},
     "output_type": "execute_result"
    }
   ],
   "source": [
    "# Month\n",
    "df['Month'].value_counts()"
   ]
  },
  {
   "cell_type": "code",
   "execution_count": 131,
   "id": "302da074",
   "metadata": {},
   "outputs": [
    {
     "name": "stdout",
     "output_type": "stream",
     "text": [
      "\n",
      "Existing Min, Max Values:\n",
      "min    14.0\n",
      "max    56.0\n",
      "Name: Age, dtype: float64\n",
      "\n",
      "Groupby by Customer_ID's Actual min, max Values:\n",
      "min:\t14.0,\n",
      "max:\t56.0\n",
      "\n",
      "Before Assigning Min, Max Age: ['No NaN Value']\n",
      "\n",
      "Before Assigning Example Age:\n",
      "\n",
      "[37.0, 38.0, 38.0, 38.0, 38.0, 38.0, 38.0, 38.0, 38.0, 38.0, 38.0, 38.0]\n",
      "[48.0, 48.0, 48.0, 48.0, 48.0, 48.0, 48.0, 48.0, 48.0, 48.0, 48.0, 49.0]\n",
      "[37.0, 37.0, 37.0, 37.0, 37.0, 37.0, 37.0, 37.0, 37.0, 37.0, 37.0, 37.0]\n",
      "[22.0, 22.0, 22.0, 22.0, 22.0, 22.0, 22.0, 23.0, 23.0, 23.0, 23.0, 23.0]\n",
      "[43.0, 44.0, 44.0, 44.0, 44.0, 44.0, 44.0, 44.0, 44.0, 44.0, 44.0, 44.0]\n",
      "\n",
      "After Assigning  Min, Max Age: ['No NaN Value']\n",
      "\n",
      "After Assigning Example Age:\n",
      "\n",
      "[37.0, 38.0, 38.0, 38.0, 38.0, 38.0, 38.0, 38.0, 38.0, 38.0, 38.0, 38.0]\n",
      "[48.0, 48.0, 48.0, 48.0, 48.0, 48.0, 48.0, 48.0, 48.0, 48.0, 48.0, 49.0]\n",
      "[37.0, 37.0, 37.0, 37.0, 37.0, 37.0, 37.0, 37.0, 37.0, 37.0, 37.0, 37.0]\n",
      "[22.0, 22.0, 22.0, 22.0, 22.0, 22.0, 22.0, 23.0, 23.0, 23.0, 23.0, 23.0]\n",
      "[43.0, 44.0, 44.0, 44.0, 44.0, 44.0, 44.0, 44.0, 44.0, 44.0, 44.0, 44.0]\n"
     ]
    }
   ],
   "source": [
    "# Age\n",
    "Reassign_Group_Numeric_Wrong_Values(df, 'Customer_ID', 'Age')"
   ]
  },
  {
   "cell_type": "code",
   "execution_count": 132,
   "id": "f9422442",
   "metadata": {},
   "outputs": [
    {
     "data": {
      "text/plain": [
       "NaN            8400\n",
       "78735990.0       12\n",
       "47161543.0       12\n",
       "255398777.0      12\n",
       "159517992.0      12\n",
       "               ... \n",
       "414769835.0       7\n",
       "695717676.0       7\n",
       "803446289.0       7\n",
       "74528105.0        7\n",
       "642737670.0       6\n",
       "Name: SSN, Length: 12501, dtype: int64"
      ]
     },
     "execution_count": 132,
     "metadata": {},
     "output_type": "execute_result"
    }
   ],
   "source": [
    "# SSN\n",
    "df.SSN.value_counts(dropna=False)"
   ]
  },
  {
   "cell_type": "code",
   "execution_count": 133,
   "id": "caf8c581",
   "metadata": {},
   "outputs": [
    {
     "name": "stdout",
     "output_type": "stream",
     "text": [
      "\n",
      "Existing Min, Max Values:\n",
      "min        81349.0\n",
      "max    999993421.0\n",
      "Name: SSN, dtype: float64\n",
      "\n",
      "Groupby by Customer_ID's Actual min, max Values:\n",
      "min:\t81349.0,\n",
      "max:\t999993421.0\n",
      "\n",
      "Before Assigning Min, Max SSN: ['No NaN Value']\n",
      "\n",
      "Before Assigning Example SSN:\n",
      "\n",
      "[354656948.0, 354656948.0, 354656948.0, 354656948.0, 354656948.0, 354656948.0, 354656948.0, 354656948.0, 354656948.0, 354656948.0, nan, 354656948.0]\n",
      "[964812710.0, 964812710.0, 964812710.0, 964812710.0, 964812710.0, 964812710.0, 964812710.0, 964812710.0, 964812710.0, 964812710.0, 964812710.0, 964812710.0]\n",
      "[802194704.0, nan, 802194704.0, 802194704.0, 802194704.0, 802194704.0, 802194704.0, 802194704.0, 802194704.0, 802194704.0, 802194704.0, 802194704.0]\n",
      "[nan, nan, 891062189.0, 891062189.0, 891062189.0, 891062189.0, 891062189.0, 891062189.0, 891062189.0, 891062189.0, 891062189.0, 891062189.0]\n",
      "[422130011.0, 422130011.0, 422130011.0, 422130011.0, 422130011.0, 422130011.0, 422130011.0, 422130011.0, 422130011.0, 422130011.0, 422130011.0, 422130011.0]\n",
      "\n",
      "After Assigning  Min, Max SSN: ['No NaN Value']\n",
      "\n",
      "After Assigning Example SSN:\n",
      "\n",
      "[354656948.0, 354656948.0, 354656948.0, 354656948.0, 354656948.0, 354656948.0, 354656948.0, 354656948.0, 354656948.0, 354656948.0, 354656948.0, 354656948.0]\n",
      "[964812710.0, 964812710.0, 964812710.0, 964812710.0, 964812710.0, 964812710.0, 964812710.0, 964812710.0, 964812710.0, 964812710.0, 964812710.0, 964812710.0]\n",
      "[802194704.0, 802194704.0, 802194704.0, 802194704.0, 802194704.0, 802194704.0, 802194704.0, 802194704.0, 802194704.0, 802194704.0, 802194704.0, 802194704.0]\n",
      "[891062189.0, 891062189.0, 891062189.0, 891062189.0, 891062189.0, 891062189.0, 891062189.0, 891062189.0, 891062189.0, 891062189.0, 891062189.0, 891062189.0]\n",
      "[422130011.0, 422130011.0, 422130011.0, 422130011.0, 422130011.0, 422130011.0, 422130011.0, 422130011.0, 422130011.0, 422130011.0, 422130011.0, 422130011.0]\n"
     ]
    }
   ],
   "source": [
    "Reassign_Group_Numeric_Wrong_Values(df, 'Customer_ID', 'SSN')"
   ]
  },
  {
   "cell_type": "code",
   "execution_count": 134,
   "id": "e9800311",
   "metadata": {},
   "outputs": [
    {
     "data": {
      "text/plain": [
       "109945.32      24\n",
       "20867.67       24\n",
       "9141.63        24\n",
       "17816.75       24\n",
       "40341.16       24\n",
       "               ..\n",
       "23467279.00     1\n",
       "11586734.00     1\n",
       "18324322.00     1\n",
       "3449550.00      1\n",
       "250738.00       1\n",
       "Name: Annual_Income, Length: 13988, dtype: int64"
      ]
     },
     "execution_count": 134,
     "metadata": {},
     "output_type": "execute_result"
    }
   ],
   "source": [
    "# Annual_Income\n",
    "df.Annual_Income.value_counts(dropna=False)"
   ]
  },
  {
   "cell_type": "code",
   "execution_count": 135,
   "id": "ba27375e",
   "metadata": {},
   "outputs": [
    {
     "name": "stdout",
     "output_type": "stream",
     "text": [
      "\n",
      "Existing Min, Max Values:\n",
      "min        7005.93\n",
      "max    24198062.00\n",
      "Name: Annual_Income, dtype: float64\n",
      "\n",
      "Groupby by Customer_ID's Actual min, max Values:\n",
      "min:\t7005.93,\n",
      "max:\t179987.28\n",
      "\n",
      "Before Assigning Min, Max Annual_Income: ['No NaN Value']\n",
      "\n",
      "Before Assigning Example Annual_Income:\n",
      "\n",
      "[16756.18, 16756.18, 16756.18, 16756.18, 16756.18, 16756.18, 16756.18, 16756.18, 16756.18, 16756.18, 16756.18, 16756.18]\n",
      "[21212.91, 21212.91, 21212.91, 21212.91, 21212.91, 21212.91, 21212.91, 21212.91, 21212.91, 21212.91, 21212.91, 21212.91]\n",
      "[33540.43, 33540.43, 33540.43, 33540.43, 33540.43, 33540.43, 33540.43, 33540.43, 33540.43, 33540.43, 33540.43, 33540.43]\n",
      "[80983.64, 80983.64, 80983.64, 80983.64, 80983.64, 80983.64, 80983.64, 80983.64, 80983.64, 80983.64, 80983.64, 80983.64]\n",
      "[104142.56, 104142.56, 104142.56, 104142.56, 104142.56, 104142.56, 104142.56, 104142.56, 104142.56, 104142.56, 104142.56, 104142.56]\n",
      "\n",
      "After Assigning  Min, Max Annual_Income: ['No NaN Value']\n",
      "\n",
      "After Assigning Example Annual_Income:\n",
      "\n",
      "[16756.18, 16756.18, 16756.18, 16756.18, 16756.18, 16756.18, 16756.18, 16756.18, 16756.18, 16756.18, 16756.18, 16756.18]\n",
      "[21212.91, 21212.91, 21212.91, 21212.91, 21212.91, 21212.91, 21212.91, 21212.91, 21212.91, 21212.91, 21212.91, 21212.91]\n",
      "[33540.43, 33540.43, 33540.43, 33540.43, 33540.43, 33540.43, 33540.43, 33540.43, 33540.43, 33540.43, 33540.43, 33540.43]\n",
      "[80983.64, 80983.64, 80983.64, 80983.64, 80983.64, 80983.64, 80983.64, 80983.64, 80983.64, 80983.64, 80983.64, 80983.64]\n",
      "[104142.56, 104142.56, 104142.56, 104142.56, 104142.56, 104142.56, 104142.56, 104142.56, 104142.56, 104142.56, 104142.56, 104142.56]\n"
     ]
    }
   ],
   "source": [
    "Reassign_Group_Numeric_Wrong_Values(df, 'Customer_ID', 'Annual_Income')"
   ]
  },
  {
   "cell_type": "code",
   "execution_count": 136,
   "id": "f61bbda5",
   "metadata": {},
   "outputs": [
    {
     "data": {
      "text/plain": [
       "NaN             22500\n",
       "2295.058333        22\n",
       "6082.187500        22\n",
       "6358.956667        21\n",
       "3080.555000        21\n",
       "                ...  \n",
       "4305.385250         1\n",
       "2028.727911         1\n",
       "3065.776667         1\n",
       "2486.532500         1\n",
       "10699.849855        1\n",
       "Name: Monthly_Inhand_Salary, Length: 13684, dtype: int64"
      ]
     },
     "execution_count": 136,
     "metadata": {},
     "output_type": "execute_result"
    }
   ],
   "source": [
    "# Monthly_Inhand_Salary\n",
    "df.Monthly_Inhand_Salary.value_counts(dropna=False)"
   ]
  },
  {
   "cell_type": "code",
   "execution_count": 137,
   "id": "8129c310",
   "metadata": {},
   "outputs": [
    {
     "name": "stdout",
     "output_type": "stream",
     "text": [
      "\n",
      "Existing Min, Max Values:\n",
      "min      303.645417\n",
      "max    15204.633333\n",
      "Name: Monthly_Inhand_Salary, dtype: float64\n",
      "\n",
      "Groupby by Customer_ID's Actual min, max Values:\n",
      "min:\t303.6454166666666,\n",
      "max:\t15204.633333333331\n",
      "\n",
      "Before Assigning Min, Max Monthly_Inhand_Salary: ['No NaN Value']\n",
      "\n",
      "Before Assigning Example Monthly_Inhand_Salary:\n",
      "\n",
      "[1331.3483333333334, 1331.3483333333334, 1331.3483333333334, 1331.3483333333334, 1331.3483333333334, 1331.3483333333334, 1331.3483333333334, 1331.3483333333334, 1331.3483333333334, 1331.3483333333334, nan, 1331.3483333333334]\n",
      "[1496.7425, 1496.7425, 1496.7425, 1496.7425, nan, 1496.7425, 1496.7425, 1496.7425, 1496.7425, 1496.7425, 1496.7425, 1496.7425]\n",
      "[2655.035833333333, 2655.035833333333, 2655.035833333333, 2655.035833333333, 2655.035833333333, 2655.035833333333, 2655.035833333333, 2655.035833333333, 2655.035833333333, 2655.035833333333, 2655.035833333333, 2655.035833333333]\n",
      "[6692.636666666666, 6692.636666666666, 6692.636666666666, 6692.636666666666, 6692.636666666666, 6692.636666666666, 6692.636666666666, 6692.636666666666, 6692.636666666666, 6692.636666666666, 6692.636666666666, 6692.636666666666]\n",
      "[8433.546666666667, 8433.546666666667, 8433.546666666667, 8433.546666666667, 8433.546666666667, 8433.546666666667, 8433.546666666667, nan, 8433.546666666667, 8433.546666666667, 8433.546666666667, nan]\n",
      "\n",
      "After Assigning  Min, Max Monthly_Inhand_Salary: ['No NaN Value']\n",
      "\n",
      "After Assigning Example Monthly_Inhand_Salary:\n",
      "\n",
      "[1331.3483333333334, 1331.3483333333334, 1331.3483333333334, 1331.3483333333334, 1331.3483333333334, 1331.3483333333334, 1331.3483333333334, 1331.3483333333334, 1331.3483333333334, 1331.3483333333334, 1331.3483333333334, 1331.3483333333334]\n",
      "[1496.7425, 1496.7425, 1496.7425, 1496.7425, 1496.7425, 1496.7425, 1496.7425, 1496.7425, 1496.7425, 1496.7425, 1496.7425, 1496.7425]\n",
      "[2655.035833333333, 2655.035833333333, 2655.035833333333, 2655.035833333333, 2655.035833333333, 2655.035833333333, 2655.035833333333, 2655.035833333333, 2655.035833333333, 2655.035833333333, 2655.035833333333, 2655.035833333333]\n",
      "[6692.636666666666, 6692.636666666666, 6692.636666666666, 6692.636666666666, 6692.636666666666, 6692.636666666666, 6692.636666666666, 6692.636666666666, 6692.636666666666, 6692.636666666666, 6692.636666666666, 6692.636666666666]\n",
      "[8433.546666666667, 8433.546666666667, 8433.546666666667, 8433.546666666667, 8433.546666666667, 8433.546666666667, 8433.546666666667, 8433.546666666667, 8433.546666666667, 8433.546666666667, 8433.546666666667, 8433.546666666667]\n"
     ]
    }
   ],
   "source": [
    "Reassign_Group_Numeric_Wrong_Values(df, 'Customer_ID', 'Monthly_Inhand_Salary')"
   ]
  },
  {
   "cell_type": "code",
   "execution_count": 138,
   "id": "49ea5d83",
   "metadata": {},
   "outputs": [
    {
     "data": {
      "text/plain": [
       "6       19505\n",
       "7       19231\n",
       "8       19152\n",
       "4       18286\n",
       "5       18186\n",
       "        ...  \n",
       "1731        1\n",
       "84          1\n",
       "1458        1\n",
       "1448        1\n",
       "278         1\n",
       "Name: Num_Bank_Accounts, Length: 1183, dtype: int64"
      ]
     },
     "execution_count": 138,
     "metadata": {},
     "output_type": "execute_result"
    }
   ],
   "source": [
    "# Num_Bank_Accounts\n",
    "df.Num_Bank_Accounts.value_counts(dropna=False)"
   ]
  },
  {
   "cell_type": "code",
   "execution_count": 139,
   "id": "cac9fb4f",
   "metadata": {},
   "outputs": [
    {
     "name": "stdout",
     "output_type": "stream",
     "text": [
      "\n",
      "Existing Min, Max Values:\n",
      "min      -1\n",
      "max    1798\n",
      "Name: Num_Bank_Accounts, dtype: int64\n",
      "\n",
      "Groupby by Customer_ID's Actual min, max Values:\n",
      "min:\t-1,\n",
      "max:\t11\n",
      "\n",
      "Before Assigning Min, Max Num_Bank_Accounts: ['No NaN Value']\n",
      "\n",
      "Before Assigning Example Num_Bank_Accounts:\n",
      "\n",
      "[9, 9, 9, 9, 9, 9, 9, 9, 9, 9, 9, 9]\n",
      "[3, 3, 3, 1174, 3, 3, 3, 3, 3, 3, 3, 3]\n",
      "[6, 6, 6, 6, 6, 6, 6, 6, 6, 6, 6, 6]\n",
      "[6, 6, 6, 6, 6, 6, 6, 6, 6, 6, 6, 6]\n",
      "[3, 3, 3, 3, 3, 3, 3, 3, 3, 3, 3, 3]\n",
      "\n",
      "After Assigning  Min, Max Num_Bank_Accounts: ['No NaN Value']\n",
      "\n",
      "After Assigning Example Num_Bank_Accounts:\n",
      "\n",
      "[9.0, 9.0, 9.0, 9.0, 9.0, 9.0, 9.0, 9.0, 9.0, 9.0, 9.0, 9.0]\n",
      "[3.0, 3.0, 3.0, 3.0, 3.0, 3.0, 3.0, 3.0, 3.0, 3.0, 3.0, 3.0]\n",
      "[6.0, 6.0, 6.0, 6.0, 6.0, 6.0, 6.0, 6.0, 6.0, 6.0, 6.0, 6.0]\n",
      "[6.0, 6.0, 6.0, 6.0, 6.0, 6.0, 6.0, 6.0, 6.0, 6.0, 6.0, 6.0]\n",
      "[3.0, 3.0, 3.0, 3.0, 3.0, 3.0, 3.0, 3.0, 3.0, 3.0, 3.0, 3.0]\n"
     ]
    }
   ],
   "source": [
    "Reassign_Group_Numeric_Wrong_Values(df, 'Customer_ID', 'Num_Bank_Accounts')"
   ]
  },
  {
   "cell_type": "code",
   "execution_count": 140,
   "id": "c2d11cb0",
   "metadata": {},
   "outputs": [
    {
     "data": {
      "text/plain": [
       "5       18459\n",
       "7       16615\n",
       "6       16559\n",
       "4       14030\n",
       "3       13277\n",
       "        ...  \n",
       "791         1\n",
       "1118        1\n",
       "657         1\n",
       "640         1\n",
       "679         1\n",
       "Name: Num_Credit_Card, Length: 1179, dtype: int64"
      ]
     },
     "execution_count": 140,
     "metadata": {},
     "output_type": "execute_result"
    }
   ],
   "source": [
    "# Num_Credit_Card\n",
    "df_train.Num_Credit_Card.value_counts(dropna=False)"
   ]
  },
  {
   "cell_type": "code",
   "execution_count": 141,
   "id": "1b86feb3",
   "metadata": {},
   "outputs": [
    {
     "name": "stdout",
     "output_type": "stream",
     "text": [
      "\n",
      "Existing Min, Max Values:\n",
      "min       0\n",
      "max    1499\n",
      "Name: Num_Credit_Card, dtype: int64\n",
      "\n",
      "Groupby by Customer_ID's Actual min, max Values:\n",
      "min:\t0,\n",
      "max:\t11\n",
      "\n",
      "Before Assigning Min, Max Num_Credit_Card: ['No NaN Value']\n",
      "\n",
      "Before Assigning Example Num_Credit_Card:\n",
      "\n",
      "[6, 6, 6, 6, 6, 6, 6, 6, 6, 6, 6, 750]\n",
      "[4, 4, 4, 4, 4, 4, 4, 888, 4, 4, 4, 4]\n",
      "[3, 3, 3, 3, 3, 3, 3, 3, 3, 3, 3, 112]\n",
      "[3, 3, 3, 3, 725, 3, 3, 3, 3, 3, 3, 3]\n",
      "[5, 5, 5, 5, 5, 5, 5, 5, 5, 5, 5, 5]\n",
      "\n",
      "After Assigning  Min, Max Num_Credit_Card: ['No NaN Value']\n",
      "\n",
      "After Assigning Example Num_Credit_Card:\n",
      "\n",
      "[6.0, 6.0, 6.0, 6.0, 6.0, 6.0, 6.0, 6.0, 6.0, 6.0, 6.0, 6.0]\n",
      "[4.0, 4.0, 4.0, 4.0, 4.0, 4.0, 4.0, 4.0, 4.0, 4.0, 4.0, 4.0]\n",
      "[3.0, 3.0, 3.0, 3.0, 3.0, 3.0, 3.0, 3.0, 3.0, 3.0, 3.0, 3.0]\n",
      "[3.0, 3.0, 3.0, 3.0, 3.0, 3.0, 3.0, 3.0, 3.0, 3.0, 3.0, 3.0]\n",
      "[5.0, 5.0, 5.0, 5.0, 5.0, 5.0, 5.0, 5.0, 5.0, 5.0, 5.0, 5.0]\n"
     ]
    }
   ],
   "source": [
    "Reassign_Group_Numeric_Wrong_Values(df, 'Customer_ID', 'Num_Credit_Card')"
   ]
  },
  {
   "cell_type": "code",
   "execution_count": 142,
   "id": "fec68311",
   "metadata": {},
   "outputs": [
    {
     "data": {
      "text/plain": [
       "8       7515\n",
       "5       7479\n",
       "6       7089\n",
       "12      6828\n",
       "10      6799\n",
       "        ... \n",
       "4985       1\n",
       "2781       1\n",
       "608        1\n",
       "4817       1\n",
       "4252       1\n",
       "Name: Interest_Rate, Length: 2394, dtype: int64"
      ]
     },
     "execution_count": 142,
     "metadata": {},
     "output_type": "execute_result"
    }
   ],
   "source": [
    "# Interest_Rate\n",
    "df.Interest_Rate.value_counts(dropna=False)"
   ]
  },
  {
   "cell_type": "code",
   "execution_count": 143,
   "id": "3855cec9",
   "metadata": {},
   "outputs": [
    {
     "name": "stdout",
     "output_type": "stream",
     "text": [
      "\n",
      "Existing Min, Max Values:\n",
      "min       1\n",
      "max    5799\n",
      "Name: Interest_Rate, dtype: int64\n",
      "\n",
      "Groupby by Customer_ID's Actual min, max Values:\n",
      "min:\t1,\n",
      "max:\t34\n",
      "\n",
      "Before Assigning Min, Max Interest_Rate: ['No NaN Value']\n",
      "\n",
      "Before Assigning Example Interest_Rate:\n",
      "\n",
      "[22, 22, 22, 22, 22, 22, 22, 22, 22, 22, 22, 22]\n",
      "[10, 10, 10, 10, 10, 10, 10, 10, 10, 10, 10, 10]\n",
      "[17, 17, 17, 17, 17, 17, 17, 17, 17, 17, 17, 17]\n",
      "[15, 15, 15, 15, 15, 15, 15, 15, 15, 15, 15, 15]\n",
      "[5, 5, 5, 5, 5, 5, 5, 5, 5, 5, 5, 5]\n",
      "\n",
      "After Assigning  Min, Max Interest_Rate: ['No NaN Value']\n",
      "\n",
      "After Assigning Example Interest_Rate:\n",
      "\n",
      "[22.0, 22.0, 22.0, 22.0, 22.0, 22.0, 22.0, 22.0, 22.0, 22.0, 22.0, 22.0]\n",
      "[10.0, 10.0, 10.0, 10.0, 10.0, 10.0, 10.0, 10.0, 10.0, 10.0, 10.0, 10.0]\n",
      "[17.0, 17.0, 17.0, 17.0, 17.0, 17.0, 17.0, 17.0, 17.0, 17.0, 17.0, 17.0]\n",
      "[15.0, 15.0, 15.0, 15.0, 15.0, 15.0, 15.0, 15.0, 15.0, 15.0, 15.0, 15.0]\n",
      "[5.0, 5.0, 5.0, 5.0, 5.0, 5.0, 5.0, 5.0, 5.0, 5.0, 5.0, 5.0]\n"
     ]
    }
   ],
   "source": [
    "Reassign_Group_Numeric_Wrong_Values(df, 'Customer_ID', 'Interest_Rate')"
   ]
  },
  {
   "cell_type": "code",
   "execution_count": 144,
   "id": "1b5ef5fe",
   "metadata": {},
   "outputs": [
    {
     "data": {
      "text/plain": [
       "3       22618\n",
       "2       22547\n",
       "4       22111\n",
       "0       16376\n",
       "1       15901\n",
       "        ...  \n",
       "1085        1\n",
       "742         1\n",
       "291         1\n",
       "365         1\n",
       "1442        1\n",
       "Name: Num_of_Loan, Length: 600, dtype: int64"
      ]
     },
     "execution_count": 144,
     "metadata": {},
     "output_type": "execute_result"
    }
   ],
   "source": [
    "# Num_of_Loan\n",
    "df.Num_of_Loan.value_counts(dropna=False)"
   ]
  },
  {
   "cell_type": "code",
   "execution_count": 145,
   "id": "56081e5a",
   "metadata": {},
   "outputs": [
    {
     "name": "stdout",
     "output_type": "stream",
     "text": [
      "\n",
      "Existing Min, Max Values:\n",
      "min    -100\n",
      "max    1496\n",
      "Name: Num_of_Loan, dtype: int64\n",
      "\n",
      "Groupby by Customer_ID's Actual min, max Values:\n",
      "min:\t0,\n",
      "max:\t9\n",
      "\n",
      "Before Assigning Min, Max Num_of_Loan: ['No NaN Value']\n",
      "\n",
      "Before Assigning Example Num_of_Loan:\n",
      "\n",
      "[2, 2, 2, 2, 2, 2, 2, 2, 2, 2, 2, -100]\n",
      "[3, 3, 3, 3, -100, 3, 3, 3, 3, 3, 3, 3]\n",
      "[0, 0, 0, 0, 0, 0, 0, 0, 0, 0, 0, 0]\n",
      "[4, 4, 4, 4, 4, 4, 4, 4, 4, 4, 4, 4]\n",
      "[3, 3, 3, 3, 3, 3, 3, 3, 3, 3, 3, 3]\n",
      "\n",
      "After Assigning  Min, Max Num_of_Loan: ['No NaN Value']\n",
      "\n",
      "After Assigning Example Num_of_Loan:\n",
      "\n",
      "[2.0, 2.0, 2.0, 2.0, 2.0, 2.0, 2.0, 2.0, 2.0, 2.0, 2.0, 2.0]\n",
      "[3.0, 3.0, 3.0, 3.0, 3.0, 3.0, 3.0, 3.0, 3.0, 3.0, 3.0, 3.0]\n",
      "[0.0, 0.0, 0.0, 0.0, 0.0, 0.0, 0.0, 0.0, 0.0, 0.0, 0.0, 0.0]\n",
      "[4.0, 4.0, 4.0, 4.0, 4.0, 4.0, 4.0, 4.0, 4.0, 4.0, 4.0, 4.0]\n",
      "[3.0, 3.0, 3.0, 3.0, 3.0, 3.0, 3.0, 3.0, 3.0, 3.0, 3.0, 3.0]\n"
     ]
    }
   ],
   "source": [
    "Reassign_Group_Numeric_Wrong_Values(df, 'Customer_ID', 'Num_of_Loan')"
   ]
  },
  {
   "cell_type": "code",
   "execution_count": 147,
   "id": "d53518fa",
   "metadata": {},
   "outputs": [
    {
     "data": {
      "text/plain": [
       " 15    5355\n",
       " 13    5185\n",
       " 8     5004\n",
       " 14    4949\n",
       " 10    4926\n",
       "       ... \n",
       " 63      90\n",
       " 65      86\n",
       "-5       51\n",
       " 66      44\n",
       " 67      29\n",
       "Name: Delay_from_due_date, Length: 73, dtype: int64"
      ]
     },
     "execution_count": 147,
     "metadata": {},
     "output_type": "execute_result"
    }
   ],
   "source": [
    "# Delay_from_due_date\n",
    "df.Delay_from_due_date.value_counts(dropna=False)"
   ]
  },
  {
   "cell_type": "code",
   "execution_count": 148,
   "id": "b2bc9375",
   "metadata": {},
   "outputs": [
    {
     "name": "stdout",
     "output_type": "stream",
     "text": [
      "\n",
      "Existing Min, Max Values:\n",
      "min    -5\n",
      "max    67\n",
      "Name: Delay_from_due_date, dtype: int64\n",
      "\n",
      "Groupby by Customer_ID's Actual min, max Values:\n",
      "min:\t-1,\n",
      "max:\t62\n",
      "\n",
      "Before Assigning Min, Max Delay_from_due_date: ['No NaN Value']\n",
      "\n",
      "Before Assigning Example Delay_from_due_date:\n",
      "\n",
      "[48, 48, 48, 48, 48, 48, 48, 48, 48, 50, 48, 53]\n",
      "[19, 19, 19, 19, 19, 19, 19, 16, 20, 19, 15, 19]\n",
      "[25, 28, 22, 26, 26, 26, 26, 26, 26, 26, 21, 26]\n",
      "[19, 19, 19, 19, 19, 19, 19, 19, 19, 18, 21, 19]\n",
      "[15, 15, 20, 16, 20, 20, 20, 24, 25, 20, 20, 20]\n",
      "\n",
      "After Assigning  Min, Max Delay_from_due_date: ['No NaN Value']\n",
      "\n",
      "After Assigning Example Delay_from_due_date:\n",
      "\n",
      "[48.0, 48.0, 48.0, 48.0, 48.0, 48.0, 48.0, 48.0, 48.0, 50.0, 48.0, 53.0]\n",
      "[19.0, 19.0, 19.0, 19.0, 19.0, 19.0, 19.0, 16.0, 20.0, 19.0, 15.0, 19.0]\n",
      "[25.0, 28.0, 22.0, 26.0, 26.0, 26.0, 26.0, 26.0, 26.0, 26.0, 21.0, 26.0]\n",
      "[19.0, 19.0, 19.0, 19.0, 19.0, 19.0, 19.0, 19.0, 19.0, 18.0, 21.0, 19.0]\n",
      "[15.0, 15.0, 20.0, 16.0, 20.0, 20.0, 20.0, 24.0, 25.0, 20.0, 20.0, 20.0]\n"
     ]
    }
   ],
   "source": [
    "Reassign_Group_Numeric_Wrong_Values(df, 'Customer_ID', 'Delay_from_due_date')"
   ]
  },
  {
   "cell_type": "code",
   "execution_count": 149,
   "id": "ddc8d4a0",
   "metadata": {},
   "outputs": [
    {
     "data": {
      "text/plain": [
       "NaN       10500\n",
       "19.0       8188\n",
       "17.0       8048\n",
       "16.0       7949\n",
       "15.0       7911\n",
       "          ...  \n",
       "3881.0        1\n",
       "2728.0        1\n",
       "1952.0        1\n",
       "3580.0        1\n",
       "2034.0        1\n",
       "Name: Num_of_Delayed_Payment, Length: 1015, dtype: int64"
      ]
     },
     "execution_count": 149,
     "metadata": {},
     "output_type": "execute_result"
    }
   ],
   "source": [
    "# Num_of_Delayed_Payment\n",
    "df.Num_of_Delayed_Payment.value_counts(dropna=False)"
   ]
  },
  {
   "cell_type": "code",
   "execution_count": 150,
   "id": "6782b8f9",
   "metadata": {},
   "outputs": [
    {
     "name": "stdout",
     "output_type": "stream",
     "text": [
      "\n",
      "Existing Min, Max Values:\n",
      "min      -3.0\n",
      "max    4399.0\n",
      "Name: Num_of_Delayed_Payment, dtype: float64\n",
      "\n",
      "Groupby by Customer_ID's Actual min, max Values:\n",
      "min:\t-2.0,\n",
      "max:\t25.0\n",
      "\n",
      "Before Assigning Min, Max Num_of_Delayed_Payment: ['No NaN Value']\n",
      "\n",
      "Before Assigning Example Num_of_Delayed_Payment:\n",
      "\n",
      "[10.0, 12.0, 12.0, 13.0, nan, 12.0, 11.0, 12.0, 12.0, 12.0, 11.0, 12.0]\n",
      "[19.0, 19.0, 19.0, 19.0, 19.0, 21.0, 20.0, 19.0, 19.0, 18.0, 19.0, 20.0]\n",
      "[11.0, 11.0, 11.0, nan, 11.0, nan, 11.0, 13.0, 12.0, 11.0, 13.0, 11.0]\n",
      "[18.0, 18.0, 18.0, 18.0, 18.0, nan, 20.0, 18.0, 18.0, 18.0, nan, nan]\n",
      "[17.0, 16.0, 14.0, nan, 17.0, 14.0, 11.0, 14.0, 14.0, 14.0, 17.0, 12.0]\n",
      "\n",
      "After Assigning  Min, Max Num_of_Delayed_Payment: ['No NaN Value']\n",
      "\n",
      "After Assigning Example Num_of_Delayed_Payment:\n",
      "\n",
      "[10.0, 12.0, 12.0, 13.0, 12.0, 12.0, 11.0, 12.0, 12.0, 12.0, 11.0, 12.0]\n",
      "[19.0, 19.0, 19.0, 19.0, 19.0, 21.0, 20.0, 19.0, 19.0, 18.0, 19.0, 20.0]\n",
      "[11.0, 11.0, 11.0, 11.0, 11.0, 11.0, 11.0, 13.0, 12.0, 11.0, 13.0, 11.0]\n",
      "[18.0, 18.0, 18.0, 18.0, 18.0, 18.0, 20.0, 18.0, 18.0, 18.0, 18.0, 18.0]\n",
      "[17.0, 16.0, 14.0, 14.0, 17.0, 14.0, 11.0, 14.0, 14.0, 14.0, 17.0, 12.0]\n"
     ]
    }
   ],
   "source": [
    "Reassign_Group_Numeric_Wrong_Values(df, 'Customer_ID', 'Num_of_Delayed_Payment')"
   ]
  },
  {
   "cell_type": "code",
   "execution_count": 151,
   "id": "0acb24d5",
   "metadata": {},
   "outputs": [
    {
     "data": {
      "text/plain": [
       "NaN      3150\n",
       "11.50     197\n",
       "11.32     189\n",
       "8.22      189\n",
       "7.35      181\n",
       "         ... \n",
       "34.57       1\n",
       "31.94       1\n",
       "34.46       1\n",
       "23.32       1\n",
       "29.17       1\n",
       "Name: Changed_Credit_Limit, Length: 4605, dtype: int64"
      ]
     },
     "execution_count": 151,
     "metadata": {},
     "output_type": "execute_result"
    }
   ],
   "source": [
    "# Changed_Credit_Limit\n",
    "df.Changed_Credit_Limit.value_counts(dropna=False)"
   ]
  },
  {
   "cell_type": "code",
   "execution_count": 152,
   "id": "64b56e1d",
   "metadata": {},
   "outputs": [
    {
     "name": "stdout",
     "output_type": "stream",
     "text": [
      "\n",
      "Existing Min, Max Values:\n",
      "min    -6.49\n",
      "max    36.97\n",
      "Name: Changed_Credit_Limit, dtype: float64\n",
      "\n",
      "Groupby by Customer_ID's Actual min, max Values:\n",
      "min:\t0.5,\n",
      "max:\t29.98\n",
      "\n",
      "Before Assigning Min, Max Changed_Credit_Limit: ['No NaN Value']\n",
      "\n",
      "Before Assigning Example Changed_Credit_Limit:\n",
      "\n",
      "[10.66, 10.66, 10.66, 10.66, 10.66, 10.66, 10.66, 10.66, 10.66, 10.66, 17.66, 10.66]\n",
      "[12.13, 5.13, 5.13, 5.13, 5.13, 2.13, 5.13, 5.13, 5.13, 5.13, 5.13, 5.13]\n",
      "[14.11, 14.11, 14.11, 14.11, 14.11, 14.11, 14.11, 14.11, 14.11, 14.11, 14.11, 14.11]\n",
      "[16.91, 16.91, 16.91, 16.91, 16.91, 16.91, 19.91, 16.91, 19.91, 16.91, 16.91, 16.91]\n",
      "[15.28, 15.28, 15.28, 15.28, 19.28, 15.28, 15.28, 15.28, 15.28, 15.28, 15.28, 15.28]\n",
      "\n",
      "After Assigning  Min, Max Changed_Credit_Limit: ['No NaN Value']\n",
      "\n",
      "After Assigning Example Changed_Credit_Limit:\n",
      "\n",
      "[10.66, 10.66, 10.66, 10.66, 10.66, 10.66, 10.66, 10.66, 10.66, 10.66, 17.66, 10.66]\n",
      "[12.13, 5.13, 5.13, 5.13, 5.13, 2.13, 5.13, 5.13, 5.13, 5.13, 5.13, 5.13]\n",
      "[14.11, 14.11, 14.11, 14.11, 14.11, 14.11, 14.11, 14.11, 14.11, 14.11, 14.11, 14.11]\n",
      "[16.91, 16.91, 16.91, 16.91, 16.91, 16.91, 19.91, 16.91, 19.91, 16.91, 16.91, 16.91]\n",
      "[15.28, 15.28, 15.28, 15.28, 19.28, 15.28, 15.28, 15.28, 15.28, 15.28, 15.28, 15.28]\n"
     ]
    }
   ],
   "source": [
    "Reassign_Group_Numeric_Wrong_Values(df, 'Customer_ID', 'Changed_Credit_Limit')"
   ]
  },
  {
   "cell_type": "code",
   "execution_count": 153,
   "id": "81dc3987",
   "metadata": {},
   "outputs": [
    {
     "data": {
      "text/plain": [
       "4.0       15673\n",
       "6.0       12486\n",
       "3.0       12356\n",
       "7.0       12353\n",
       "8.0       11788\n",
       "          ...  \n",
       "1243.0        1\n",
       "540.0         1\n",
       "2150.0        1\n",
       "1324.0        1\n",
       "352.0         1\n",
       "Name: Num_Credit_Inquiries, Length: 1608, dtype: int64"
      ]
     },
     "execution_count": 153,
     "metadata": {},
     "output_type": "execute_result"
    }
   ],
   "source": [
    "# Num_Credit_Inquiries\n",
    "df.Num_Credit_Inquiries.value_counts(dropna=False)"
   ]
  },
  {
   "cell_type": "code",
   "execution_count": 154,
   "id": "eb763038",
   "metadata": {},
   "outputs": [
    {
     "name": "stdout",
     "output_type": "stream",
     "text": [
      "\n",
      "Existing Min, Max Values:\n",
      "min       0.0\n",
      "max    2597.0\n",
      "Name: Num_Credit_Inquiries, dtype: float64\n",
      "\n",
      "Groupby by Customer_ID's Actual min, max Values:\n",
      "min:\t0.0,\n",
      "max:\t17.0\n",
      "\n",
      "Before Assigning Min, Max Num_Credit_Inquiries: ['No NaN Value']\n",
      "\n",
      "Before Assigning Example Num_Credit_Inquiries:\n",
      "\n",
      "[nan, 8.0, 8.0, 8.0, 8.0, 8.0, 8.0, 8.0, 13.0, 13.0, 13.0, 13.0]\n",
      "[1.0, 1.0, 1.0, 1.0, 1196.0, 1.0, 1.0, 1.0, 1.0, 5.0, 5.0, 5.0]\n",
      "[6.0, 10.0, 10.0, 10.0, 10.0, 10.0, 10.0, 10.0, 10.0, 10.0, 10.0, 848.0]\n",
      "[7.0, 7.0, 7.0, 7.0, 7.0, 7.0, 7.0, 7.0, 11.0, 11.0, 11.0, 11.0]\n",
      "[6.0, 6.0, 6.0, 6.0, 6.0, 6.0, 6.0, 692.0, 10.0, 10.0, 10.0, 10.0]\n",
      "\n",
      "After Assigning  Min, Max Num_Credit_Inquiries: ['No NaN Value']\n",
      "\n",
      "After Assigning Example Num_Credit_Inquiries:\n",
      "\n",
      "[8.0, 8.0, 8.0, 8.0, 8.0, 8.0, 8.0, 8.0, 13.0, 13.0, 13.0, 13.0]\n",
      "[1.0, 1.0, 1.0, 1.0, 1.0, 1.0, 1.0, 1.0, 1.0, 5.0, 5.0, 5.0]\n",
      "[6.0, 10.0, 10.0, 10.0, 10.0, 10.0, 10.0, 10.0, 10.0, 10.0, 10.0, 10.0]\n",
      "[7.0, 7.0, 7.0, 7.0, 7.0, 7.0, 7.0, 7.0, 11.0, 11.0, 11.0, 11.0]\n",
      "[6.0, 6.0, 6.0, 6.0, 6.0, 6.0, 6.0, 6.0, 10.0, 10.0, 10.0, 10.0]\n"
     ]
    }
   ],
   "source": [
    "Reassign_Group_Numeric_Wrong_Values(df, 'Customer_ID', 'Num_Credit_Inquiries')"
   ]
  },
  {
   "cell_type": "code",
   "execution_count": 155,
   "id": "f4acc3d0",
   "metadata": {},
   "outputs": [
    {
     "data": {
      "text/plain": [
       "1109.03    36\n",
       "1151.70    36\n",
       "1360.45    36\n",
       "460.46     36\n",
       "1058.13    24\n",
       "           ..\n",
       "4230.04    12\n",
       "641.99     12\n",
       "98.61      12\n",
       "2614.48    12\n",
       "502.38     12\n",
       "Name: Outstanding_Debt, Length: 12203, dtype: int64"
      ]
     },
     "execution_count": 155,
     "metadata": {},
     "output_type": "execute_result"
    }
   ],
   "source": [
    "# Outstanding_Debt\n",
    "df.Outstanding_Debt.value_counts(dropna=False)"
   ]
  },
  {
   "cell_type": "code",
   "execution_count": 156,
   "id": "bd653a90",
   "metadata": {},
   "outputs": [
    {
     "name": "stdout",
     "output_type": "stream",
     "text": [
      "\n",
      "Existing Min, Max Values:\n",
      "min       0.23\n",
      "max    4998.07\n",
      "Name: Outstanding_Debt, dtype: float64\n",
      "\n",
      "Groupby by Customer_ID's Actual min, max Values:\n",
      "min:\t0.23,\n",
      "max:\t4998.07\n",
      "\n",
      "Before Assigning Min, Max Outstanding_Debt: ['No NaN Value']\n",
      "\n",
      "Before Assigning Example Outstanding_Debt:\n",
      "\n",
      "[1941.73, 1941.73, 1941.73, 1941.73, 1941.73, 1941.73, 1941.73, 1941.73, 1941.73, 1941.73, 1941.73, 1941.73]\n",
      "[993.15, 993.15, 993.15, 993.15, 993.15, 993.15, 993.15, 993.15, 993.15, 993.15, 993.15, 993.15]\n",
      "[1138.97, 1138.97, 1138.97, 1138.97, 1138.97, 1138.97, 1138.97, 1138.97, 1138.97, 1138.97, 1138.97, 1138.97]\n",
      "[982.44, 982.44, 982.44, 982.44, 982.44, 982.44, 982.44, 982.44, 982.44, 982.44, 982.44, 982.44]\n",
      "[1371.8, 1371.8, 1371.8, 1371.8, 1371.8, 1371.8, 1371.8, 1371.8, 1371.8, 1371.8, 1371.8, 1371.8]\n",
      "\n",
      "After Assigning  Min, Max Outstanding_Debt: ['No NaN Value']\n",
      "\n",
      "After Assigning Example Outstanding_Debt:\n",
      "\n",
      "[1941.73, 1941.73, 1941.73, 1941.73, 1941.73, 1941.73, 1941.73, 1941.73, 1941.73, 1941.73, 1941.73, 1941.73]\n",
      "[993.15, 993.15, 993.15, 993.15, 993.15, 993.15, 993.15, 993.15, 993.15, 993.15, 993.15, 993.15]\n",
      "[1138.97, 1138.97, 1138.97, 1138.97, 1138.97, 1138.97, 1138.97, 1138.97, 1138.97, 1138.97, 1138.97, 1138.97]\n",
      "[982.44, 982.44, 982.44, 982.44, 982.44, 982.44, 982.44, 982.44, 982.44, 982.44, 982.44, 982.44]\n",
      "[1371.8, 1371.8, 1371.8, 1371.8, 1371.8, 1371.8, 1371.8, 1371.8, 1371.8, 1371.8, 1371.8, 1371.8]\n"
     ]
    }
   ],
   "source": [
    "Reassign_Group_Numeric_Wrong_Values(df, 'Customer_ID', 'Outstanding_Debt')"
   ]
  },
  {
   "cell_type": "code",
   "execution_count": 157,
   "id": "e755774f",
   "metadata": {},
   "outputs": [
    {
     "data": {
      "text/plain": [
       "26.822620    1\n",
       "39.377219    1\n",
       "40.565631    1\n",
       "41.255522    1\n",
       "33.638208    1\n",
       "            ..\n",
       "26.650258    1\n",
       "23.864244    1\n",
       "29.638130    1\n",
       "31.875399    1\n",
       "34.108530    1\n",
       "Name: Credit_Utilization_Ratio, Length: 150000, dtype: int64"
      ]
     },
     "execution_count": 157,
     "metadata": {},
     "output_type": "execute_result"
    }
   ],
   "source": [
    "# Credit_Utilization_Ratio\n",
    "df.Credit_Utilization_Ratio.value_counts(dropna=False)"
   ]
  },
  {
   "cell_type": "code",
   "execution_count": 159,
   "id": "541038fa",
   "metadata": {},
   "outputs": [
    {
     "data": {
      "text/plain": [
       "0"
      ]
     },
     "execution_count": 159,
     "metadata": {},
     "output_type": "execute_result"
    }
   ],
   "source": [
    "df.Credit_Utilization_Ratio.isna().sum()#there is 0 null"
   ]
  },
  {
   "cell_type": "code",
   "execution_count": 160,
   "id": "8e2a1a6c",
   "metadata": {},
   "outputs": [
    {
     "data": {
      "text/plain": [
       "NaN      13500\n",
       "215.0      628\n",
       "220.0      621\n",
       "219.0      617\n",
       "237.0      615\n",
       "         ...  \n",
       "3.0         20\n",
       "2.0         15\n",
       "407.0       15\n",
       "408.0       14\n",
       "1.0          2\n",
       "Name: Credit_History_Age, Length: 409, dtype: int64"
      ]
     },
     "execution_count": 160,
     "metadata": {},
     "output_type": "execute_result"
    }
   ],
   "source": [
    "# Credit_History_Age\n",
    "df.Credit_History_Age.value_counts(dropna=False)"
   ]
  },
  {
   "cell_type": "code",
   "execution_count": 162,
   "id": "681fc67e",
   "metadata": {},
   "outputs": [],
   "source": [
    "df['Credit_History_Age'] = df.groupby('Customer_ID', group_keys=False)['Credit_History_Age'].apply(lambda x: x.interpolate().bfill().ffill())"
   ]
  },
  {
   "cell_type": "code",
   "execution_count": 163,
   "id": "1d81c8ef",
   "metadata": {},
   "outputs": [
    {
     "data": {
      "text/plain": [
       "0.000000        15615\n",
       "49.574949          12\n",
       "16.528703          12\n",
       "64.443403          12\n",
       "331.719510         12\n",
       "                ...  \n",
       "10404.000000        1\n",
       "15457.000000        1\n",
       "59578.000000        1\n",
       "43183.000000        1\n",
       "33013.000000        1\n",
       "Name: Total_EMI_per_month, Length: 16960, dtype: int64"
      ]
     },
     "execution_count": 163,
     "metadata": {},
     "output_type": "execute_result"
    }
   ],
   "source": [
    "# Total_EMI_per_month\n",
    "df.Total_EMI_per_month.value_counts(dropna=False)"
   ]
  },
  {
   "cell_type": "code",
   "execution_count": 164,
   "id": "2d513b77",
   "metadata": {},
   "outputs": [
    {
     "name": "stdout",
     "output_type": "stream",
     "text": [
      "\n",
      "Existing Min, Max Values:\n",
      "min        0.0\n",
      "max    82398.0\n",
      "Name: Total_EMI_per_month, dtype: float64\n",
      "\n",
      "Groupby by Customer_ID's Actual min, max Values:\n",
      "min:\t0.0,\n",
      "max:\t1779.1032538262775\n",
      "\n",
      "Before Assigning Min, Max Total_EMI_per_month: ['No NaN Value']\n",
      "\n",
      "Before Assigning Example Total_EMI_per_month:\n",
      "\n",
      "[27.44208910654816, 27.44208910654816, 27.44208910654816, 27.44208910654816, 27.44208910654816, 27.44208910654816, 27.44208910654816, 32972.0, 27.44208910654816, 27.44208910654816, 27.44208910654816, 27.44208910654816]\n",
      "[45.74570037068675, 45.74570037068675, 45.74570037068675, 45.74570037068675, 45.74570037068675, 45.74570037068675, 45.74570037068675, 45.74570037068675, 45.74570037068675, 45.74570037068675, 45.74570037068675, 45.74570037068675]\n",
      "[0.0, 0.0, 0.0, 0.0, 0.0, 0.0, 0.0, 0.0, 0.0, 0.0, 0.0, 0.0]\n",
      "[188.45659522353543, 188.45659522353543, 188.45659522353543, 188.45659522353543, 188.45659522353543, 188.45659522353543, 188.45659522353543, 188.45659522353543, 188.45659522353543, 188.45659522353543, 188.45659522353543, 188.45659522353543]\n",
      "[257.7386460249556, 257.7386460249556, 257.7386460249556, 257.7386460249556, 257.7386460249556, 257.7386460249556, 257.7386460249556, 257.7386460249556, 257.7386460249556, 257.7386460249556, 257.7386460249556, 257.7386460249556]\n",
      "\n",
      "After Assigning  Min, Max Total_EMI_per_month: ['No NaN Value']\n",
      "\n",
      "After Assigning Example Total_EMI_per_month:\n",
      "\n",
      "[27.44208910654816, 27.44208910654816, 27.44208910654816, 27.44208910654816, 27.44208910654816, 27.44208910654816, 27.44208910654816, 27.44208910654816, 27.44208910654816, 27.44208910654816, 27.44208910654816, 27.44208910654816]\n",
      "[45.74570037068675, 45.74570037068675, 45.74570037068675, 45.74570037068675, 45.74570037068675, 45.74570037068675, 45.74570037068675, 45.74570037068675, 45.74570037068675, 45.74570037068675, 45.74570037068675, 45.74570037068675]\n",
      "[0.0, 0.0, 0.0, 0.0, 0.0, 0.0, 0.0, 0.0, 0.0, 0.0, 0.0, 0.0]\n",
      "[188.45659522353543, 188.45659522353543, 188.45659522353543, 188.45659522353543, 188.45659522353543, 188.45659522353543, 188.45659522353543, 188.45659522353543, 188.45659522353543, 188.45659522353543, 188.45659522353543, 188.45659522353543]\n",
      "[257.7386460249556, 257.7386460249556, 257.7386460249556, 257.7386460249556, 257.7386460249556, 257.7386460249556, 257.7386460249556, 257.7386460249556, 257.7386460249556, 257.7386460249556, 257.7386460249556, 257.7386460249556]\n"
     ]
    }
   ],
   "source": [
    "Reassign_Group_Numeric_Wrong_Values(df, 'Customer_ID', 'Total_EMI_per_month')"
   ]
  },
  {
   "cell_type": "code",
   "execution_count": 165,
   "id": "f5ba9b59",
   "metadata": {},
   "outputs": [
    {
     "data": {
      "text/plain": [
       "NaN             6750\n",
       "10000.000000    6480\n",
       "0.000000         275\n",
       "80.415295          1\n",
       "16.532189          1\n",
       "                ... \n",
       "209.172746         1\n",
       "333.014809         1\n",
       "274.687129         1\n",
       "220.581212         1\n",
       "220.457878         1\n",
       "Name: Amount_invested_monthly, Length: 136498, dtype: int64"
      ]
     },
     "execution_count": 165,
     "metadata": {},
     "output_type": "execute_result"
    }
   ],
   "source": [
    "# Amount_invested_monthly\n",
    "df.Amount_invested_monthly.value_counts(dropna=False)"
   ]
  },
  {
   "cell_type": "code",
   "execution_count": 166,
   "id": "ed54a4b5",
   "metadata": {},
   "outputs": [
    {
     "name": "stdout",
     "output_type": "stream",
     "text": [
      "\n",
      "Existing Min, Max Values:\n",
      "min        0.0\n",
      "max    10000.0\n",
      "Name: Amount_invested_monthly, dtype: float64\n",
      "\n",
      "Groupby by Customer_ID's Actual min, max Values:\n",
      "min:\t0.0,\n",
      "max:\t10000.0\n",
      "\n",
      "Before Assigning Min, Max Amount_invested_monthly: ['No NaN Value']\n",
      "\n",
      "Before Assigning Example Amount_invested_monthly:\n",
      "\n",
      "[45.30106826949194, 90.07842318605292, 61.73271462991577, 56.4949816634165, 51.726244263612, 60.82828780912217, 95.6486475869488, 66.71824831147686, 116.54410553197071, 79.08087443658461, 93.81567846791012, 168.43584020560507]\n",
      "[30.373471914127194, 44.31995483866171, nan, 62.81248610216079, 148.30956484525, 10000.0, 59.30896122323683, 118.54244614778156, 104.33987358576769, 55.45176127748453, nan, nan]\n",
      "[118.8806978910128, nan, 337.1997406214716, 170.8689598433119, 74.1980692925824, 105.4573791889266, 197.85037247610126, 165.20443547590202, 50.930150099663045, 86.4414839594447, 351.92301846584564, 55.62866930298164]\n",
      "[149.37725143584314, 146.97809602243544, 101.12020124815511, 492.3974911743151, 264.1791118544216, 261.69017894140734, 200.64143588981403, 126.07161584554541, 684.6651624547051, 103.13758327637464, 110.66061982791805, 161.67162412887268]\n",
      "[292.2127037381353, nan, 187.59489650806347, 275.635709774446, 487.8062062008502, nan, 124.29952362711306, 481.7990883470461, 631.9932676909148, 772.3790958015891, 102.48803392235304, 474.3649639513685]\n",
      "\n",
      "After Assigning  Min, Max Amount_invested_monthly: ['No NaN Value']\n",
      "\n",
      "After Assigning Example Amount_invested_monthly:\n",
      "\n",
      "[45.30106826949194, 90.07842318605292, 61.73271462991577, 56.4949816634165, 51.726244263612, 60.82828780912217, 95.6486475869488, 66.71824831147686, 116.54410553197071, 79.08087443658461, 93.81567846791012, 168.43584020560507]\n",
      "[30.373471914127194, 44.31995483866171, 30.373471914127194, 62.81248610216079, 148.30956484525, 10000.0, 59.30896122323683, 118.54244614778156, 104.33987358576769, 55.45176127748453, 30.373471914127194, 30.373471914127194]\n",
      "[118.8806978910128, 50.930150099663045, 337.1997406214716, 170.8689598433119, 74.1980692925824, 105.4573791889266, 197.85037247610126, 165.20443547590202, 50.930150099663045, 86.4414839594447, 351.92301846584564, 55.62866930298164]\n",
      "[149.37725143584314, 146.97809602243544, 101.12020124815511, 492.3974911743151, 264.1791118544216, 261.69017894140734, 200.64143588981403, 126.07161584554541, 684.6651624547051, 103.13758327637464, 110.66061982791805, 161.67162412887268]\n",
      "[292.2127037381353, 102.48803392235304, 187.59489650806347, 275.635709774446, 487.8062062008502, 102.48803392235304, 124.29952362711306, 481.7990883470461, 631.9932676909148, 772.3790958015891, 102.48803392235304, 474.3649639513685]\n"
     ]
    }
   ],
   "source": [
    "Reassign_Group_Numeric_Wrong_Values(df, 'Customer_ID', 'Amount_invested_monthly')"
   ]
  },
  {
   "cell_type": "code",
   "execution_count": 167,
   "id": "7386485c",
   "metadata": {},
   "outputs": [
    {
     "data": {
      "text/plain": [
       " NaN             1762\n",
       "-3.333333e+26      15\n",
       " 6.001125e+02       1\n",
       " 1.205425e+02       1\n",
       " 7.840175e+02       1\n",
       "                 ... \n",
       " 2.799825e+02       1\n",
       " 2.606716e+02       1\n",
       " 2.504915e+02       1\n",
       " 2.438753e+02       1\n",
       " 3.603797e+02       1\n",
       "Name: Monthly_Balance, Length: 148225, dtype: int64"
      ]
     },
     "execution_count": 167,
     "metadata": {},
     "output_type": "execute_result"
    }
   ],
   "source": [
    "# Monthly_Balance\n",
    "df.Monthly_Balance.value_counts(dropna=False)"
   ]
  },
  {
   "cell_type": "code",
   "execution_count": 168,
   "id": "2d2bdd15",
   "metadata": {},
   "outputs": [
    {
     "name": "stdout",
     "output_type": "stream",
     "text": [
      "\n",
      "Existing Min, Max Values:\n",
      "min   -3.333333e+26\n",
      "max    1.606518e+03\n",
      "Name: Monthly_Balance, dtype: float64\n",
      "\n",
      "Groupby by Customer_ID's Actual min, max Values:\n",
      "min:\t-3.333333333333333e+26,\n",
      "max:\t1183.9306960885192\n",
      "\n",
      "Before Assigning Min, Max Monthly_Balance: ['No NaN Value']\n",
      "\n",
      "Before Assigning Example Monthly_Balance:\n",
      "\n",
      "[310.39167595729333, 295.61432104073225, 333.9600295968694, 309.1977625633686, 323.9664999631732, 334.864456417663, 280.04409663983637, 328.97449591530835, 279.14863869481445, 306.61186979020056, 301.87706575887506, 227.25690402118008]\n",
      "[323.5550777151861, 309.6085947906515, 265.4874646531188, 291.11606352715245, 245.61898478406326, 239.46481499922072, 334.61958840607645, 275.3861034815317, 279.58867604354555, 318.4767883518287, 260.7342254927612, 307.57591763672826]\n",
      "[406.62288544232047, 350.39351957834924, 218.30384271186168, 354.63462349002145, 441.30551404075095, 420.04620414440666, 337.6532108572321, 370.2991478574313, 474.5734332336703, 439.0620993738886, 203.58056486748768, 459.8749140303517]\n",
      "[581.4298200072883, 573.8289754206959, 629.6868701949761, 258.40958026881617, 496.6279595887097, 489.116892501724, 560.1656355533173, 594.7354555975859, 76.14190898842622, 617.6694881667568, 620.1464516152132, 569.1354473142586]\n",
      "[553.4033169035758, 228.71773015063442, 648.0211241336477, 579.9803108672652, 377.809814440861, nan, 701.3164970145981, 383.81693229466515, 223.62275295079644, 93.23692484012213, 723.1279867193582, 401.2510566903428]\n",
      "\n",
      "After Assigning  Min, Max Monthly_Balance: ['No NaN Value']\n",
      "\n",
      "After Assigning Example Monthly_Balance:\n",
      "\n",
      "[310.39167595729333, 295.61432104073225, 333.9600295968694, 309.1977625633686, 323.9664999631732, 334.864456417663, 280.04409663983637, 328.97449591530835, 279.14863869481445, 306.61186979020056, 301.87706575887506, 227.25690402118008]\n",
      "[323.5550777151861, 309.6085947906515, 265.4874646531188, 291.11606352715245, 245.61898478406326, 239.46481499922072, 334.61958840607645, 275.3861034815317, 279.58867604354555, 318.4767883518287, 260.7342254927612, 307.57591763672826]\n",
      "[406.62288544232047, 350.39351957834924, 218.30384271186168, 354.63462349002145, 441.30551404075095, 420.04620414440666, 337.6532108572321, 370.2991478574313, 474.5734332336703, 439.0620993738886, 203.58056486748768, 459.8749140303517]\n",
      "[581.4298200072883, 573.8289754206959, 629.6868701949761, 258.40958026881617, 496.6279595887097, 489.116892501724, 560.1656355533173, 594.7354555975859, 76.14190898842622, 617.6694881667568, 620.1464516152132, 569.1354473142586]\n",
      "[553.4033169035758, 228.71773015063442, 648.0211241336477, 579.9803108672652, 377.809814440861, 93.23692484012213, 701.3164970145981, 383.81693229466515, 223.62275295079644, 93.23692484012213, 723.1279867193582, 401.2510566903428]\n"
     ]
    }
   ],
   "source": [
    "Reassign_Group_Numeric_Wrong_Values(df, 'Customer_ID', 'Monthly_Balance')"
   ]
  },
  {
   "cell_type": "markdown",
   "id": "6d11cd1a",
   "metadata": {},
   "source": [
    "### Df cleaning is ended"
   ]
  },
  {
   "cell_type": "code",
   "execution_count": null,
   "id": "ad1c98de",
   "metadata": {},
   "outputs": [],
   "source": []
  }
 ],
 "metadata": {
  "kernelspec": {
   "display_name": "Python 3 (ipykernel)",
   "language": "python",
   "name": "python3"
  },
  "language_info": {
   "codemirror_mode": {
    "name": "ipython",
    "version": 3
   },
   "file_extension": ".py",
   "mimetype": "text/x-python",
   "name": "python",
   "nbconvert_exporter": "python",
   "pygments_lexer": "ipython3",
   "version": "3.10.9"
  }
 },
 "nbformat": 4,
 "nbformat_minor": 5
}
